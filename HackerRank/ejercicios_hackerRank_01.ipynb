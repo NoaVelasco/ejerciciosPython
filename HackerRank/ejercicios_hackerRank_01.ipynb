{
 "cells": [
  {
   "cell_type": "markdown",
   "metadata": {},
   "source": [
    "# Nivel fácil\n",
    "\n",
    "## Print function\n",
    "\n",
    "Te dan un número por input y hay que imprimir todos los números del 1 hasta ese número seguidos uno detrás de otro:\n",
    "```\n",
    "n = 7 \n",
    "Output: 1234567\n",
    "```\n",
    "\n",
    "Forma de resolución propuesta en tutorial (Python 2)"
   ]
  },
  {
   "cell_type": "code",
   "execution_count": 3,
   "metadata": {},
   "outputs": [
    {
     "name": "stdout",
     "output_type": "stream",
     "text": [
      "1234567\n"
     ]
    }
   ],
   "source": [
    "from __future__ import print_function\n",
    "\n",
    "\n",
    "n = int(input())\n",
    "print(*range(1, n+1), sep='')\n"
   ]
  },
  {
   "cell_type": "markdown",
   "metadata": {},
   "source": [
    "Propuesta para Python 3"
   ]
  },
  {
   "cell_type": "code",
   "execution_count": 2,
   "metadata": {},
   "outputs": [
    {
     "name": "stdout",
     "output_type": "stream",
     "text": [
      "1234567"
     ]
    }
   ],
   "source": [
    "n = int(input())\n",
    "for i in range(n):\n",
    "    print(i + 1, end=\"\")\n"
   ]
  },
  {
   "cell_type": "markdown",
   "metadata": {},
   "source": [
    "## List comprehension\n",
    "\n",
    "Usando listas de comprensión, tengo que establecer todas las permutaciones posibles entre los números dados en x, y, z de tal manera que no aparezcan aquellas en las que la suma de los 3 dígitos dé como resultado n. "
   ]
  },
  {
   "cell_type": "code",
   "execution_count": 8,
   "metadata": {},
   "outputs": [
    {
     "name": "stdout",
     "output_type": "stream",
     "text": [
      "Las opciones son [0, 1, 2]\n",
      "Las opciones son [0, 1]\n",
      "Las opciones son [0, 1, 2]\n",
      "[[0, 0, 0], [0, 0, 1], [0, 0, 2], [0, 1, 0], [0, 1, 1], [1, 0, 0], [1, 0, 1], [1, 1, 0], [1, 1, 2], [2, 0, 0], [2, 0, 2], [2, 1, 1], [2, 1, 2]]\n"
     ]
    }
   ],
   "source": [
    "x = 2\n",
    "y = 1\n",
    "z = 2\n",
    "n = 3\n",
    "\n",
    "i = [a for a in range(x+1)]\n",
    "j = [a for a in range(y+1)]\n",
    "k = [a for a in range(z+1)]\n",
    "print(f'Las opciones son {i}')\n",
    "print(f'Las opciones son {j}')\n",
    "print(f'Las opciones son {k}')\n",
    "newlist = [[a, b, c] for a in range(x+1) for b in range(y+1) for c in range(z+1) if a+b+c != n]\n",
    "\n",
    "print(newlist)\n"
   ]
  },
  {
   "cell_type": "code",
   "execution_count": 2,
   "metadata": {},
   "outputs": [
    {
     "name": "stdout",
     "output_type": "stream",
     "text": [
      "[['piedra', 'piedra'], ['piedra', 'papel'], ['piedra', 'tijeras'], ['piedra', 'lagarto'], ['piedra', 'Spock'], ['papel', 'piedra'], ['papel', 'papel'], ['papel', 'tijeras'], ['papel', 'lagarto'], ['papel', 'Spock'], ['tijeras', 'piedra'], ['tijeras', 'papel'], ['tijeras', 'tijeras'], ['tijeras', 'lagarto'], ['tijeras', 'Spock']]\n"
     ]
    }
   ],
   "source": [
    "def cartesian(list1, list2):\n",
    "    cartesList = [[a, b] for a in list1 for b in list2]\n",
    "    return cartesList\n",
    "\n",
    "jugador1 = ['piedra', 'papel', 'tijeras']\n",
    "jugador2 = ['piedra', 'papel', 'tijeras', 'lagarto', 'Spock']\n",
    "\n",
    "print(cartesian(jugador1, jugador2))"
   ]
  },
  {
   "cell_type": "code",
   "execution_count": 5,
   "metadata": {},
   "outputs": [
    {
     "name": "stdout",
     "output_type": "stream",
     "text": [
      "{'Zenda': 'maestra', 'Aeric': 'tecnomago', 'Odriel': 'médica'}\n"
     ]
    },
    {
     "data": {
      "text/plain": [
       "dict_items([('Zenda', 'maestra'), ('Aeric', 'tecnomago'), ('Odriel', 'médica')])"
      ]
     },
     "execution_count": 5,
     "metadata": {},
     "output_type": "execute_result"
    }
   ],
   "source": [
    "listaClaves = ['Zenda', 'Aeric', 'Odriel']\n",
    "listaValores = ['maestra', 'tecnomago', 'médica']\n",
    "\n",
    "directorios = {dentroFuera:contenidos for (dentroFuera,contenidos) in zip(listaClaves,listaValores)}\n",
    "print(directorios)\n",
    "\n",
    "directorios.items()\n",
    "\n"
   ]
  },
  {
   "cell_type": "markdown",
   "metadata": {},
   "source": [
    "## El segundo de la clase\n",
    "\n",
    "Se da un número de personas y luego la lista de notas. Hay que hallar entre esas notas cuál es la segunda mejor, teniendo en cuenta que si hay 6, 6 y 5, la segunda mejor nota es el 5, no otro 6. "
   ]
  },
  {
   "cell_type": "code",
   "execution_count": null,
   "metadata": {},
   "outputs": [],
   "source": [
    "n = int(input())\n",
    "arr = map(int, input().split())\n",
    "\n",
    "nums = []\n",
    "for num in arr:\n",
    "    if num not in nums:\n",
    "        nums.append(num)\n",
    "\n",
    "print(sorted(nums)[-2])\n"
   ]
  },
  {
   "cell_type": "markdown",
   "metadata": {},
   "source": [
    "## Los segundones de la clase\n",
    "\n",
    "Se dan unos nombres y unas notas. De esos alumnos, no nos interesa el que más nota tenga (o los que coincidan en la nota más alta), sino quien o quienes tengan la segunda nota más alta. Si son varios, hay que mostrar sus nombres en orden az en líneas separadas."
   ]
  },
  {
   "cell_type": "code",
   "execution_count": 6,
   "metadata": {},
   "outputs": [
    {
     "name": "stdout",
     "output_type": "stream",
     "text": [
      "[['Harry', 36], ['Berry', 39], ['Harsh', 39], ['Akriti', 41], ['Tina', 46.2]]\n",
      "36\n",
      "[['Berry', 39], ['Harsh', 39], ['Akriti', 41], ['Tina', 46.2]]\n",
      "Berry\n",
      "Harsh\n"
     ]
    }
   ],
   "source": [
    "pyStudents = [['Harry', 36], ['Berry', 39], [\n",
    "    'Tina', 46.2], ['Akriti', 41], ['Harsh', 39]]\n",
    "\n",
    "\n",
    "def nota(n):\n",
    "    return n[1]\n",
    "\n",
    "\n",
    "pyStudents.sort(key=nota)\n",
    "\n",
    "print(pyStudents)\n",
    "mejor = pyStudents[0][1]\n",
    "\n",
    "print(mejor)\n",
    "\n",
    "segundones = list(filter(lambda nota: nota[1] != mejor, pyStudents))\n",
    "\n",
    "print(segundones)\n",
    "\n",
    "resultado = [x for x in segundones if x[1] == segundones[0][1]]\n",
    "\n",
    "for i in sorted(resultado):\n",
    "    print(i[0])\n"
   ]
  },
  {
   "cell_type": "markdown",
   "metadata": {},
   "source": [
    "## La media de un alumnos \n",
    "\n",
    "Se da un número de alumnos. Por cada uno, se introduce su nombre y sus 3 notas. El ejercicio consiste en sacar del diccionario sus notas y devolver la media con un decimal de dos dígitos."
   ]
  },
  {
   "cell_type": "code",
   "execution_count": 7,
   "metadata": {},
   "outputs": [
    {
     "name": "stdout",
     "output_type": "stream",
     "text": [
      "56.00\n"
     ]
    }
   ],
   "source": [
    "n = int(input())\n",
    "student_marks = {}\n",
    "for _ in range(n):\n",
    "    name, *line = input().split()\n",
    "    scores = list(map(float, line))\n",
    "    student_marks[name] = scores\n",
    "query_name = input()\n",
    "\n",
    "suma = sum(student_marks[query_name])/3\n",
    "print(f\"{suma:.2f}\")\n",
    "\n",
    "# INPUTS:\n",
    "# 3\n",
    "# Krishna 67 68 69\n",
    "# Malika 52 56 60\n",
    "# Arjun 70 98 63\n",
    "# Malika\n"
   ]
  },
  {
   "cell_type": "markdown",
   "metadata": {},
   "source": [
    "## Swap case\n",
    "\n",
    "Hay que cambiar de minúsculas a mayúsculas y viceversa lo que introduzca un usuario.\n",
    "Esta es mi propuesta:"
   ]
  },
  {
   "cell_type": "code",
   "execution_count": 1,
   "metadata": {},
   "outputs": [
    {
     "name": "stdout",
     "output_type": "stream",
     "text": [
      "pRUEBA LA NUEVA TECNOLOGÍA pOWERsHELL"
     ]
    }
   ],
   "source": [
    "cadena = input()\n",
    "\n",
    "\n",
    "def case(i):\n",
    "  if i.islower():\n",
    "    return i.upper()\n",
    "  else:\n",
    "    return i.lower()\n",
    "\n",
    "\n",
    "for i in cadena:\n",
    "  print(case(i), end='')\n"
   ]
  },
  {
   "cell_type": "markdown",
   "metadata": {},
   "source": [
    "Sin embargo, en el ejercicio NO SE PUEDE MODIFICAR el bloque _if name_, por lo que la chicha está en elaborar la función:"
   ]
  },
  {
   "cell_type": "code",
   "execution_count": 3,
   "metadata": {},
   "outputs": [
    {
     "name": "stdout",
     "output_type": "stream",
     "text": [
      "eSTO ESTABA ESCRITO NORMAL. aHORA ¡no!\n"
     ]
    }
   ],
   "source": [
    "def swap_case(s):\n",
    "    # return → es lo que estaba por defecto.\n",
    "    cadena = []\n",
    "    for i in s:\n",
    "        if i.islower():\n",
    "            cadena.append(i.upper())\n",
    "        else:\n",
    "            cadena.append(i.lower())\n",
    "    return ''.join(cadena)\n",
    "\n",
    "\n",
    "if __name__ == '__main__':\n",
    "    s = input()\n",
    "    result = swap_case(s)\n",
    "    print(result)\n"
   ]
  },
  {
   "cell_type": "markdown",
   "metadata": {},
   "source": [
    "## String split and join\n",
    "Este es una gilipollez y te lo dan hecho. Debería estar antes del anterior, porque te explica el join. Es más, te dice cómo hacer el ejercicio "
   ]
  },
  {
   "cell_type": "code",
   "execution_count": null,
   "metadata": {},
   "outputs": [],
   "source": [
    "def split_and_join(line):\n",
    "    line = line.split(\" \")\n",
    "    line = \"-\".join(line)\n",
    "    return line\n",
    "\n",
    "\n",
    "if __name__ == '__main__':\n",
    "    line = input()\n",
    "    result = split_and_join(line)\n",
    "    print(result)\n"
   ]
  },
  {
   "cell_type": "markdown",
   "metadata": {},
   "source": [
    "## Compare the triplets\n",
    "\n",
    "El ejercicio consiste en proporcionar las 3 reseñas de cada participante y compararlas una contra una. Si una es mejor, da un punto. Si ambas empatan, nadie gana puntos. Al final, el output tiene que reflejar los puntos que ha ganado cada uno. "
   ]
  },
  {
   "cell_type": "code",
   "execution_count": 4,
   "metadata": {},
   "outputs": [
    {
     "name": "stdout",
     "output_type": "stream",
     "text": [
      "2 1\n"
     ]
    }
   ],
   "source": [
    "#!/bin/python3\n",
    "#\n",
    "# Complete the 'compareTriplets' function below.\n",
    "#\n",
    "# The function is expected to return an INTEGER_ARRAY.\n",
    "# The function accepts following parameters:\n",
    "#  1. INTEGER_ARRAY a\n",
    "#  2. INTEGER_ARRAY b\n",
    "#\n",
    "\n",
    "\n",
    "def compareTriplets(a, b):\n",
    "    # Write your code here\n",
    "    apoints = 0\n",
    "    bpoints = 0\n",
    "    tuplazip = zip(a, b)\n",
    "    for i in tuplazip:\n",
    "        if i[0] > i[1]:\n",
    "            apoints += 1\n",
    "        if i[0] < i[1]:\n",
    "            bpoints += 1\n",
    "        else:\n",
    "            pass\n",
    "    return [apoints, bpoints]\n",
    "\n",
    "# Este ya viene dado:\n",
    "if __name__ == '__main__':\n",
    "\n",
    "    a = list(map(int, input().rstrip().split()))\n",
    "\n",
    "    b = list(map(int, input().rstrip().split()))\n",
    "\n",
    "    result = compareTriplets(a, b)\n",
    "\n",
    "    print(' '.join(map(str, result)))\n",
    "\n"
   ]
  },
  {
   "cell_type": "markdown",
   "metadata": {},
   "source": [
    "## Diagonal difference\n",
    "\n",
    "Se da un primer número, que son las filas/columnas de una matriz cuadrada. Hay que calcular la diferencia absoluta de la suma de sus diagonales. Así:\n",
    "\n",
    "3 # El número de filas y columnas del cuadrado.\n",
    "```\n",
    "1 2 3\n",
    "4 5 6\n",
    "9 8 9\n",
    "```\n",
    "Se sumarían 1+5+9 por un lado y 3+5+9 por otro = 15-17 = absoluto 2. "
   ]
  },
  {
   "cell_type": "code",
   "execution_count": 5,
   "metadata": {},
   "outputs": [
    {
     "name": "stdout",
     "output_type": "stream",
     "text": [
      "15\n"
     ]
    }
   ],
   "source": [
    "def diagonalDifference(arr):\n",
    "    # Write your code here\n",
    "    dia1 = 0\n",
    "    dia2 = 0\n",
    "    for ar in arr:\n",
    "        m = arr.index(ar)\n",
    "        dia1 += ar[m]\n",
    "        dia2 += ar[-m-1]\n",
    "    return abs(dia1-dia2)\n",
    "\n",
    "# n = int(input().strip())\n",
    "\n",
    "# arr = []\n",
    "\n",
    "\n",
    "# for _ in range(n):\n",
    "#     arr.append(list(map(int, input().rstrip().split())))\n",
    "arr = [[11, 2, 4], [4, 5, 6], [10, 8, -12]]\n",
    "\n",
    "result = diagonalDifference(arr)\n",
    "\n",
    "print(result)\n"
   ]
  },
  {
   "cell_type": "markdown",
   "metadata": {},
   "source": [
    "## Lists\n",
    "\n",
    "Este me costó comprenderlo bastante. Primero se da un número, que son las órdenes que se darán después. Por cada input, se llevará a cabo una de las 7 posibles acciones que repercutirán en una lista. Así, si el input es \"insert 0 5\", el resultado debe ser que se agrega \"5\" a la lista en la posición 0.  \n",
    "input:  \n",
    "```\n",
    "12\n",
    "insert 0 5\n",
    "insert 1 10\n",
    "insert 0 6\n",
    "print\n",
    "remove 6\n",
    "append 9\n",
    "append 1\n",
    "sort\n",
    "print\n",
    "pop\n",
    "reverse\n",
    "print\n",
    "```\n",
    "output:  \n",
    "```\n",
    "[6, 5, 10]\n",
    "[1, 5, 9, 10]\n",
    "[9, 5, 1]\n",
    "```"
   ]
  },
  {
   "cell_type": "code",
   "execution_count": 4,
   "metadata": {},
   "outputs": [
    {
     "name": "stdout",
     "output_type": "stream",
     "text": [
      "[6, 5, 10]\n",
      "[1, 5, 9, 10]\n",
      "[9, 5, 1]\n"
     ]
    }
   ],
   "source": [
    "N = int(input())\n",
    "\n",
    "def sorting(lista):\n",
    "    lista.sort()\n",
    "    return lista\n",
    "\n",
    "def popping(lista):\n",
    "    lista.pop()\n",
    "    return lista\n",
    "\n",
    "def reversing(lista):\n",
    "    lista.reverse()\n",
    "    return lista\n",
    "\n",
    "def appending(lista, elem):\n",
    "    lista.append(int(elem))\n",
    "    return lista\n",
    "\n",
    "def removing(lista, elem):\n",
    "    lista.remove(int(elem))\n",
    "    return lista\n",
    "\n",
    "def inserting(lista, ind, elem):\n",
    "    lista.insert(int(ind), int(elem))\n",
    "    return lista\n",
    "\n",
    "def printing(lista):\n",
    "    print(lista)\n",
    "\n",
    "list_out = []\n",
    "\n",
    "for i in range(N):\n",
    "    inp = input()\n",
    "    temp = inp.split(\" \")\n",
    "    if temp[0] == \"insert\":\n",
    "        inserting(list_out, temp[1], temp[2])\n",
    "    elif temp[0] == \"remove\":\n",
    "        removing(list_out, temp[1])\n",
    "    elif temp[0] == \"print\":\n",
    "        printing(list_out)\n",
    "    elif temp[0] == \"append\":\n",
    "        appending(list_out, temp[1])\n",
    "    elif temp[0] == \"sort\":\n",
    "        sorting(list_out)\n",
    "    elif temp[0] == \"pop\":\n",
    "        popping(list_out)\n",
    "    elif temp[0] == \"reverse\":\n",
    "        reversing(list_out)\n"
   ]
  },
  {
   "cell_type": "markdown",
   "metadata": {},
   "source": [
    "Me preguntaba si habría alguna manera de que la propia palabra del input sirviera para llamar a una función: insert -> insert(). Al parecer, aquí usan getattr(). Puede ser interesante. "
   ]
  },
  {
   "cell_type": "code",
   "execution_count": null,
   "metadata": {},
   "outputs": [],
   "source": [
    "T = int(input().strip())\n",
    "L = []\n",
    "for t in range(T):\n",
    "    args = input().strip().split(\" \")\n",
    "    if args[0] == \"print\":\n",
    "        print(L)\n",
    "    elif len(args) == 3:\n",
    "        getattr(L, args[0])(int(args[1]), int(args[2]))\n",
    "    elif len(args) == 2:\n",
    "        getattr(L, args[0])(int(args[1]))\n",
    "    else:\n",
    "        getattr(L, args[0])()\n"
   ]
  },
  {
   "cell_type": "markdown",
   "metadata": {},
   "source": [
    "## Tuples hash\n",
    "Este se ve que había cambiado la función hash desde Python 2. Y ha sido una gilipollez."
   ]
  },
  {
   "cell_type": "code",
   "execution_count": 7,
   "metadata": {},
   "outputs": [
    {
     "name": "stdout",
     "output_type": "stream",
     "text": [
      "7407538979007996017\n"
     ]
    }
   ],
   "source": [
    "if __name__ == '__main__':\n",
    "    n = int(input())\n",
    "    integer_list = map(int, input().split())\n",
    "    tupla = tuple(integer_list)\n",
    "    print(hash(tupla))\n"
   ]
  },
  {
   "cell_type": "markdown",
   "metadata": {},
   "source": [
    "## Introducción a sets\n",
    "\n",
    "Debo calcular la media (average) de una lista, pero como deben ser valores únicos, me tengo que asegurar convirtiéndola en un set."
   ]
  },
  {
   "cell_type": "code",
   "execution_count": 9,
   "metadata": {},
   "outputs": [
    {
     "name": "stdout",
     "output_type": "stream",
     "text": [
      "169.375\n"
     ]
    }
   ],
   "source": [
    "def average(array):\n",
    "    # your code goes here\n",
    "    unicArray = set(array)\n",
    "    return round(sum(unicArray)/len(unicArray), 3)\n",
    "\n",
    "\n",
    "if __name__ == '__main__':\n",
    "    n = int(input())\n",
    "    integers = map(int, input().split())\n",
    "    \n",
    "    print(average(integers))\n"
   ]
  },
  {
   "cell_type": "markdown",
   "metadata": {},
   "source": [
    "## Symmetric Difference\n",
    "\n",
    "Recibiendo como inputs 2 sets, tengo que mostrar los valores que no se encuentran en ninguno. Esto se conoce como diferencia simétrica. El output debe mostrarse en orden ascendente."
   ]
  },
  {
   "cell_type": "code",
   "execution_count": 12,
   "metadata": {},
   "outputs": [
    {
     "name": "stdout",
     "output_type": "stream",
     "text": [
      "5\n",
      "9\n",
      "11\n",
      "12\n"
     ]
    }
   ],
   "source": [
    "m_first = int(input())\n",
    "m_integers = set(map(int, input().split()))\n",
    "n_first = int(input())\n",
    "n_integers = set(map(int, input().split()))\n",
    "\n",
    "finset = m_integers.symmetric_difference(n_integers)\n",
    "finlist = sorted(finset)\n",
    "for i in finlist:\n",
    "    print(i)\n"
   ]
  },
  {
   "cell_type": "markdown",
   "metadata": {},
   "source": [
    "## No idea!\n",
    "\n",
    "Pues casi es lo que me sucede cuando leo el enunciado. Me parece absurdo eso de poner un input con los números que van a introducirse después. Pero bueno... \n",
    "\n",
    "Me van a dar un array y dos sets. Si los números coinciden con mi set 1, sube mi alegría. Si coinciden con el set 2, baja. "
   ]
  },
  {
   "cell_type": "code",
   "execution_count": 13,
   "metadata": {},
   "outputs": [
    {
     "name": "stdout",
     "output_type": "stream",
     "text": [
      "1\n"
     ]
    }
   ],
   "source": [
    "nm = map(int, input().split())\n",
    "mArray = map(int, input().split())\n",
    "setA = set(map(int, input().split()))\n",
    "setB = set(map(int, input().split()))\n",
    "\n",
    "happiness = 0\n",
    "for n in mArray:\n",
    "    if n in setA:\n",
    "        happiness += 1\n",
    "    if n in setB:\n",
    "        happiness -= 1\n",
    "\n",
    "print(happiness)\n"
   ]
  },
  {
   "cell_type": "markdown",
   "metadata": {},
   "source": [
    "## Set .add()\n",
    "\n",
    "Se da una cantidad que es el número de elementos que se van a dar por input. Ya que habrá repetidos, el output tiene que ser el número de elementos únicos que se han dado. \n"
   ]
  },
  {
   "cell_type": "code",
   "execution_count": 14,
   "metadata": {},
   "outputs": [
    {
     "name": "stdout",
     "output_type": "stream",
     "text": [
      "5\n"
     ]
    }
   ],
   "source": [
    "nm = int(input())\n",
    "paises = set()\n",
    "for i in range(nm):\n",
    "    paises.add(input())\n",
    "    \n",
    "print(len(paises))"
   ]
  },
  {
   "cell_type": "markdown",
   "metadata": {},
   "source": [
    "## Set .discard() .remove() & .pop()\n",
    "Como las operaciones de listas, pero con sets.  \n",
    "\n",
    "Como me equivoqué con sum/len, al final metí excepciones innecesarias y todo."
   ]
  },
  {
   "cell_type": "code",
   "execution_count": null,
   "metadata": {},
   "outputs": [],
   "source": [
    "# n = int(input())\n",
    "# s = set(map(int, input().split()))\n",
    "# nComandos = int(input())\n",
    "\n",
    "n = 9\n",
    "s = {1, 2, 3, 4, 5, 6, 7, 8, 9}\n",
    "nComandos = 10\n",
    "\n",
    "# for time in range(nComandos):\n",
    "#     cmd = input().split()\n",
    "cmds = [['pop'],\n",
    "        ['remove', '9'],\n",
    "        ['discard', '9'],\n",
    "        ['discard', '8'],\n",
    "        ['remove', '7'],\n",
    "        ['pop'],\n",
    "        ['discard', '6'],\n",
    "        ['remove', '5'],\n",
    "        ['pop'],\n",
    "        ['discard', '5']]\n",
    "for cmd in cmds:\n",
    "    if 'pop' in cmd:\n",
    "        try:\n",
    "            x=s.pop()\n",
    "        except KeyError:\n",
    "            continue\n",
    "        finally:\n",
    "            print(x)\n",
    "            print(s)\n",
    "    if 'remove' in cmd:\n",
    "        try:\n",
    "            s.remove(int(cmd[1]))\n",
    "        except KeyError:\n",
    "            continue\n",
    "        finally:\n",
    "            print(s)\n",
    "    if 'discard' in cmd:\n",
    "        try:\n",
    "            s.discard(int(cmd[1]))\n",
    "        except KeyError:\n",
    "            continue\n",
    "        finally:\n",
    "            print(s)\n",
    "\n",
    "print(sum(s))\n"
   ]
  },
  {
   "cell_type": "markdown",
   "metadata": {},
   "source": [
    "Pensé que set.pop() quitaba el último elemento o uno aleatorio. Resulta que no. En Python 3 al menos va quitando del principio. ¿Cómo te quedas?\n",
    "\n",
    "Una solución dada:"
   ]
  },
  {
   "cell_type": "code",
   "execution_count": 29,
   "metadata": {},
   "outputs": [
    {
     "name": "stdout",
     "output_type": "stream",
     "text": [
      "4\n"
     ]
    }
   ],
   "source": [
    "n = int(input())\n",
    "s = set(map(int, input().split()))\n",
    "for _ in range(int(input())):\n",
    "    cmd = input().split()\n",
    "    if cmd[0] == 'pop':\n",
    "        s.pop()\n",
    "    elif cmd[0] == 'discard':\n",
    "        s.discard(int(cmd[1]))\n",
    "    else:\n",
    "        s.remove(int(cmd[1]))\n",
    "\n",
    "print(sum(s))\n"
   ]
  }
 ],
 "metadata": {
  "interpreter": {
   "hash": "70807c458cb79526e58bd7650fcaa45a7eca9b73b92f10a18efc123baaaec859"
  },
  "kernelspec": {
   "display_name": "Python 3.10.2 64-bit",
   "language": "python",
   "name": "python3"
  },
  "language_info": {
   "codemirror_mode": {
    "name": "ipython",
    "version": 3
   },
   "file_extension": ".py",
   "mimetype": "text/x-python",
   "name": "python",
   "nbconvert_exporter": "python",
   "pygments_lexer": "ipython3",
   "version": "3.10.2"
  },
  "orig_nbformat": 4
 },
 "nbformat": 4,
 "nbformat_minor": 2
}
