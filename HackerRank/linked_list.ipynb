{
 "cells": [
  {
   "cell_type": "markdown",
   "metadata": {},
   "source": [
    "# Listas enlazadas\n",
    "\n",
    "Paso 1: las clases de nodo y lista (adaptadas para los ejercicios de HackerRank)"
   ]
  },
  {
   "cell_type": "code",
   "execution_count": 3,
   "metadata": {},
   "outputs": [
    {
     "name": "stdout",
     "output_type": "stream",
     "text": [
      "0\n",
      "1\n",
      "2\n",
      "3\n",
      "0\n",
      "1\n",
      "4\n",
      "7\n"
     ]
    }
   ],
   "source": [
    "class SinglyLinkedListNode:\n",
    "    def __init__(self, data):\n",
    "        self.data = data\n",
    "        self.next = None\n",
    "\n",
    "\n",
    "class SinglyLinkedList:\n",
    "    def __init__(self):\n",
    "        self.head = None\n",
    "        # self.size = 0\n",
    "\n",
    "    def printLinkedList(self):\n",
    "        current = self.head\n",
    "        while current:\n",
    "            print(current.data)\n",
    "            current = current.next\n",
    "\n",
    "    def insertNode(self, data):\n",
    "        new_node = SinglyLinkedListNode(data)\n",
    "        if self.head is None:\n",
    "            self.head = new_node\n",
    "        else:\n",
    "            current = self.head\n",
    "            while current.next != None:\n",
    "                current = current.next\n",
    "            current.next = new_node\n",
    "        # self.size += 1\n",
    "\n",
    "    def insertNodeAtHead(self, data):\n",
    "        new_head = SinglyLinkedListNode(data)\n",
    "        old_head = self.head\n",
    "        self.head = new_head\n",
    "        if old_head is not None:\n",
    "            new_head.next = old_head\n",
    "\n",
    "    def insertNodeAtPosition(self, data, position):\n",
    "        new_node = SinglyLinkedListNode(data)\n",
    "        if self.head is None:\n",
    "            self.head = new_node\n",
    "        else:\n",
    "            current = self.head\n",
    "            for _ in range(position-1):\n",
    "                current = current.next\n",
    "            new_node.next = current.next\n",
    "            current.next = new_node\n",
    "\n",
    "    def deleteNode(self, position):\n",
    "        if position == 0:\n",
    "            self.head = self.head.next\n",
    "        current = self.head\n",
    "        for _ in range(position-1):\n",
    "            current = current.next\n",
    "        current.next = current.next.next\n",
    "\n",
    "llist = SinglyLinkedList()\n",
    "llist.insertNode(1)\n",
    "llist.insertNode(3)\n",
    "llist.insertNodeAtHead(0)\n",
    "llist.insertNodeAtPosition(2,2)\n",
    "llist.printLinkedList()\n",
    "\n",
    "otra_llist = SinglyLinkedList()\n",
    "otra_llist.insertNodeAtHead(0)\n",
    "otra_llist.insertNode(1)\n",
    "otra_llist.insertNode(4)\n",
    "otra_llist.insertNode(7)\n",
    "# otra_llist.deleteNode(3)\n",
    "otra_llist.printLinkedList()\n"
   ]
  },
  {
   "cell_type": "markdown",
   "metadata": {},
   "source": [
    "## Comparación de listas"
   ]
  },
  {
   "cell_type": "code",
   "execution_count": 54,
   "metadata": {},
   "outputs": [
    {
     "data": {
      "text/plain": [
       "0"
      ]
     },
     "execution_count": 54,
     "metadata": {},
     "output_type": "execute_result"
    }
   ],
   "source": [
    "def compare_lists_iter(llist1, llist2):\n",
    "    while True:\n",
    "        if not llist1 and not llist2:\n",
    "            return 1\n",
    "        elif not llist1 or not llist2:\n",
    "            return 0\n",
    "        elif llist1.data != llist2.data:\n",
    "            return 0\n",
    "        llist1, llist2 = llist1.next, llist2.next\n",
    "\n",
    "compare_lists_iter(llist.head, otra_llist.head)\n"
   ]
  },
  {
   "cell_type": "code",
   "execution_count": 55,
   "metadata": {},
   "outputs": [
    {
     "data": {
      "text/plain": [
       "0"
      ]
     },
     "execution_count": 55,
     "metadata": {},
     "output_type": "execute_result"
    }
   ],
   "source": [
    "def compare_lists_itr2(llist1, llist2):\n",
    "    while llist1 and llist2:\n",
    "        if llist1.data != llist2.data:\n",
    "            return 0\n",
    "        llist1, llist2 = llist1.next, llist2.next\n",
    "    if llist1 == llist2 == None:\n",
    "        return 1\n",
    "    return 0\n",
    "\n",
    "compare_lists_itr2(llist.head, otra_llist.head)\n"
   ]
  },
  {
   "cell_type": "code",
   "execution_count": 56,
   "metadata": {},
   "outputs": [
    {
     "data": {
      "text/plain": [
       "0"
      ]
     },
     "execution_count": 56,
     "metadata": {},
     "output_type": "execute_result"
    }
   ],
   "source": [
    "def compare_lists_itr3(llist1, llist2):\n",
    "    while (llist1 and llist2) and (llist1.data == llist2.data):\n",
    "        llist1, llist2 = llist1.next, llist2.next\n",
    "    if llist1 == llist2 == None:\n",
    "        return 1\n",
    "    return 0\n",
    "\n",
    "compare_lists_itr3(llist.head, otra_llist.head)\n"
   ]
  },
  {
   "cell_type": "markdown",
   "metadata": {},
   "source": [
    "Esta es la versión recursiva de la comunidad:"
   ]
  },
  {
   "cell_type": "code",
   "execution_count": 57,
   "metadata": {},
   "outputs": [
    {
     "data": {
      "text/plain": [
       "0"
      ]
     },
     "execution_count": 57,
     "metadata": {},
     "output_type": "execute_result"
    }
   ],
   "source": [
    "def compare_lists_rec(ll1, ll2):\n",
    "    if ll1.data == ll2.data and ll1.next == ll2.next == None:\n",
    "        return 1\n",
    "    elif ll1.data == ll2.data and None not in (ll1.next, ll2.next):\n",
    "        return compare_lists_rec(ll1.next, ll2.next)\n",
    "    return 0\n",
    "\n",
    "compare_lists_rec(llist.head, otra_llist.head)\n"
   ]
  },
  {
   "cell_type": "markdown",
   "metadata": {},
   "source": [
    "## Fusión de listas\n",
    "\n",
    "El enunciado tiene fallos y no sé exactamente lo que quieren que haga. En principio, parece que ordenar los valores de ambas listas: \n"
   ]
  },
  {
   "cell_type": "code",
   "execution_count": 9,
   "metadata": {},
   "outputs": [],
   "source": [
    "# def mergeLists(head1, head2):\n",
    "#     if head1.data <= head2.data:\n",
    "#         finlist, templnode = head1, head2\n",
    "#     else:\n",
    "#         finlist, templnode = head2, head1\n",
    "#     finlnode = finlist\n",
    "#     newnode = finlnode.next\n",
    "\n",
    "#     while finlnode and templnode:\n",
    "#         if newnode.data <= templnode.data:\n",
    "#             finlnode = finlnode.next\n",
    "#             newnode = finlnode.next\n",
    "#         else:\n",
    "#             finlnode.next = templnode\n",
    "#             templnode = templnode.next\n",
    "\n",
    "#     if not finlnode:\n",
    "#         finlnode = templnode\n",
    "#     return finlist\n",
    "\n",
    "\n",
    "# mergeLists(llist.head, otra_llist.head)\n"
   ]
  },
  {
   "cell_type": "markdown",
   "metadata": {},
   "source": [
    "Soluciones comunidad:"
   ]
  },
  {
   "cell_type": "code",
   "execution_count": null,
   "metadata": {},
   "outputs": [],
   "source": [
    "def mergeLists(head1, head2):\n",
    "    node1, node2 = head1, head2\n",
    "    dummy = SinglyLinkedListNode(0)\n",
    "    nHead = dummy\n",
    "\n",
    "    while node1 and node2:\n",
    "        if node1.data > node2.data:\n",
    "            dummy.next = node2\n",
    "            node2 = node2.next\n",
    "        else:\n",
    "            dummy.next = node1\n",
    "            node1 = node1.next\n",
    "\n",
    "        dummy = dummy.next\n",
    "\n",
    "    if node1:\n",
    "        dummy.next = node1\n",
    "    if node2:\n",
    "        dummy.next = node2\n",
    "\n",
    "    return nHead.next\n"
   ]
  },
  {
   "cell_type": "code",
   "execution_count": null,
   "metadata": {},
   "outputs": [],
   "source": [
    "def mergeLists(head1, head2):\n",
    "    if head1 == None:\n",
    "        return head2\n",
    "    if head2 == None:\n",
    "        return head1\n",
    "    if head1.data < head2.data:\n",
    "        start = head1\n",
    "        (this, other) = (head1, head2)\n",
    "    else:\n",
    "        start = head2\n",
    "        (this, other) = (head2, head1)\n",
    "    while other != None:\n",
    "        if this.next != None and this.next.data < other.data:\n",
    "            this = this.next\n",
    "        else:\n",
    "            (this.next, this) = (other, this.next)\n",
    "            (this, other) = (other, this)\n",
    "    return start\n"
   ]
  },
  {
   "cell_type": "code",
   "execution_count": null,
   "metadata": {},
   "outputs": [],
   "source": [
    "def mergeLists(headA, headB):\n",
    "  if headA is None:\n",
    "    return headB\n",
    "\n",
    "  if headB is None:\n",
    "    return headA\n",
    "\n",
    "  if headA.data < headB.data:\n",
    "    smallerNode = headA\n",
    "    smallerNode.next = mergeLists(headA.next, headB)\n",
    "  else:\n",
    "    smallerNode = headB\n",
    "    smallerNode.next = mergeLists(headA, headB.next)\n",
    "\n",
    "  return smallerNode\n"
   ]
  },
  {
   "cell_type": "markdown",
   "metadata": {},
   "source": [
    "Bua, qué mierda, tío. Soy pésimo. Voy a tener que hacerlo a lo cutre.\n",
    "\n",
    "No pasa nada, Noa. Estás aprendiendo. Solo hazlo."
   ]
  },
  {
   "cell_type": "code",
   "execution_count": 6,
   "metadata": {},
   "outputs": [
    {
     "name": "stdout",
     "output_type": "stream",
     "text": [
      "0\n",
      "0\n",
      "1\n",
      "1\n",
      "2\n",
      "3\n",
      "4\n",
      "7\n"
     ]
    }
   ],
   "source": [
    "def mergeLists(head1, head2):\n",
    "    templist = []\n",
    "    current = head1\n",
    "    while current:\n",
    "        templist.append(current.data)\n",
    "        current = current.next\n",
    "    current = head2\n",
    "    while current:\n",
    "        templist.append(current.data)\n",
    "        current = current.next\n",
    "\n",
    "    new_llist = SinglyLinkedList()\n",
    "    for i in sorted(templist):\n",
    "        new_llist.insertNode(i)  # insert_node() en HR\n",
    "    # new_llist.printLinkedList()\n",
    "    return new_llist.head\n",
    "\n",
    "mergeLists(llist.head, otra_llist.head)"
   ]
  },
  {
   "cell_type": "code",
   "execution_count": null,
   "metadata": {},
   "outputs": [],
   "source": []
  }
 ],
 "metadata": {
  "kernelspec": {
   "display_name": "Python 3",
   "language": "python",
   "name": "python3"
  },
  "language_info": {
   "codemirror_mode": {
    "name": "ipython",
    "version": 3
   },
   "file_extension": ".py",
   "mimetype": "text/x-python",
   "name": "python",
   "nbconvert_exporter": "python",
   "pygments_lexer": "ipython3",
   "version": "3.10.2"
  },
  "orig_nbformat": 4
 },
 "nbformat": 4,
 "nbformat_minor": 2
}
