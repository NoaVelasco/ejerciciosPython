{
 "cells": [
  {
   "cell_type": "markdown",
   "metadata": {},
   "source": [
    "# Ejercicios Sololearn\n",
    "\n",
    "Voy a ir añadiendo aquí los ejercicios, retos y ocurrencias a partir de lo que veo por la app de Sololearn."
   ]
  },
  {
   "cell_type": "markdown",
   "metadata": {},
   "source": [
    "### List operations\n",
    "> Un programa que coja un número como input. Reasignar el elemento con ese index en la lista al valor x y devolver la lista actualizada. \n",
    "\n",
    "Ya, yo tampoco he entendido nada. Pone un ejemplo:\n",
    "la lista:\n",
    "num = [1, 2, 3, 4, 5]\n",
    "input: 3\n",
    "output: [1, 2, 3, \"x\", 5]\n",
    "\n",
    "Así que la idea es que el input es el n.º index de la lista y lo que haya ahí hay que sustituirlo por \"x\"."
   ]
  },
  {
   "cell_type": "code",
   "execution_count": 5,
   "metadata": {},
   "outputs": [
    {
     "name": "stdout",
     "output_type": "stream",
     "text": [
      "[1, 2, 3, 4, 'x']\n"
     ]
    }
   ],
   "source": [
    "nums = [1, 2, 3, 4, 5]\n",
    "x = \"x\"\n",
    "pos=int(input(\"Escribe la posición del 1 al 5\"))-1\n",
    "\n",
    "nums[pos]=x\n",
    "print(nums)"
   ]
  },
  {
   "cell_type": "markdown",
   "metadata": {},
   "source": [
    "La solución de un usuario es igual, pero sin crear una variable para \"x\"; lógico."
   ]
  },
  {
   "cell_type": "code",
   "execution_count": null,
   "metadata": {},
   "outputs": [],
   "source": [
    "items=[1, 2, 3, 4, 5, 6, 7, 8, 9, 10]\n",
    "input=int(input())\n",
    "items[input]=\"x\"\n",
    "print(items)"
   ]
  },
  {
   "cell_type": "markdown",
   "metadata": {},
   "source": [
    "---\n",
    "### Tuition discounts\n",
    "> La universidad da descuentos en las matrículas dependiendo del rendimiento.\n",
    "```\n",
    "90-100 -> 50%\n",
    "80-89 -> 30%\n",
    "70-79 -> 10%\n",
    "0-69 -> 0%\n",
    "```\n",
    "> Escribe un programa que coja las puntuaciones del primer y segundo semestres, calcula la media y devuelve el resultado del porcentaje según el resultado. "
   ]
  },
  {
   "cell_type": "code",
   "execution_count": 9,
   "metadata": {},
   "outputs": [
    {
     "name": "stdout",
     "output_type": "stream",
     "text": [
      "50%\n",
      "99.0\n"
     ]
    }
   ],
   "source": [
    "x=int(input())\n",
    "y=int(input())\n",
    "media=(x+y)/2\n",
    "\n",
    "if media > 69:\n",
    "    if media < 80:\n",
    "        print(\"10%\")\n",
    "    elif media < 90:\n",
    "        print(\"30%\")\n",
    "    elif media < 101:\n",
    "        print(\"50%\")\n",
    "else:\n",
    "    print(\"0%\")\n",
    "    \n",
    "print(media)"
   ]
  },
  {
   "cell_type": "markdown",
   "metadata": {},
   "source": [
    "---\n",
    "### Bingo\n",
    "> Con una lista de números, devuelve bingo si contiene el número input."
   ]
  },
  {
   "cell_type": "code",
   "execution_count": 13,
   "metadata": {},
   "outputs": [
    {
     "name": "stdout",
     "output_type": "stream",
     "text": [
      "Bingo\n"
     ]
    }
   ],
   "source": [
    "lista=[31, 22, 13, 44, 15, 65, 71, 83, 59, 10]\n",
    "juega=int(input())\n",
    "if juega in lista:\n",
    "    print(\"Bingo\")"
   ]
  },
  {
   "cell_type": "markdown",
   "metadata": {},
   "source": [
    "--- \n",
    "### Pattern with loops\n",
    "\n",
    "Crear este patrón con loops:\n",
    "```\n",
    "*\n",
    "**\n",
    "***\n",
    "**\n",
    "*\n",
    "```"
   ]
  },
  {
   "cell_type": "code",
   "execution_count": 22,
   "metadata": {},
   "outputs": [
    {
     "name": "stdout",
     "output_type": "stream",
     "text": [
      "\n",
      "*\n",
      "**\n",
      "***\n",
      "****\n",
      "*****\n",
      "******\n",
      "*******\n",
      "********\n",
      "*******\n",
      "******\n",
      "*****\n",
      "****\n",
      "***\n",
      "**\n",
      "*\n"
     ]
    }
   ],
   "source": [
    "contador=0\n",
    "patron=\"*********\"\n",
    "indexpat=0\n",
    "\n",
    "while contador < 16:\n",
    "    if contador < 8:\n",
    "        print(patron[:indexpat])\n",
    "        contador += 1\n",
    "        indexpat +=1\n",
    "    else:\n",
    "        print(patron[:indexpat])\n",
    "        indexpat -= 1\n",
    "        contador += 1"
   ]
  },
  {
   "cell_type": "markdown",
   "metadata": {},
   "source": [
    "---\n",
    "# Code coach\n",
    "## Funciones de lista\n",
    "### The middle element\n",
    "\n",
    "> Given a list, calculate the middle element's index."
   ]
  },
  {
   "cell_type": "code",
   "execution_count": 25,
   "metadata": {},
   "outputs": [
    {
     "name": "stdout",
     "output_type": "stream",
     "text": [
      "15\n"
     ]
    }
   ],
   "source": [
    "lista = [31, 22, 13, 44, 15, 65, 71, 83, 59]\n",
    "medio = int(len(lista)/2)\n",
    "print(lista[medio])"
   ]
  },
  {
   "cell_type": "markdown",
   "metadata": {},
   "source": [
    "### Minimum And Maximum\n",
    "\n",
    "> Write a program to calculate and output the sum of maximum and minimum items of the given list."
   ]
  },
  {
   "cell_type": "code",
   "execution_count": 27,
   "metadata": {},
   "outputs": [
    {
     "name": "stdout",
     "output_type": "stream",
     "text": [
      "10 + 83 = 93\n"
     ]
    }
   ],
   "source": [
    "lista = [31, 22, 13, 44, 15, 65, 71, 83, 59, 10]\n",
    "x = min(lista)\n",
    "y = max(lista)\n",
    "print(x, \"+\", y, \"=\", x+y)"
   ]
  },
  {
   "cell_type": "markdown",
   "metadata": {},
   "source": [
    "## while loops\n",
    "### Call It Even\n",
    "\n",
    "> Change the code to make it output only the even numbers from a given range."
   ]
  },
  {
   "cell_type": "code",
   "execution_count": null,
   "metadata": {},
   "outputs": [],
   "source": [
    "total=0\n",
    "# Con while\n",
    "while total <= 40:\n",
    "    if total%2==0:\n",
    "        print(total)\n",
    "        total += 1\n",
    "    else:\n",
    "        total += 1\n",
    "    \n",
    "print(\"terminado\")"
   ]
  },
  {
   "cell_type": "code",
   "execution_count": null,
   "metadata": {},
   "outputs": [],
   "source": [
    "# con for\n",
    "for i in range(0, 41, 2):\n",
    "   print(i)\n",
    "   \n",
    "print(\"terminado\")"
   ]
  },
  {
   "cell_type": "markdown",
   "metadata": {},
   "source": [
    "### Summing Digits\n",
    "\n",
    "> Let's change the code to calculate and output the sum of all digits of the input number."
   ]
  },
  {
   "cell_type": "markdown",
   "metadata": {},
   "source": [
    "### Free Stuff!\n",
    "\n",
    "> A shop is running a promotion today! If an item's price is an odd number, you get that item for free! Change the code to skip the odd prices ...\n",
    "\n"
   ]
  },
  {
   "cell_type": "markdown",
   "metadata": {},
   "source": [
    " "
   ]
  }
 ],
 "metadata": {
  "interpreter": {
   "hash": "70807c458cb79526e58bd7650fcaa45a7eca9b73b92f10a18efc123baaaec859"
  },
  "kernelspec": {
   "display_name": "Python 3.10.2 64-bit",
   "language": "python",
   "name": "python3"
  },
  "language_info": {
   "codemirror_mode": {
    "name": "ipython",
    "version": 3
   },
   "file_extension": ".py",
   "mimetype": "text/x-python",
   "name": "python",
   "nbconvert_exporter": "python",
   "pygments_lexer": "ipython3",
   "version": "3.10.2"
  },
  "orig_nbformat": 4
 },
 "nbformat": 4,
 "nbformat_minor": 2
}
