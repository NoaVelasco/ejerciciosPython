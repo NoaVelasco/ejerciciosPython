{
 "cells": [
  {
   "cell_type": "markdown",
   "metadata": {},
   "source": [
    "# Ejercicios Sololearn\n",
    "\n",
    "Voy a ir añadiendo aquí los ejercicios, retos y ocurrencias a partir de lo que veo por la app de Sololearn."
   ]
  },
  {
   "cell_type": "markdown",
   "metadata": {},
   "source": [
    "### List operations\n",
    "> Un programa que coja un número como input. Reasignar el elemento con ese index en la lista al valor x y devolver la lista actualizada. \n",
    "\n",
    "Ya, yo tampoco he entendido nada. Pone un ejemplo:\n",
    "la lista:\n",
    "num = [1, 2, 3, 4, 5]\n",
    "input: 3\n",
    "output: [1, 2, 3, \"x\", 5]\n",
    "\n",
    "Así que la idea es que el input es el n.º index de la lista y lo que haya ahí hay que sustituirlo por \"x\"."
   ]
  },
  {
   "cell_type": "code",
   "execution_count": 5,
   "metadata": {},
   "outputs": [
    {
     "name": "stdout",
     "output_type": "stream",
     "text": [
      "[1, 2, 3, 4, 'x']\n"
     ]
    }
   ],
   "source": [
    "nums = [1, 2, 3, 4, 5]\n",
    "x = \"x\"\n",
    "pos=int(input(\"Escribe la posición del 1 al 5\"))-1\n",
    "\n",
    "nums[pos]=x\n",
    "print(nums)"
   ]
  },
  {
   "cell_type": "markdown",
   "metadata": {},
   "source": [
    "La solución de un usuario es igual, pero sin crear una variable para \"x\"; lógico."
   ]
  },
  {
   "cell_type": "code",
   "execution_count": null,
   "metadata": {},
   "outputs": [],
   "source": [
    "items=[1, 2, 3, 4, 5, 6, 7, 8, 9, 10]\n",
    "input=int(input())\n",
    "items[input]=\"x\"\n",
    "print(items)"
   ]
  },
  {
   "cell_type": "markdown",
   "metadata": {},
   "source": [
    "---\n",
    "### Tuition discounts\n",
    "> La universidad da descuentos en las matrículas dependiendo del rendimiento.\n",
    "```\n",
    "90-100 -> 50%\n",
    "80-89 -> 30%\n",
    "70-79 -> 10%\n",
    "0-69 -> 0%\n",
    "```\n",
    "> Escribe un programa que coja las puntuaciones del primer y segundo semestres, calcula la media y devuelve el resultado del porcentaje según el resultado. "
   ]
  },
  {
   "cell_type": "code",
   "execution_count": 9,
   "metadata": {},
   "outputs": [
    {
     "name": "stdout",
     "output_type": "stream",
     "text": [
      "50%\n",
      "99.0\n"
     ]
    }
   ],
   "source": [
    "x=int(input())\n",
    "y=int(input())\n",
    "media=(x+y)/2\n",
    "\n",
    "if media > 69:\n",
    "    if media < 80:\n",
    "        print(\"10%\")\n",
    "    elif media < 90:\n",
    "        print(\"30%\")\n",
    "    elif media < 101:\n",
    "        print(\"50%\")\n",
    "else:\n",
    "    print(\"0%\")\n",
    "    \n",
    "print(media)"
   ]
  },
  {
   "cell_type": "markdown",
   "metadata": {},
   "source": [
    "---\n",
    "### Bingo\n",
    "> Con una lista de números, devuelve bingo si contiene el número input."
   ]
  },
  {
   "cell_type": "code",
   "execution_count": 13,
   "metadata": {},
   "outputs": [
    {
     "name": "stdout",
     "output_type": "stream",
     "text": [
      "Bingo\n"
     ]
    }
   ],
   "source": [
    "lista=[31, 22, 13, 44, 15, 65, 71, 83, 59, 10]\n",
    "juega=int(input())\n",
    "if juega in lista:\n",
    "    print(\"Bingo\")"
   ]
  },
  {
   "cell_type": "markdown",
   "metadata": {},
   "source": [
    "--- \n",
    "### Pattern with loops\n",
    "\n",
    "Crear este patrón con loops:\n",
    "```\n",
    "*\n",
    "**\n",
    "***\n",
    "**\n",
    "*\n",
    "```"
   ]
  },
  {
   "cell_type": "code",
   "execution_count": 22,
   "metadata": {},
   "outputs": [
    {
     "name": "stdout",
     "output_type": "stream",
     "text": [
      "\n",
      "*\n",
      "**\n",
      "***\n",
      "****\n",
      "*****\n",
      "******\n",
      "*******\n",
      "********\n",
      "*******\n",
      "******\n",
      "*****\n",
      "****\n",
      "***\n",
      "**\n",
      "*\n"
     ]
    }
   ],
   "source": [
    "contador=0\n",
    "patron=\"*********\"\n",
    "indexpat=0\n",
    "\n",
    "while contador < 16:\n",
    "    if contador < 8:\n",
    "        print(patron[:indexpat])\n",
    "        contador += 1\n",
    "        indexpat +=1\n",
    "    else:\n",
    "        print(patron[:indexpat])\n",
    "        indexpat -= 1\n",
    "        contador += 1"
   ]
  },
  {
   "cell_type": "markdown",
   "metadata": {},
   "source": [
    "---\n",
    "# Code coach\n",
    "## Funciones de lista\n",
    "### The middle element\n",
    "\n",
    "> Given a list, calculate the middle element's index."
   ]
  },
  {
   "cell_type": "code",
   "execution_count": 25,
   "metadata": {},
   "outputs": [
    {
     "name": "stdout",
     "output_type": "stream",
     "text": [
      "15\n"
     ]
    }
   ],
   "source": [
    "lista = [31, 22, 13, 44, 15, 65, 71, 83, 59]\n",
    "medio = int(len(lista)/2)\n",
    "print(lista[medio])"
   ]
  },
  {
   "cell_type": "markdown",
   "metadata": {},
   "source": [
    "### Minimum And Maximum\n",
    "\n",
    "> Write a program to calculate and output the sum of maximum and minimum items of the given list."
   ]
  },
  {
   "cell_type": "code",
   "execution_count": 27,
   "metadata": {},
   "outputs": [
    {
     "name": "stdout",
     "output_type": "stream",
     "text": [
      "10 + 83 = 93\n"
     ]
    }
   ],
   "source": [
    "lista = [31, 22, 13, 44, 15, 65, 71, 83, 59, 10]\n",
    "x = min(lista)\n",
    "y = max(lista)\n",
    "print(x, \"+\", y, \"=\", x+y)"
   ]
  },
  {
   "cell_type": "markdown",
   "metadata": {},
   "source": [
    "## while loops\n",
    "### Call It Even\n",
    "\n",
    "> Change the code to make it output only the even numbers from a given range."
   ]
  },
  {
   "cell_type": "code",
   "execution_count": null,
   "metadata": {},
   "outputs": [],
   "source": [
    "total=0\n",
    "# Con while\n",
    "while total <= 40:\n",
    "    if total%2==0:\n",
    "        print(total)\n",
    "        total += 1\n",
    "    else:\n",
    "        total += 1\n",
    "    \n",
    "print(\"terminado\")"
   ]
  },
  {
   "cell_type": "code",
   "execution_count": null,
   "metadata": {},
   "outputs": [],
   "source": [
    "# con for\n",
    "for i in range(0, 41, 2):\n",
    "   print(i)\n",
    "   \n",
    "print(\"terminado\")"
   ]
  },
  {
   "cell_type": "markdown",
   "metadata": {},
   "source": [
    "### Summing Digits\n",
    "\n",
    "> Let's change the code to calculate and output the sum of all digits of the input number."
   ]
  },
  {
   "cell_type": "markdown",
   "metadata": {},
   "source": [
    "### Free Stuff!\n",
    "\n",
    "> A shop is running a promotion today! If an item's price is an odd number, you get that item for free! Change the code to skip the odd prices ...\n",
    "\n"
   ]
  },
  {
   "cell_type": "markdown",
   "metadata": {},
   "source": [
    " "
   ]
  },
  {
   "cell_type": "markdown",
   "metadata": {},
   "source": [
    "### Selector de fecha\n",
    "\n",
    "> Estás haciendo un selector de fecha para una página web y necesitas extraer todos los años en un periodo determinado. El rango te puede ayudar."
   ]
  },
  {
   "cell_type": "markdown",
   "metadata": {},
   "source": [
    "### FizzBuzz\n",
    "\n",
    "FizzBuzz es una tarea de programación muy conocida, preguntada durante las entrevistas de trabajo.\n",
    "\n",
    "El código dado resuelve el problema de FizzBuzz y utiliza las palabras “Solo” y “Learn” en lugar de “Fizz” y “Buzz”.\n",
    "Toma una entrada n y saca los números de 1 a n.\n",
    "Por cada múltiplo de 3, imprime “Solo” en lugar del número.\n",
    "Por cada múltiplo de 5, imprime “Learn” en lugar del número.\n",
    "Para los números que son múltiplos de 3 y 5, saca “SoloLearn”.\n",
    "\n",
    "Es necesario cambiar el código para saltar los números pares, para que la lógica sólo se aplique a los números impares en el rango.\n",
    "\n",
    "// Recuerde, la declaración **continue** puede ser usada para saltar una iteración de bucle."
   ]
  },
  {
   "cell_type": "code",
   "execution_count": null,
   "metadata": {},
   "outputs": [],
   "source": [
    "n = int(input())\n",
    "\n",
    "for x in range(1, n):\n",
    "    if x % 2 == 0:\n",
    "        continue\n",
    "    elif x % 3 == 0 and x % 5 == 0: \n",
    "        print(\"Sololearn\")\n",
    "    elif x % 3 == 0: \n",
    "        print(\"Solo\")\n",
    "    elif x % 5 == 0:\n",
    "        print(\"Learn\")\n",
    "    else:\n",
    "        print(x)"
   ]
  },
  {
   "cell_type": "markdown",
   "metadata": {},
   "source": [
    "### Celsius a Fahrenheit\n",
    "\n",
    "> Estás haciendo un convertidor de Celsius a Fahrenheit. Escribe una función para tomar el valor de Celsius como argumento y devolver el valor de Fahrenheit correspondiente. \n",
    "\n",
    "Ejemplo de entrada: 36\n",
    "\n",
    "Ejemplo de salida: 96.8"
   ]
  },
  {
   "cell_type": "markdown",
   "metadata": {},
   "source": [
    "### Nuevas líneas\n",
    "\n",
    "> Completa el programa para crear un archivo en el que escriba los nombres de la lista, cada uno en una línea nueva y los envíe por separado. "
   ]
  },
  {
   "cell_type": "markdown",
   "metadata": {},
   "source": [
    "### Títulos de libros\n",
    "\n",
    "Necesitas hacer un programa de categorización especial, que asigne a cada libro un código especial basado en su título: \n",
    "El código es igual a la primera letra del libro, seguido del número de caracteres del título. \n",
    "Por ejemplo, para el libro \"Harry Potter\", el código sería: H12, ya que contiene 12 caracteres (incluyendo el espacio) \n",
    "  \n",
    "Se te da un archivo books.txt , que incluye el título del libro, cada uno escrito en una línea separada. \n",
    "Tienes que leer el título uno por uno y sacar el código de cada libro en una línea separada. \n",
    "  \n",
    "Por ejemplo, si el archivo books.txt contiene: \n",
    "Some book \n",
    "Another book \n",
    "  \n",
    "Tu programa debería generar: \n",
    "S9 \n",
    "A12\n",
    "\n",
    "// Llama al método `readlines()`, que devuelve una lista que contiene las líneas del archivo. Además, recuerda que todas las líneas, excepto la última, contienen un `\\n` al final, que no debe ser incluido en el recuento de caracteres."
   ]
  }
 ],
 "metadata": {
  "interpreter": {
   "hash": "70807c458cb79526e58bd7650fcaa45a7eca9b73b92f10a18efc123baaaec859"
  },
  "kernelspec": {
   "display_name": "Python 3.10.2 64-bit",
   "language": "python",
   "name": "python3"
  },
  "language_info": {
   "codemirror_mode": {
    "name": "ipython",
    "version": 3
   },
   "file_extension": ".py",
   "mimetype": "text/x-python",
   "name": "python",
   "nbconvert_exporter": "python",
   "pygments_lexer": "ipython3",
   "version": "3.10.2"
  },
  "orig_nbformat": 4
 },
 "nbformat": 4,
 "nbformat_minor": 2
}
