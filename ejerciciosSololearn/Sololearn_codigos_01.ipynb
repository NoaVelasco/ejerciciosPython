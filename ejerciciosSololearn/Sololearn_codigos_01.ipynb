{
 "cells": [
  {
   "cell_type": "markdown",
   "metadata": {},
   "source": [
    "# Ejercicios Sololearn 01\n",
    "\n",
    "Voy a ir añadiendo aquí los ejercicios, retos y ocurrencias a partir de lo que veo por la app de Sololearn."
   ]
  },
  {
   "cell_type": "markdown",
   "metadata": {},
   "source": [
    "### List operations\n",
    "> Un programa que coja un número como input. Reasignar el elemento con ese index en la lista al valor x y devolver la lista actualizada. \n",
    "\n",
    "Ya, yo tampoco he entendido nada. Pone un ejemplo:\n",
    "la lista:\n",
    "num = [1, 2, 3, 4, 5]\n",
    "input: 3\n",
    "output: [1, 2, 3, \"x\", 5]\n",
    "\n",
    "Así que la idea es que el input es el n.º index de la lista y lo que haya ahí hay que sustituirlo por \"x\"."
   ]
  },
  {
   "cell_type": "code",
   "execution_count": 5,
   "metadata": {},
   "outputs": [
    {
     "name": "stdout",
     "output_type": "stream",
     "text": [
      "[1, 2, 3, 4, 'x']\n"
     ]
    }
   ],
   "source": [
    "nums = [1, 2, 3, 4, 5]\n",
    "x = \"x\"\n",
    "pos=int(input(\"Escribe la posición del 1 al 5\"))-1\n",
    "\n",
    "nums[pos]=x\n",
    "print(nums)"
   ]
  },
  {
   "cell_type": "markdown",
   "metadata": {},
   "source": [
    "La solución de un usuario es igual, pero sin crear una variable para \"x\"; lógico."
   ]
  },
  {
   "cell_type": "code",
   "execution_count": null,
   "metadata": {},
   "outputs": [],
   "source": [
    "items=[1, 2, 3, 4, 5, 6, 7, 8, 9, 10]\n",
    "input=int(input())\n",
    "items[input]=\"x\"\n",
    "print(items)"
   ]
  },
  {
   "cell_type": "markdown",
   "metadata": {},
   "source": [
    "---\n",
    "### Tuition discounts\n",
    "> La universidad da descuentos en las matrículas dependiendo del rendimiento.\n",
    "```\n",
    "90-100 -> 50%\n",
    "80-89 -> 30%\n",
    "70-79 -> 10%\n",
    "0-69 -> 0%\n",
    "```\n",
    "> Escribe un programa que coja las puntuaciones del primer y segundo semestres, calcula la media y devuelve el resultado del porcentaje según el resultado. "
   ]
  },
  {
   "cell_type": "code",
   "execution_count": 9,
   "metadata": {},
   "outputs": [
    {
     "name": "stdout",
     "output_type": "stream",
     "text": [
      "50%\n",
      "99.0\n"
     ]
    }
   ],
   "source": [
    "x=int(input())\n",
    "y=int(input())\n",
    "media=(x+y)/2\n",
    "\n",
    "if media > 69:\n",
    "    if media < 80:\n",
    "        print(\"10%\")\n",
    "    elif media < 90:\n",
    "        print(\"30%\")\n",
    "    elif media < 101:\n",
    "        print(\"50%\")\n",
    "else:\n",
    "    print(\"0%\")\n",
    "    \n",
    "print(media)"
   ]
  },
  {
   "cell_type": "markdown",
   "metadata": {},
   "source": [
    "---\n",
    "### Bingo\n",
    "> Con una lista de números, devuelve bingo si contiene el número input."
   ]
  },
  {
   "cell_type": "code",
   "execution_count": 13,
   "metadata": {},
   "outputs": [
    {
     "name": "stdout",
     "output_type": "stream",
     "text": [
      "Bingo\n"
     ]
    }
   ],
   "source": [
    "lista=[31, 22, 13, 44, 15, 65, 71, 83, 59, 10]\n",
    "juega=int(input())\n",
    "if juega in lista:\n",
    "    print(\"Bingo\")"
   ]
  },
  {
   "cell_type": "markdown",
   "metadata": {},
   "source": [
    "--- \n",
    "### Pattern with loops\n",
    "\n",
    "Crear este patrón con loops:\n",
    "```\n",
    "*\n",
    "**\n",
    "***\n",
    "**\n",
    "*\n",
    "```"
   ]
  },
  {
   "cell_type": "code",
   "execution_count": 22,
   "metadata": {},
   "outputs": [
    {
     "name": "stdout",
     "output_type": "stream",
     "text": [
      "\n",
      "*\n",
      "**\n",
      "***\n",
      "****\n",
      "*****\n",
      "******\n",
      "*******\n",
      "********\n",
      "*******\n",
      "******\n",
      "*****\n",
      "****\n",
      "***\n",
      "**\n",
      "*\n"
     ]
    }
   ],
   "source": [
    "contador=0\n",
    "patron=\"*********\"\n",
    "indexpat=0\n",
    "\n",
    "while contador < 16:\n",
    "    if contador < 8:\n",
    "        print(patron[:indexpat])\n",
    "        contador += 1\n",
    "        indexpat +=1\n",
    "    else:\n",
    "        print(patron[:indexpat])\n",
    "        indexpat -= 1\n",
    "        contador += 1"
   ]
  },
  {
   "cell_type": "markdown",
   "metadata": {},
   "source": [
    "---\n",
    "# Code coach\n",
    "## Funciones de lista\n",
    "### The middle element\n",
    "\n",
    "> Given a list, calculate the middle element's index."
   ]
  },
  {
   "cell_type": "code",
   "execution_count": 25,
   "metadata": {},
   "outputs": [
    {
     "name": "stdout",
     "output_type": "stream",
     "text": [
      "15\n"
     ]
    }
   ],
   "source": [
    "lista = [31, 22, 13, 44, 15, 65, 71, 83, 59]\n",
    "medio = int(len(lista)/2)\n",
    "print(lista[medio])"
   ]
  },
  {
   "cell_type": "markdown",
   "metadata": {},
   "source": [
    "### Minimum And Maximum\n",
    "\n",
    "> Write a program to calculate and output the sum of maximum and minimum items of the given list."
   ]
  },
  {
   "cell_type": "code",
   "execution_count": 27,
   "metadata": {},
   "outputs": [
    {
     "name": "stdout",
     "output_type": "stream",
     "text": [
      "10 + 83 = 93\n"
     ]
    }
   ],
   "source": [
    "lista = [31, 22, 13, 44, 15, 65, 71, 83, 59, 10]\n",
    "x = min(lista)\n",
    "y = max(lista)\n",
    "print(x, \"+\", y, \"=\", x+y)"
   ]
  },
  {
   "cell_type": "markdown",
   "metadata": {},
   "source": [
    "## while loops\n",
    "### Call It Even\n",
    "\n",
    "> Change the code to make it output only the even numbers from a given range."
   ]
  },
  {
   "cell_type": "code",
   "execution_count": null,
   "metadata": {},
   "outputs": [],
   "source": [
    "total=0\n",
    "# Con while\n",
    "while total <= 40:\n",
    "    if total%2==0:\n",
    "        print(total)\n",
    "        total += 1\n",
    "    else:\n",
    "        total += 1\n",
    "    \n",
    "print(\"terminado\")"
   ]
  },
  {
   "cell_type": "code",
   "execution_count": null,
   "metadata": {},
   "outputs": [],
   "source": [
    "# con for\n",
    "for i in range(0, 41, 2):\n",
    "   print(i)\n",
    "   \n",
    "print(\"terminado\")"
   ]
  },
  {
   "cell_type": "markdown",
   "metadata": {},
   "source": [
    "### Summing Digits\n",
    "\n",
    "> Let's change the code to calculate and output the sum of all digits of the input number."
   ]
  },
  {
   "cell_type": "code",
   "execution_count": 11,
   "metadata": {},
   "outputs": [
    {
     "name": "stdout",
     "output_type": "stream",
     "text": [
      "La suma de  [5, 5, 5, 5, 5] es \n",
      "25\n"
     ]
    }
   ],
   "source": [
    "# Con lista \n",
    "x = []\n",
    "nums = input()\n",
    "\n",
    "for i in nums:\n",
    "  x.append(int(i))\n",
    "\n",
    "suma = sum(x)\n",
    "\n",
    "print(\"La suma de \", x, \"es \")\n",
    "print(suma)\n"
   ]
  },
  {
   "cell_type": "code",
   "execution_count": 13,
   "metadata": {},
   "outputs": [
    {
     "name": "stdout",
     "output_type": "stream",
     "text": [
      "La suma de \n",
      "5\n",
      "5\n",
      "5\n",
      "5\n",
      "5\n",
      "es  25\n"
     ]
    }
   ],
   "source": [
    "#sin lista \n",
    "y = 0\n",
    "nums = input()\n",
    "\n",
    "print(\"La suma de \")\n",
    "for i in nums:\n",
    "    print(i)\n",
    "    y += int(i)\n",
    "\n",
    "print(\"es \", y)\n"
   ]
  },
  {
   "cell_type": "markdown",
   "metadata": {},
   "source": [
    "### Free Stuff!\n",
    "\n",
    "> A shop is running a promotion today! If an item's price is an odd number, you get that item for free! Change the code to skip the odd prices ...\n",
    "\n"
   ]
  },
  {
   "cell_type": "markdown",
   "metadata": {},
   "source": [
    "### Selector de fecha\n",
    "\n",
    "> Estás haciendo un selector de fecha para una página web y necesitas extraer todos los años en un periodo determinado. El rango te puede ayudar."
   ]
  },
  {
   "cell_type": "markdown",
   "metadata": {},
   "source": [
    "### FizzBuzz\n",
    "\n",
    "FizzBuzz es una tarea de programación muy conocida, preguntada durante las entrevistas de trabajo.\n",
    "\n",
    "El código dado resuelve el problema de FizzBuzz y utiliza las palabras “Solo” y “Learn” en lugar de “Fizz” y “Buzz”.\n",
    "Toma una entrada n y saca los números de 1 a n.\n",
    "Por cada múltiplo de 3, imprime “Solo” en lugar del número.\n",
    "Por cada múltiplo de 5, imprime “Learn” en lugar del número.\n",
    "Para los números que son múltiplos de 3 y 5, saca “SoloLearn”.\n",
    "\n",
    "Es necesario cambiar el código para saltar los números pares, para que la lógica sólo se aplique a los números impares en el rango.\n",
    "\n",
    "// Recuerde, la declaración **continue** puede ser usada para saltar una iteración de bucle."
   ]
  },
  {
   "cell_type": "code",
   "execution_count": null,
   "metadata": {},
   "outputs": [],
   "source": [
    "n = int(input())\n",
    "\n",
    "for x in range(1, n):\n",
    "    if x % 2 == 0:\n",
    "        continue\n",
    "    elif x % 3 == 0 and x % 5 == 0: \n",
    "        print(\"Sololearn\")\n",
    "    elif x % 3 == 0: \n",
    "        print(\"Solo\")\n",
    "    elif x % 5 == 0:\n",
    "        print(\"Learn\")\n",
    "    else:\n",
    "        print(x)"
   ]
  },
  {
   "cell_type": "markdown",
   "metadata": {},
   "source": [
    "### Celsius a Fahrenheit\n",
    "\n",
    "> Estás haciendo un convertidor de Celsius a Fahrenheit. Escribe una función para tomar el valor de Celsius como argumento y devolver el valor de Fahrenheit correspondiente. \n",
    "\n",
    "Ejemplo de entrada: 36\n",
    "\n",
    "Ejemplo de salida: 96.8"
   ]
  },
  {
   "cell_type": "markdown",
   "metadata": {},
   "source": [
    "### Nuevas líneas\n",
    "\n",
    "> Completa el programa para crear un archivo en el que escriba los nombres de la lista, cada uno en una línea nueva y los envíe por separado. "
   ]
  },
  {
   "cell_type": "markdown",
   "metadata": {},
   "source": [
    "### Títulos de libros\n",
    "\n",
    "Necesitas hacer un programa de categorización especial, que asigne a cada libro un código especial basado en su título:  \n",
    "El código es igual a la primera letra del libro, seguido del número de caracteres del título.  \n",
    "Por ejemplo, para el libro \"Harry Potter\", el código sería: H12, ya que contiene 12 caracteres (incluyendo el espacio) \n",
    "  \n",
    "Se te da un archivo books.txt , que incluye el título del libro, cada uno escrito en una línea separada.  \n",
    "Tienes que leer el título uno por uno y sacar el código de cada libro en una línea separada. \n",
    "  \n",
    "Por ejemplo, si el archivo books.txt contiene:  \n",
    "`Some book`  \n",
    "`Another book` \n",
    "  \n",
    "Tu programa debería generar:  \n",
    "`S9`  \n",
    "`A12`\n",
    "\n",
    "// Llama al método `readlines()`, que devuelve una lista que contiene las líneas del archivo. Además, recuerda que todas las líneas, excepto la última, contienen un `\\n` al final, que no debe ser incluido en el recuento de caracteres."
   ]
  },
  {
   "cell_type": "code",
   "execution_count": null,
   "metadata": {},
   "outputs": [],
   "source": [
    "file = open(\"/usercode/files/books.txt\", \"r\")\n",
    "\n",
    "with open.file():\n",
    "    for l in file.readlines():\n",
    "        if \"\\n\" in l:\n",
    "            print(f\"{l[0]}{len(l)-1}\")\n",
    "        else:\n",
    "            print(f\"{l[0]}{len(l)}\")\n"
   ]
  },
  {
   "cell_type": "markdown",
   "metadata": {},
   "source": [
    "### Cheer creator\n",
    "\n",
    "You are cheering on your favorite team. After each play, if your team got over 10 yards further down the field, you stand up and give your friend a high five. If they don't move forward by at least a yard you stay quiet and say 'shh', and if they move forward 10 yards or less, you say 'Ra!' for every yard that they moved forward in that play. \n",
    " \n",
    "Task  \n",
    "Given the number of yards that your team moved forward, output either 'High Five' (for over 10), 'shh' (for <1), or a string that has a 'Ra!' for every yard that they gained. \n",
    " \n",
    "Input Format  \n",
    "An integer value that represents the number of yards gained or lost by your team. \n",
    " \n",
    "Output Format  \n",
    "A string of the appropriate cheer.  \n",
    " \n",
    "Sample Input  \n",
    "3 \n",
    " \n",
    "Sample Output \n",
    "Ra!Ra!Ra!\n",
    "\n",
    "// Este ejercicio está trucadísimo. No sé qué narices quieren, pero he probado varios códigos que funcionaban a la perfección y no los quiere. "
   ]
  },
  {
   "cell_type": "code",
   "execution_count": null,
   "metadata": {},
   "outputs": [],
   "source": [
    "move = int(input())\n",
    "\n",
    "if move < 1:\n",
    "    print(\"shh\")\n",
    "else:\n",
    "  if move <= 10:\n",
    "    print(\"Ra! \"*move)\n",
    "  else:\n",
    "    if move > 10:\n",
    "      print(\"High Five\")\n"
   ]
  },
  {
   "cell_type": "markdown",
   "metadata": {},
   "source": [
    "# Skee ball\n",
    "You are playing a game at your local arcade, and you receive 1 ticket from the machine for every 12 points that you score. You want to purchase a squirt gun with your tickets. Given your score, and the price of the squirt gun (in tickets) are you able to buy it? \n",
    " \n",
    "Task  \n",
    "Evaluate whether or not you have scored high enough to earn enough tickets to purchase the squirt gun at the arcade. \n",
    " \n",
    "Input Format  \n",
    "The first input is an integer value that represents the points that you scored playing, and the second input is an integer value that represents the cost of the squirt gun (in tickets). \n",
    " \n",
    "Output Format  \n",
    "A string that say 'Buy it!' if you will have enough tickets, or a string that says 'Try again' if you will not. \n",
    " \n",
    "Sample Input  \n",
    "500 \n",
    "40 \n",
    " \n",
    "Sample Output \n",
    "Buy it!"
   ]
  },
  {
   "cell_type": "code",
   "execution_count": null,
   "metadata": {},
   "outputs": [],
   "source": [
    "tickets = int(input())\n",
    "pistola = int(input())\n",
    "\n",
    "if tickets/12 >= pistola:\n",
    "    print(\"Buy it!\")\n",
    "else:\n",
    "    print(\"Try again\")\n"
   ]
  },
  {
   "cell_type": "markdown",
   "metadata": {},
   "source": [
    "# Paint costs\n",
    "You are getting ready to paint a piece of art. The canvas and brushes that you want to use will cost 40.00. Each color of paint that you buy is an additional 5.00. Determine how much money you will need based on the number of colors that you want to buy if tax at this store is 10%. \n",
    " \n",
    "Task  \n",
    "Given the total number of colors of paint that you need, calculate and output the total cost of your project rounded up to the nearest whole number. \n",
    " \n",
    "Input Format  \n",
    "An integer that represents the number of colors that you want to purchase for your project. \n",
    " \n",
    "Output Format  \n",
    "A number that represents the cost of your purchase rounded up to the nearest whole number. \n",
    " \n",
    "Sample Input  \n",
    "10 \n",
    " \n",
    "Sample Output  \n",
    "99\n",
    "\n",
    "> Explanation  \n",
    "> You need 50.00 to buy 10 colors of paint + 40.00 for the canvas and brushes + 9.00 for the tax."
   ]
  },
  {
   "cell_type": "markdown",
   "metadata": {},
   "source": [
    "===\n",
    "\n",
    "# Longest Word\n",
    "\n",
    "\n",
    "Given a text as input, find and output the longest word.\n",
    "\n",
    "Sample Input  \n",
    "`this is an awesome text`\n",
    "\n",
    "Sample Output  \n",
    "`awesome`\n",
    "\n",
    "> Recall the split(' ') method, which returns a list of words of the string."
   ]
  },
  {
   "cell_type": "code",
   "execution_count": 1,
   "metadata": {},
   "outputs": [
    {
     "name": "stdout",
     "output_type": "stream",
     "text": [
      "cancamusa\n"
     ]
    }
   ],
   "source": [
    "txt = \"lorem ipsun dolor, amet, cancamusa de melón\"\n",
    "txt = txt.replace(\",\", \"\")\n",
    "\n",
    "lista = txt.split(' ')\n",
    "\n",
    "ext = [len(i) for i in lista]\n",
    "\n",
    "indice = ext.index(max(ext))\n",
    "print(lista[indice])"
   ]
  },
  {
   "cell_type": "markdown",
   "metadata": {},
   "source": [
    "===\n",
    "# Fibonacci\n",
    "\n",
    "The Fibonacci sequence is one of the most famous formulas in mathematics.  \n",
    "Each number in the sequence is the sum of the two numbers that precede it.  \n",
    "For example, here is the Fibonacci sequence for 10 numbers, starting from 0: 0,1,1,2,3,5,8,13,21,34.\n",
    "\n",
    "Write a program to take N (variable num in code template) positive numbers as input, and recursively calculate and output the first N numbers of the Fibonacci sequence (starting from 0).\n",
    "\n",
    "Sample Input  \n",
    "`6`\n",
    "\n",
    "Sample Output  \n",
    "```\n",
    "0\n",
    "1\n",
    "1\n",
    "2\n",
    "3\n",
    "5\n",
    "```\n",
    "> If you are making the Fibonacci sequence for n numbers, you should use n<=1 condition as the base case."
   ]
  },
  {
   "cell_type": "code",
   "execution_count": 23,
   "metadata": {},
   "outputs": [
    {
     "name": "stdout",
     "output_type": "stream",
     "text": [
      "0\n",
      "1\n",
      "1\n",
      "2\n",
      "3\n",
      "5\n",
      "8\n",
      "13\n",
      "21\n",
      "34\n"
     ]
    }
   ],
   "source": [
    "num = 10\n",
    "\n",
    "def fibonacci(n):\n",
    "    #complete the recursive function\n",
    "    if n == 0:\n",
    "        print(0)\n",
    "    \n",
    "    elif n == 1:\n",
    "        print(0)\n",
    "        print(1)\n",
    "    \n",
    "    elif n > 1:\n",
    "        print(0)\n",
    "        a = 0\n",
    "        b = 1\n",
    "        for i in range(n-1):\n",
    "            print(a+b)\n",
    "            b, a = a, b+a\n",
    "\n",
    "# Sé que no es la mejor versión, pero la he hecho yo con lo que recordaba.\n",
    "\n",
    "fibonacci(num)\n"
   ]
  },
  {
   "cell_type": "code",
   "execution_count": 4,
   "metadata": {},
   "outputs": [
    {
     "name": "stdout",
     "output_type": "stream",
     "text": [
      "[0, 1, 1, 2, 3, 5, 8, 13, 21, 34]\n"
     ]
    }
   ],
   "source": [
    "# Interesante versión con append\n",
    "num = 10\n",
    "\n",
    "\n",
    "def fibonacci(n):\n",
    "    fibo = [0, 1]\n",
    "    for i in range(n-2):\n",
    "\n",
    "        fibo.append(fibo[i]+fibo[i+1])\n",
    "\n",
    "    print(fibo)\n",
    "\n",
    "\n",
    "fibonacci(num)\n"
   ]
  },
  {
   "cell_type": "markdown",
   "metadata": {},
   "source": [
    "Esta es la versión recursiva, pero al no almacenar los valores va cada vez más lento al tener que recalcular todo.  \n",
    "Funciona ejecutando la función una y otra vez hasta que llega a n == 2 o n == 1."
   ]
  },
  {
   "cell_type": "code",
   "execution_count": 4,
   "metadata": {},
   "outputs": [
    {
     "name": "stdout",
     "output_type": "stream",
     "text": [
      "1 :: 1\n",
      "2 :: 1\n",
      "3 :: 2\n",
      "4 :: 3\n",
      "5 :: 5\n",
      "6 :: 8\n",
      "7 :: 13\n",
      "8 :: 21\n",
      "9 :: 34\n",
      "10 :: 55\n"
     ]
    }
   ],
   "source": [
    "# Versión recursiva.\n",
    "\n",
    "def fibonacci_recursivo(n):\n",
    "    if n == 1:\n",
    "        return 1\n",
    "    elif n == 2:\n",
    "        return 1\n",
    "    elif n > 2:\n",
    "        return fibonacci_recursivo(n-1) + fibonacci_recursivo(n-2)\n",
    "    \n",
    "for n in range(1, 11):\n",
    "    print(n, \"::\", fibonacci_recursivo(n))"
   ]
  },
  {
   "cell_type": "markdown",
   "metadata": {},
   "source": [
    "=== \n",
    "# Juice Maker\n",
    "\n",
    "\n",
    "You are given a Juice class, which has name and capacity properties.  \n",
    "You need to complete the code to enable and adding of two Juice objects, resulting in a new Juice object with the combined capacity and names of the two juices being added.\n",
    "\n",
    "For example, if you add an Orange juice with 1.0 capacity and an Apple juice with 2.5 capacity, the resulting juice should have:  \n",
    "name: **Orange&Apple**  \n",
    "capacity: **3.5**\n",
    "\n",
    "The names have been combined using an & symbol.\n",
    "> Use the \\_\\_add\\_\\_ method to define a custom behavior for the + operator and return the resulting object."
   ]
  },
  {
   "cell_type": "code",
   "execution_count": 25,
   "metadata": {},
   "outputs": [
    {
     "name": "stdout",
     "output_type": "stream",
     "text": [
      "Orange&Apple (3.5L)\n"
     ]
    }
   ],
   "source": [
    "class Juice:\n",
    "    def __init__(self, name, capacity):\n",
    "        self.name = name\n",
    "        self.capacity = capacity\n",
    "\n",
    "    def __str__(self):\n",
    "        return (self.name + ' ('+str(self.capacity)+'L)')\n",
    "    \n",
    "    def __add__(self, other):\n",
    "        return Juice(f\"{self.name}&{other.name}\", self.capacity + other.capacity)\n",
    "\n",
    "\n",
    "a = Juice('Orange', 1.5)\n",
    "b = Juice('Apple', 2.0)\n",
    "\n",
    "result = a + b\n",
    "print(result)\n"
   ]
  },
  {
   "cell_type": "markdown",
   "metadata": {},
   "source": [
    "===\n",
    "# Adding Words\n",
    "\n",
    "\n",
    "You need to write a function that takes multiple words as its argument and returns a concatenated version of those words separated by dashes (-).  \n",
    "The function should be able to take a varying number of words as the argument.\n",
    "\n",
    "Sample Input  \n",
    "```\n",
    "this\n",
    "is\n",
    "great\n",
    "```\n",
    "\n",
    "Sample Output  \n",
    "`this-is-great`\n",
    "\n",
    "> Recall, using *args as a function parameter enables you to pass an arbitrary number of arguments to that function."
   ]
  },
  {
   "cell_type": "code",
   "execution_count": 41,
   "metadata": {},
   "outputs": [
    {
     "name": "stdout",
     "output_type": "stream",
     "text": [
      "(I-love-Python-!)\n"
     ]
    }
   ],
   "source": [
    "def concatenate(*args):\n",
    "    text = str(args)\n",
    "    text = text.replace(\", \", \"-\")\n",
    "    text = text.replace(\"[\", \"\")\n",
    "    text = text.replace(\"]\", \"\")\n",
    "    return text.replace(\"'\", \"\")\n",
    "\n",
    "\n",
    "print(concatenate(\"I\", \"love\", \"Python\", \"!\"))\n"
   ]
  },
  {
   "cell_type": "markdown",
   "metadata": {},
   "source": [
    "A partir de otros usuarios:"
   ]
  },
  {
   "cell_type": "code",
   "execution_count": 39,
   "metadata": {},
   "outputs": [
    {
     "name": "stdout",
     "output_type": "stream",
     "text": [
      "I-love-Python-!\n"
     ]
    }
   ],
   "source": [
    "# Lam Wei Li (lo he mejorado un poco):\n",
    "\n",
    "def concatenate(*args):\n",
    "    result = None\n",
    "    for i in args:\n",
    "        if result is None:\n",
    "            result = i\n",
    "        else:\n",
    "            result += f\"-{i}\"\n",
    "    return result\n",
    "\n",
    "\n",
    "print(concatenate(\"I\", \"love\", \"Python\", \"!\"))\n"
   ]
  },
  {
   "cell_type": "code",
   "execution_count": 42,
   "metadata": {},
   "outputs": [
    {
     "name": "stdout",
     "output_type": "stream",
     "text": [
      "I-love-Python-!\n"
     ]
    }
   ],
   "source": [
    "# Nematillo Ochilov\n",
    "\n",
    "def concatenate(*args):\n",
    "    string = \"\"\n",
    "    for i, w in enumerate(args): \n",
    "        if i > 0:\n",
    "            string += f\"-{w}\"\n",
    "        else:\n",
    "            string += w\n",
    "    return string\n",
    "\n",
    "\n",
    "print(concatenate(\"I\", \"love\", \"Python\", \"!\"))\n"
   ]
  },
  {
   "cell_type": "code",
   "execution_count": 5,
   "metadata": {},
   "outputs": [
    {
     "name": "stdout",
     "output_type": "stream",
     "text": [
      "I-love-Python-!\n"
     ]
    }
   ],
   "source": [
    "# Si no tuviera que escribir una función:\n",
    "\n",
    "print(\"I\", \"love\", \"Python\", \"!\", sep=\"-\")\n"
   ]
  }
 ],
 "metadata": {
  "interpreter": {
   "hash": "70807c458cb79526e58bd7650fcaa45a7eca9b73b92f10a18efc123baaaec859"
  },
  "kernelspec": {
   "display_name": "Python 3.10.2 64-bit",
   "language": "python",
   "name": "python3"
  },
  "language_info": {
   "codemirror_mode": {
    "name": "ipython",
    "version": 3
   },
   "file_extension": ".py",
   "mimetype": "text/x-python",
   "name": "python",
   "nbconvert_exporter": "python",
   "pygments_lexer": "ipython3",
   "version": "3.10.2"
  },
  "orig_nbformat": 4
 },
 "nbformat": 4,
 "nbformat_minor": 2
}
