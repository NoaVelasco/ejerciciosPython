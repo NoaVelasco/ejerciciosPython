{
 "cells": [
  {
   "cell_type": "markdown",
   "metadata": {},
   "source": [
    "### Assignment\n",
    "\n",
    "Complete the `Category` class in `budget.py`. It should be able to instantiate objects based on different budget categories like *food*, *clothing*, and *entertainment*. When objects are created, they are passed in the name of the category. The class should have an instance variable called `ledger` that is a list. The class should also contain the following methods:\n",
    "\n",
    "* A `deposit` method that accepts an amount and description. If no description is given, it should default to an empty string. The method should append an object to the ledger list in the form of `{\"amount\": amount, \"description\": description}`.\n",
    "* A `withdraw` method that is similar to the `deposit` method, but the amount passed in should be stored in the ledger as a negative number. If there are not enough funds, nothing should be added to the ledger. This method should return `True` if the withdrawal took place, and `False` otherwise.\n",
    "* A `get_balance` method that returns the current balance of the budget category based on the deposits and withdrawals that have occurred.\n",
    "* A `transfer` method that accepts an amount and another budget category as arguments. The method should add a withdrawal with the amount and the description \"Transfer to [Destination Budget Category]\". The method should then add a deposit to the other budget category with the amount and the description \"Transfer from [Source Budget Category]\". If there are not enough funds, nothing should be added to either ledgers. This method should return `True` if the transfer took place, and `False` otherwise.\n",
    "* A `check_funds` method that accepts an amount as an argument. It returns `False` if the amount is greater than the balance of the budget category and returns `True` otherwise. This method should be used by both the `withdraw` method and `transfer` method.\n",
    "\n",
    "When the budget object is printed it should display:\n",
    "* A title line of 30 characters where the name of the category is centered in a line of `*` characters.\n",
    "* A list of the items in the ledger. Each line should show the description and amount. The first 23 characters of the description should be displayed, then the amount. The amount should be right aligned, contain two decimal places, and display a maximum of 7 characters.\n",
    "* A line displaying the category total.\n",
    "\n",
    "Here is an example of the output:\n",
    "```\n",
    "*************Food*************\n",
    "initial deposit        1000.00\n",
    "groceries               -10.15\n",
    "restaurant and more foo -15.89\n",
    "Transfer to Clothing    -50.00\n",
    "Total: 923.96\n",
    "```\n",
    "\n",
    "Besides the `Category` class, create a function (outside of the class) called `create_spend_chart` that takes a list of categories as an argument. It should return a string that is a bar chart.\n",
    "\n",
    "The chart should show the percentage spent in each category passed in to the function. The percentage spent should be calculated only with withdrawals and not with deposits. Down the left side of the chart should be labels 0 - 100. The \"bars\" in the bar chart should be made out of the \"o\" character. The height of each bar should be rounded down to the nearest 10. The horizontal line below the bars should go two spaces past the final bar. Each category name should be written vertically below the bar. There should be a title at the top that says \"Percentage spent by category\".\n",
    "\n",
    "This function will be tested with up to four categories.\n",
    "\n",
    "Look at the example output below very closely and make sure the spacing of the output matches the example exactly.\n",
    "\n",
    "```\n",
    "Percentage spent by category\n",
    "100|          \n",
    " 90|          \n",
    " 80|          \n",
    " 70|          \n",
    " 60| o        \n",
    " 50| o        \n",
    " 40| o        \n",
    " 30| o        \n",
    " 20| o  o     \n",
    " 10| o  o  o  \n",
    "  0| o  o  o  \n",
    "    ----------\n",
    "     F  C  A  \n",
    "     o  l  u  \n",
    "     o  o  t  \n",
    "     d  t  o  \n",
    "        h     \n",
    "        i     \n",
    "        n     \n",
    "        g     \n",
    "```"
   ]
  },
  {
   "cell_type": "markdown",
   "metadata": {},
   "source": [
    "Lo primero es ir creando la clase para ir trabajando sobre ella.  \n",
    "Las funciones `deposit`, `withdraw` y `get_balance` funcionan. "
   ]
  },
  {
   "cell_type": "code",
   "execution_count": 41,
   "metadata": {},
   "outputs": [
    {
     "name": "stdout",
     "output_type": "stream",
     "text": [
      "973.96\n",
      "[{'amount': 1000, 'description': ''}, {'amount': -10.15, 'description': 'groceries'}, {'amount': -15.89, 'description': 'restaurant and more food for dessert'}]\n"
     ]
    }
   ],
   "source": [
    "class Category:\n",
    "\n",
    "    # ledger = []\n",
    "\n",
    "    def __init__(self, name):\n",
    "        self.name = name  # ??? Es así?\n",
    "        self.ledger = []\n",
    "        self.tot_led = 0\n",
    "\n",
    "    def deposit(self, amount, description=''):\n",
    "        self.ledger.append({'amount': amount, 'description': description})\n",
    "        self.tot_led += amount\n",
    "        \n",
    "    def withdraw(self, amount, description=''):\n",
    "        if amount > self.tot_led:\n",
    "            return False\n",
    "        else:\n",
    "            self.ledger.append({'amount': -amount, 'description': description})\n",
    "            self.tot_led -= amount\n",
    "            return True\n",
    "        \n",
    "    def get_balance(self):\n",
    "        return f'{self.tot_led:.2f}'\n",
    "        \n",
    "food = Category('Food')\n",
    "food.deposit(1000)\n",
    "food.withdraw(10.15, \"groceries\")\n",
    "food.withdraw(15.89, \"restaurant and more food for dessert\")\n",
    "print(food.get_balance())\n",
    "\n",
    "print(food.ledger)\n"
   ]
  },
  {
   "cell_type": "markdown",
   "metadata": {},
   "source": [
    "Cómo representar un float con 2 decimales.  \n",
    "Mi problema es que al usar format, haga lo que haga, return lo convierte en string. Reconvertir en float pasa un valor como `10.00` a `10.0`."
   ]
  },
  {
   "cell_type": "code",
   "execution_count": 104,
   "metadata": {},
   "outputs": [
    {
     "data": {
      "text/plain": [
       "'50.00'"
      ]
     },
     "execution_count": 104,
     "metadata": {},
     "output_type": "execute_result"
    }
   ],
   "source": [
    "def floating():\n",
    "    integ = 30\n",
    "\n",
    "    dic = {'number': float(-integ)}\n",
    "    numerito = (80 + (dic['number']))\n",
    "\n",
    "    return (f'{numerito:.2f}')\n",
    "\n",
    "floating()"
   ]
  },
  {
   "cell_type": "markdown",
   "metadata": {},
   "source": [
    "Introduzco ahora los métodos `check_funds` y `transfer`."
   ]
  },
  {
   "cell_type": "code",
   "execution_count": 85,
   "metadata": {},
   "outputs": [
    {
     "name": "stdout",
     "output_type": "stream",
     "text": [
      "73.96\n",
      "False\n",
      "[{'amount': 100, 'description': ''}, {'amount': -10.15, 'description': 'groceries'}, {'amount': -15.89, 'description': 'restaurant and more food for dessert'}]\n",
      "[]\n"
     ]
    }
   ],
   "source": [
    "class Category:\n",
    "\n",
    "    # ledger = []\n",
    "\n",
    "    def __init__(self, name):\n",
    "        self.name = name  \n",
    "        self.ledger = []\n",
    "        self.tot_led = 0\n",
    "        \n",
    "    def check_funds(self, amount):\n",
    "        if amount > self.tot_led:\n",
    "            return False\n",
    "        else:\n",
    "            return True\n",
    "\n",
    "    def deposit(self, amount, description=''):\n",
    "        self.ledger.append({'amount': amount, 'description': description})\n",
    "        self.tot_led += amount\n",
    "\n",
    "    def withdraw(self, amount, description=''):\n",
    "        if self.check_funds(amount) is True:\n",
    "            self.ledger.append({'amount': -amount, 'description': description})\n",
    "            self.tot_led -= amount\n",
    "            return True\n",
    "        else:\n",
    "            return False\n",
    "\n",
    "    def get_balance(self):\n",
    "        return (f'{self.tot_led:.2f}')\n",
    "    \n",
    "    def transfer(self, amount, category):\n",
    "        success = self.check_funds(amount)\n",
    "        if success is True:\n",
    "            self.withdraw(amount, f'Transfer to {category.name}')\n",
    "            category.deposit(amount, f'Transfer from {self.name}')\n",
    "        #     return True\n",
    "        # else:\n",
    "        #     return False\n",
    "        return success\n",
    "    \n",
    "\n",
    "\n",
    "food = Category('Food')\n",
    "food.deposit(100)\n",
    "food.withdraw(10.15, \"groceries\")\n",
    "food.withdraw(15.89, \"restaurant and more food for dessert\")\n",
    "print(food.get_balance())\n",
    "# print(food.check_funds(122))\n",
    "\n",
    "clothing = Category('Clothing')\n",
    "print(food.transfer(200, clothing))\n",
    "\n",
    "print(food.ledger)\n",
    "print(clothing.ledger)\n"
   ]
  },
  {
   "cell_type": "markdown",
   "metadata": {},
   "source": [
    "A la hora de imprimir el objeto es cuando aparecen los detalles como un ticket. Esto no habría sabido cómo va de no ser porque he atado cabos:  \n",
    "- en test_module pide el resultado de `str(self.food)`\n",
    "- en Github vi que en un par de sitios creaban una función `__str__`  \n",
    "\n",
    "Así que ya sé que tengo que hacer eso. Lo que tiene que salir es más o menos esto:\n",
    "```\n",
    "expected = f\"*************Food*************\\ndeposit                 900.00\\nmilk, cereal, eggs, bac -45.67\\nTransfer to Entertainme -20.00\\nTotal: 834.33\"\n",
    "```\n"
   ]
  },
  {
   "cell_type": "code",
   "execution_count": 101,
   "metadata": {},
   "outputs": [
    {
     "name": "stdout",
     "output_type": "stream",
     "text": [
      "*************Food*************\n",
      "chepa                   100.00\n",
      "groceries               -10.15\n",
      "restaurant and more foo -15.89\n",
      "sdfsdfsdfsdfsf         4567.00\n",
      "Total: 854.33\n"
     ]
    }
   ],
   "source": [
    "class Category:\n",
    "\n",
    "    # ledger = []\n",
    "\n",
    "    def __init__(self, name):\n",
    "        self.name = name\n",
    "        self.ledger = []\n",
    "        self.tot_led = 0\n",
    "    \n",
    "    def __str__(self):\n",
    "        stars = 30\n",
    "        stars -= len(self.name)\n",
    "        stars /= 2\n",
    "        stars = int(stars)\n",
    "        stars *= '*'\n",
    "        output_1 = stars + self.name.capitalize() + stars\n",
    "        if len(output_1) < 30:\n",
    "            output_1 = stars + self.name.capitalize() + stars + '*'\n",
    "        \n",
    "        amounts = []\n",
    "        descrips = []\n",
    "        for x in ledger:\n",
    "            if len(str(int(x['amount']))) == 4:\n",
    "                dsp_amount = str(f'{x[\"amount\"]:.2f}')\n",
    "                amounts.append(dsp_amount)\n",
    "            elif len(str(int(x['amount']))) < 4:\n",
    "                spaces = 4 - len(str(int(x['amount'])))\n",
    "                dsp_amount = str(f'{spaces * \" \"}{x[\"amount\"]:.2f}')\n",
    "                amounts.append(dsp_amount)\n",
    "\n",
    "            else:\n",
    "                dsp_amount = str(f'{x[\"amount\"]:.2f}')[-7:]\n",
    "                amounts.append(dsp_amount)\n",
    "\n",
    "            if len(x['description']) > 23:\n",
    "                dsp_descrip = x['description'][0:23]\n",
    "                descrips.append(dsp_descrip)\n",
    "            else:\n",
    "                spaces = 23 - len(x['description'])\n",
    "                descrips.append(f\"{x['description']}{spaces * ' '}\")\n",
    "\n",
    "        dsp_ledger = []\n",
    "        for d, a in zip(descrips, amounts):\n",
    "            dsp_ledger.append(d)\n",
    "            dsp_ledger.append(a)\n",
    "            dsp_ledger.append('\\n')\n",
    "\n",
    "        output_2 = ''.join(x for x in dsp_ledger)\n",
    "        output_3 = (f'Total: {self.get_balance()}')\n",
    "        \n",
    "        output = ''.join(output_1 + '\\n' + output_2 + output_3)\n",
    "        return output\n",
    "\n",
    "\n",
    "    def check_funds(self, amount):\n",
    "        if amount > self.tot_led:\n",
    "            return False\n",
    "        else:\n",
    "            return True\n",
    "\n",
    "    def deposit(self, amount, description=''):\n",
    "        self.ledger.append({'amount': amount, 'description': description})\n",
    "        self.tot_led += amount\n",
    "\n",
    "    def withdraw(self, amount, description=''):\n",
    "        if self.check_funds(amount) is True:\n",
    "            self.ledger.append({'amount': -amount, 'description': description})\n",
    "            self.tot_led -= amount\n",
    "            return True\n",
    "        else:\n",
    "            return False\n",
    "\n",
    "    def get_balance(self):\n",
    "        return (f'{self.tot_led:.2f}')\n",
    "\n",
    "    def transfer(self, amount, category):\n",
    "        success = self.check_funds(amount)\n",
    "        if success is True:\n",
    "            self.withdraw(amount, f'Transfer to {category.name}')\n",
    "            category.deposit(amount, f'Transfer from {self.name}')\n",
    "        #     return True\n",
    "        # else:\n",
    "        #     return False\n",
    "        return success\n",
    "\n",
    "\n",
    "food = Category('Food')\n",
    "food.deposit(900, \"deposit\")\n",
    "food.withdraw(45.67, \"milk, cereal, eggs, bacon, bread\")\n",
    "actual = str(food)\n",
    "print(actual)"
   ]
  },
  {
   "cell_type": "markdown",
   "metadata": {},
   "source": [
    "Recordemos cómo creamos el print del proyecto de aritmética y unamos saltos de línea:"
   ]
  },
  {
   "cell_type": "code",
   "execution_count": null,
   "metadata": {},
   "outputs": [],
   "source": [
    "# output = ''.join(line_output_1 + line_output_2 +\n",
    "#                  line_output_3 + line_output_4)\n",
    "\n",
    "output = ''.join(line_output_1 + '\\n' + line_output_2 + '\\n' +\n",
    "                 line_output_3 + '\\n' + line_output_4)\n"
   ]
  },
  {
   "cell_type": "markdown",
   "metadata": {},
   "source": [
    "Para crear la cabecera"
   ]
  },
  {
   "cell_type": "code",
   "execution_count": 14,
   "metadata": {},
   "outputs": [
    {
     "name": "stdout",
     "output_type": "stream",
     "text": [
      "***********Foodity***********\n",
      "\n"
     ]
    }
   ],
   "source": [
    "center = 'foodity'\n",
    "stars = 30\n",
    "stars -= len(center)\n",
    "stars /= 2\n",
    "stars = int(stars)\n",
    "stars *= '*'\n",
    "output_1 = stars + center.capitalize() + stars + '\\n'\n",
    "\n",
    "if len(output_1) < 30:\n",
    "    output_1 = stars + center.capitalize() + stars + '*'\n",
    "\n",
    "print(output_1)"
   ]
  },
  {
   "cell_type": "code",
   "execution_count": 92,
   "metadata": {},
   "outputs": [
    {
     "name": "stdout",
     "output_type": "stream",
     "text": [
      "chepa                   100.00\n",
      "groceries               -10.15\n",
      "restaurant and more foo -15.89\n",
      "sdfsdfsdfsdfsf         4567.00\n",
      "\n"
     ]
    }
   ],
   "source": [
    "ledger = [{'amount': 100, 'description': 'chepa'}, {'amount': -10.15, 'description': 'groceries'},\n",
    "          {'amount': -15.89, 'description': 'restaurant and more food for dessert'}, {'amount': 1234567, 'description': 'sdfsdfsdfsdfsf'}]\n",
    "\n",
    "amounts = []\n",
    "descrips = []\n",
    "for x in ledger:\n",
    "    if len(str(int(x['amount']))) == 4:\n",
    "        dsp_amount = str(f'{x[\"amount\"]:.2f}')\n",
    "        amounts.append(dsp_amount)\n",
    "    elif len(str(int(x['amount']))) < 4:\n",
    "        spaces = 4 - len(str(int(x['amount'])))\n",
    "        dsp_amount = str(f'{spaces * \" \"}{x[\"amount\"]:.2f}')\n",
    "        amounts.append(dsp_amount)\n",
    "        \n",
    "    else:\n",
    "        dsp_amount = str(f'{x[\"amount\"]:.2f}')[-7:]\n",
    "        amounts.append(dsp_amount)\n",
    "    \n",
    "    if len(x['description']) > 23:\n",
    "        dsp_descrip = x['description'][0:23]\n",
    "        descrips.append(dsp_descrip)\n",
    "    else:\n",
    "        spaces = 23 - len(x['description'])\n",
    "        descrips.append(f\"{x['description']}{spaces * ' '}\")\n",
    "\n",
    "dsp_ledger = []\n",
    "for d, a in zip(descrips, amounts):\n",
    "    dsp_ledger.append(d)\n",
    "    dsp_ledger.append(a)\n",
    "    dsp_ledger.append('\\n')\n",
    "    \n",
    "output_2 = ''.join(x for x in dsp_ledger)\n",
    "\n",
    "print(output_2)"
   ]
  },
  {
   "cell_type": "markdown",
   "metadata": {},
   "source": [
    "Por último, me falta crear la función del gráfico."
   ]
  }
 ],
 "metadata": {
  "kernelspec": {
   "display_name": "Python 3.10.2 64-bit",
   "language": "python",
   "name": "python3"
  },
  "language_info": {
   "codemirror_mode": {
    "name": "ipython",
    "version": 3
   },
   "file_extension": ".py",
   "mimetype": "text/x-python",
   "name": "python",
   "nbconvert_exporter": "python",
   "pygments_lexer": "ipython3",
   "version": "3.10.2"
  },
  "orig_nbformat": 4,
  "vscode": {
   "interpreter": {
    "hash": "39b789f43ab4ce5f8b369458ca4c0f6573cd759231c4a20c311c91660bd81436"
   }
  }
 },
 "nbformat": 4,
 "nbformat_minor": 2
}
