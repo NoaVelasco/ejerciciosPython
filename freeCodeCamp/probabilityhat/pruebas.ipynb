{
 "cells": [
  {
   "cell_type": "markdown",
   "metadata": {},
   "source": [
    "# Probability Calculator\n",
    "### Assignment\n",
    "\n",
    "Suppose there is a hat containing 5 blue balls, 4 red balls, and 2 green balls. What is the probability that a random draw of 4 balls will contain at least 1 red ball and 2 green balls? While it would be possible to calculate the probability using advanced mathematics, an easier way is to write a program to perform a large number of experiments to estimate an approximate probability.\n",
    "\n",
    "For this project, you will write a program to determine the approximate probability of drawing certain balls randomly from a hat. \n",
    "\n",
    "First, create a `Hat` class in `prob_calculator.py`. The class should take a variable number of arguments that specify the number of balls of each color that are in the hat. For example, a class object could be created in any of these ways:\n",
    "```\n",
    "hat1 = Hat(yellow=3, blue=2, green=6)\n",
    "hat2 = Hat(red=5, orange=4)\n",
    "hat3 = Hat(red=5, orange=4, black=1, blue=0, pink=2, striped=9)\n",
    "```\n",
    "\n",
    "A hat will always be created with at least one ball. The arguments passed into the hat object upon creation should be converted to a `contents` instance variable. `contents` should be a list of strings containing one item for each ball in the hat. Each item in the list should be a color name representing a single ball of that color. For example, if your hat is `{\"red\": 2, \"blue\": 1}`, `contents` should be `[\"red\", \"red\", \"blue\"]`.\n",
    "\n",
    "The `Hat` class should have a `draw` method that accepts an argument indicating the number of balls to draw from the hat. This method should remove balls at random from `contents` and return those balls as a list of strings. The balls should not go back into the hat during the draw, similar to an urn experiment without replacement. If the number of balls to draw exceeds the available quantity, return all the balls.\n",
    "\n",
    "Next, create an `experiment` function in `prob_calculator.py` (not inside the `Hat` class). This function should accept the following arguments:\n",
    "* `hat`: A hat object containing balls that should be copied inside the function.\n",
    "* `expected_balls`: An object indicating the exact group of balls to attempt to draw from the hat for the experiment. For example, to determine the probability of drawing 2 blue balls and 1 red ball from the hat, set `expected_balls` to `{\"blue\":2, \"red\":1}`.\n",
    "* `num_balls_drawn`: The number of balls to draw out of the hat in each experiment.\n",
    "* `num_experiments`: The number of experiments to perform. (The more experiments performed, the more accurate the approximate probability will be.)\n",
    "\n",
    "The `experiment` function should return a probability. \n",
    "\n",
    "For example, let's say that you want to determine the probability of getting at least 2 red balls and 1 green ball when you draw 5 balls from from a hat containing 6 black, 4 red, and 3 green. To do this, we perform `N` experiments, count how many times `M` we get at least 2 red balls and 1 green ball, and estimate the probability as `M/N`. Each experiment consists of starting with a hat containing the specified balls, drawing a number of balls, and checking if we got the balls we were attempting to draw.\n",
    "\n",
    "Here is how you would call the `experiment` function based on the example above with 2000 experiments:\n",
    "\n",
    "```\n",
    "hat = Hat(black=6, red=4, green=3)\n",
    "probability = experiment(hat=hat, \n",
    "                  expected_balls={\"red\":2,\"green\":1},\n",
    "                  num_balls_drawn=5,\n",
    "                  num_experiments=2000)\n",
    "```\n",
    "\n",
    "Since this is based on random draws, the probability will be slightly different each time the code is run.\n",
    "\n",
    "*Hint: Consider using the modules that are already imported at the top of `prob_calculator.py`.*\n",
    "\n"
   ]
  },
  {
   "cell_type": "markdown",
   "metadata": {},
   "source": [
    "Lo primero que haré será crear la clase, que pedirá argumentos de palabra clave. El diccionario resultante se pasará automáticamente a una lista con todas las bolas."
   ]
  },
  {
   "cell_type": "code",
   "execution_count": 37,
   "metadata": {},
   "outputs": [
    {
     "data": {
      "text/plain": [
       "['red', 'orange', 'orange', 'red', 'red', 'red', 'orange', 'orange', 'red']"
      ]
     },
     "execution_count": 37,
     "metadata": {},
     "output_type": "execute_result"
    }
   ],
   "source": [
    "# import copy\n",
    "import random\n",
    "\n",
    "class Hat:\n",
    "    \n",
    "    contents = []\n",
    "    def __init__(self, **kwargs):\n",
    "        \n",
    "        if kwargs:\n",
    "            for k, v in kwargs.items():\n",
    "                for n in range(v):\n",
    "                    self.contents.append(k)\n",
    "    \n",
    "    def __str__(self):\n",
    "        if self.contents:\n",
    "            return str(self.contents)\n",
    "        else:\n",
    "            return 'You must add 1 ball at least.'\n",
    "                \n",
    "    def draw(self, number):\n",
    "        if number < len(self.contents)+1:\n",
    "            drawlist = self.contents.copy()\n",
    "            chosen_list = []\n",
    "            for n in range (number):\n",
    "                chosen_ball = random.choice(drawlist)\n",
    "                chosen_list.append(chosen_ball)\n",
    "                drawlist.remove(chosen_ball)\n",
    "            return chosen_list\n",
    "\n",
    "\n",
    "\n",
    "hat = Hat(red=5, orange=4)\n",
    "# hat = Hat()\n",
    "# hat.contenido()\n",
    "# print(hat)\n",
    "# hat.draw(9)"
   ]
  },
  {
   "cell_type": "markdown",
   "metadata": {},
   "source": [
    "Más simple. Corrijo el método draw()."
   ]
  },
  {
   "cell_type": "code",
   "execution_count": 47,
   "metadata": {},
   "outputs": [
    {
     "data": {
      "text/plain": [
       "['red',\n",
       " 'red',\n",
       " 'red',\n",
       " 'red',\n",
       " 'orange',\n",
       " 'orange',\n",
       " 'red',\n",
       " 'red',\n",
       " 'red',\n",
       " 'orange',\n",
       " 'red',\n",
       " 'orange']"
      ]
     },
     "execution_count": 47,
     "metadata": {},
     "output_type": "execute_result"
    }
   ],
   "source": [
    "import copy\n",
    "import random\n",
    "\n",
    "\n",
    "class Hat:\n",
    "\n",
    "    contents = []\n",
    "\n",
    "    def __init__(self, **kwargs):\n",
    "\n",
    "        if kwargs:\n",
    "            for k, v in kwargs.items():\n",
    "                for n in range(v):\n",
    "                    self.contents.append(k)\n",
    "\n",
    "\n",
    "    def draw(self, number):\n",
    "        drawlist = self.contents.copy()\n",
    "        chosen_list = []\n",
    "        for n in range(number):\n",
    "            if len(drawlist) < 1:\n",
    "                drawlist = self.contents.copy()\n",
    "            chosen_ball = random.choice(drawlist)\n",
    "            chosen_list.append(chosen_ball)\n",
    "            drawlist.remove(chosen_ball)\n",
    "        return chosen_list\n",
    "\n",
    "\n",
    "hat = Hat(red=5, orange=2)\n",
    "hat.draw(12)\n"
   ]
  },
  {
   "cell_type": "markdown",
   "metadata": {},
   "source": [
    "Ahora es el turno de crear la función externa.  \n",
    "> Next, create an experiment function in prob_calculator.py (not inside the Hat class). This function should accept the following arguments:\n",
    "\n",
    "    hat: A hat object containing balls that should be copied inside the function.\n",
    "    expected_balls: An object indicating the exact group of balls to attempt to draw from the hat for the experiment. For example, to determine the probability of drawing 2 blue balls and 1 red ball from the hat, set expected_balls to {\"blue\":2, \"red\":1}.\n",
    "    num_balls_drawn: The number of balls to draw out of the hat in each experiment.\n",
    "    num_experiments: The number of experiments to perform. (The more experiments performed, the more accurate the approximate probability will be.)\n"
   ]
  },
  {
   "cell_type": "markdown",
   "metadata": {},
   "source": [
    "Voy a probar a convertir la lista resultante de draw en un diccionario."
   ]
  },
  {
   "cell_type": "code",
   "execution_count": 1,
   "metadata": {},
   "outputs": [
    {
     "name": "stdout",
     "output_type": "stream",
     "text": [
      "{'red': 8, 'orange': 4}\n"
     ]
    }
   ],
   "source": [
    "draw_list = ['red', 'red', 'red', 'red', 'orange', 'orange',\n",
    "             'red', 'red', 'red', 'orange', 'red', 'orange']\n",
    "\n",
    "draw_dic = {}\n",
    "for ball in draw_list:\n",
    "    if ball not in draw_dic:\n",
    "        draw_dic[ball] = 0\n",
    "    draw_dic[ball] += 1\n",
    "    \n",
    "print(draw_dic)"
   ]
  },
  {
   "cell_type": "markdown",
   "metadata": {},
   "source": [
    "Ahora vamos a intentar compararlo con el de la función experiment (expected_balls)."
   ]
  },
  {
   "cell_type": "code",
   "execution_count": 5,
   "metadata": {},
   "outputs": [
    {
     "name": "stdout",
     "output_type": "stream",
     "text": [
      "No\n"
     ]
    }
   ],
   "source": [
    "expected_dic = {'red': 4, 'orange': 5}\n",
    "condition_list = []\n",
    "for k,v in draw_dic.items():\n",
    "    if v >= expected_dic[k]:\n",
    "        condition_list.append(True)\n",
    "    else:\n",
    "        condition_list.append(False)\n",
    "\n",
    "if False in condition_list:\n",
    "    print(\"No\")\n",
    "else:\n",
    "    print(\"Yes\")\n",
    "    \n",
    "        "
   ]
  },
  {
   "cell_type": "markdown",
   "metadata": {},
   "source": [
    "Ahora vamos a intentar ponerlo todo junto."
   ]
  },
  {
   "cell_type": "code",
   "execution_count": null,
   "metadata": {},
   "outputs": [],
   "source": [
    "def experiment(hat, expected_balls, num_balls_drawn, num_experiments):\n",
    "    \n",
    "    draw_list = hat.draw(num_balls_drawn)\n",
    "    draw_dic = {}\n",
    "    for ball in draw_list:\n",
    "        if ball not in draw_list:\n",
    "            draw_dic[ball] = 0\n",
    "        draw_dic[ball] += 1\n",
    "    \n",
    "    success_num = 0\n",
    "    for n in range(num_experiments):\n",
    "        condition_list = []\n",
    "        for k, v in draw_dic.items():\n",
    "            if v >= expected_balls[k]:\n",
    "                condition_list.append(True)\n",
    "            else:\n",
    "                condition_list.append(False)\n",
    "\n",
    "        if False not in condition_list:\n",
    "            success_num += 1\n",
    "    \n",
    "    return success_num / num_experiments\n"
   ]
  },
  {
   "cell_type": "code",
   "execution_count": 8,
   "metadata": {},
   "outputs": [
    {
     "name": "stdout",
     "output_type": "stream",
     "text": [
      "0.0165\n"
     ]
    }
   ],
   "source": [
    "import random\n",
    "\n",
    "\n",
    "class Hat:\n",
    "\n",
    "\n",
    "    def __init__(self, **kwargs):\n",
    "        self.contents = []\n",
    "\n",
    "        if kwargs:\n",
    "            for k, v in kwargs.items():\n",
    "                for n in range(v):\n",
    "                    self.contents.append(k)\n",
    "\n",
    "    def __str__(self):\n",
    "        if self.contents:\n",
    "            return str(self.contents)\n",
    "        else:\n",
    "            return 'You must add 1 ball at least.'\n",
    "\n",
    "    def draw(self, number):\n",
    "        if number < len(self.contents)+1:\n",
    "            drawlist = self.contents.copy()\n",
    "            chosen_list = []\n",
    "            for n in range(number):\n",
    "                chosen_ball = random.choice(drawlist)\n",
    "                chosen_list.append(chosen_ball)\n",
    "                drawlist.remove(chosen_ball)\n",
    "            return chosen_list\n",
    "\n",
    "\n",
    "def experiment(hat, expected_balls, num_balls_drawn, num_experiments):\n",
    "\n",
    "    success_num = 0\n",
    "    for n in range(num_experiments):\n",
    "\n",
    "        draw_list = hat.draw(num_balls_drawn)\n",
    "        draw_dic = {}\n",
    "        for ball in draw_list:\n",
    "            if ball not in draw_dic:\n",
    "                draw_dic[ball] = 0\n",
    "            draw_dic[ball] += 1\n",
    "\n",
    "        condition_list = []\n",
    "        for k, v in draw_dic.items():\n",
    "            if k in expected_balls:\n",
    "                if v >= expected_balls[k]:\n",
    "                    condition_list.append(True)\n",
    "                else:\n",
    "                    condition_list.append(False)\n",
    "            else:\n",
    "                condition_list.append(False)\n",
    "\n",
    "        if False not in condition_list:\n",
    "            success_num += 1\n",
    "\n",
    "    return success_num / num_experiments\n",
    "\n",
    "\n",
    "\n",
    "hat_final = Hat(black=6, red=4, green=3)\n",
    "probability = experiment(hat=hat_final,\n",
    "                         expected_balls={\"red\": 2, \"green\": 1},\n",
    "                         num_balls_drawn=5,\n",
    "                         num_experiments=2000)\n",
    "\n",
    "# random.seed(95)\n",
    "# hat = Hat(blue=4, red=2, green=6)\n",
    "# probability = experiment(\n",
    "#     hat=hat,\n",
    "#     expected_balls={\"blue\": 2,\n",
    "#                     \"red\": 1},\n",
    "#     num_balls_drawn=4,\n",
    "#     num_experiments=3000)\n",
    "# print(\"Probability:\", probability)\n",
    "\n",
    "print(probability)"
   ]
  },
  {
   "cell_type": "markdown",
   "metadata": {},
   "source": [
    "No sé qué falla, así que vamos poco a poco con las pruebas.\n",
    "\n",
    "```py\n",
    "    def test_hat_class_contents(self):\n",
    "        hat = prob_calculator.Hat(red=3,blue=2)\n",
    "        actual = hat.contents\n",
    "        expected = [\"red\",\"red\",\"red\",\"blue\",\"blue\"]\n",
    "        self.assertEqual(actual, expected, 'Expected creation of hat object to add correct contents.')\n",
    "```"
   ]
  },
  {
   "cell_type": "code",
   "execution_count": 9,
   "metadata": {},
   "outputs": [
    {
     "name": "stdout",
     "output_type": "stream",
     "text": [
      "['red', 'red', 'red', 'blue', 'blue']\n"
     ]
    }
   ],
   "source": [
    "hat = Hat(red=3, blue=2)\n",
    "actual = hat.contents\n",
    "print(actual)"
   ]
  },
  {
   "cell_type": "markdown",
   "metadata": {},
   "source": [
    "Una cosa que entendí mal: la lista de hat.contents se vacía DE VERDAD a medida que sacamos bolas con draw. Por lo tanto, si tenemos 7 bolas y hacemos un draw, en la lista quedarán 5.  \n",
    "```py\n",
    "   def test_hat_draw(self):\n",
    "        hat = prob_calculator.Hat(red=5,blue=2)\n",
    "        actual = hat.draw(2)\n",
    "        expected = ['blue', 'red']\n",
    "        self.assertEqual(actual, expected, 'Expected hat draw to return two random items from hat contents.')\n",
    "        actual = len(hat.contents)\n",
    "        expected = 5\n",
    "        self.assertEqual(actual, expected, 'Expected hat draw to reduce number of items in contents.')\n",
    "```\n"
   ]
  },
  {
   "cell_type": "code",
   "execution_count": 113,
   "metadata": {},
   "outputs": [
    {
     "name": "stdout",
     "output_type": "stream",
     "text": [
      "['blue', 'red']\n",
      "5\n"
     ]
    }
   ],
   "source": [
    "class Hat:\n",
    "\n",
    "    def __init__(self, **kwargs):\n",
    "\n",
    "        # Ahora la copia será contents, pero mantendré una lista sin tocar\n",
    "        self.contents_init = []\n",
    "        \n",
    "        if kwargs:\n",
    "            for k, v in kwargs.items():\n",
    "                for n in range(v):\n",
    "                    self.contents_init.append(k)\n",
    "        \n",
    "        self.contents = self.contents_init.copy()\n",
    "\n",
    "    def __str__(self):\n",
    "        if self.contents:\n",
    "            return str(self.contents)\n",
    "        else:\n",
    "            return 'You must add 1 ball at least.'\n",
    "\n",
    "    def draw(self, number):\n",
    "        chosen_list = []\n",
    "        while number > 0:\n",
    "            if len(self.contents) > 0:\n",
    "                chosen_ball = random.choice(self.contents)\n",
    "                chosen_list.append(chosen_ball)\n",
    "                self.contents.remove(chosen_ball)\n",
    "                number -= 1\n",
    "            else: \n",
    "                self.contents = self.contents_init.copy()    \n",
    "                \n",
    "        return chosen_list\n",
    "        \n",
    "        \n",
    "        # if number < len(self.contents)+1:\n",
    "        #     drawlist = self.contents.copy()\n",
    "        #     chosen_list = []\n",
    "        #     for n in range(number):\n",
    "        #         chosen_ball = random.choice(drawlist)\n",
    "        #         chosen_list.append(chosen_ball)\n",
    "        #         drawlist.remove(chosen_ball)\n",
    "        #     return chosen_list\n",
    "\n",
    "\n",
    "hat = Hat(red=5, blue=2)\n",
    "actual = hat.draw(2)\n",
    "print(actual)\n",
    "# expected = ['blue', 'red']\n",
    "\n",
    "\n",
    "actual = len(hat.contents)\n",
    "print(actual)\n",
    "# expected = 5\n"
   ]
  },
  {
   "cell_type": "markdown",
   "metadata": {},
   "source": [
    "Por último, parece que no he afinado bien con la probabilidad, porque se espera 0.272 con un delta de 0.01 y me sale 0.215.  \n",
    "Es posible que sea por el cambio en DRAW. Voy a probar a reiniciar contents cada vez que se inicia un draw, que creo que va a ir por ahí la cosa. \n",
    "\n",
    "```py\n",
    "    def test_prob_experiment(self):\n",
    "        hat = prob_calculator.Hat(blue=3,red=2,green=6)\n",
    "        probability = prob_calculator.experiment(hat=hat, expected_balls={\"blue\":2,\"green\":1}, num_balls_drawn=4, num_experiments=1000)\n",
    "        actual = probability\n",
    "        expected = 0.272\n",
    "        self.assertAlmostEqual(actual, expected, delta = 0.01, msg = 'Expected experiment method to return a different probability.')\n",
    "        hat = prob_calculator.Hat(yellow=5,red=1,green=3,blue=9,test=1)\n",
    "        probability = prob_calculator.experiment(hat=hat, expected_balls={\"yellow\":2,\"blue\":3,\"test\":1}, num_balls_drawn=20, num_experiments=100)\n",
    "        actual = probability\n",
    "        expected = 1.0\n",
    "        self.assertAlmostEqual(actual, expected, delta = 0.01, msg = 'Expected experiment method to return a different probability.')\n",
    "```\n"
   ]
  },
  {
   "cell_type": "code",
   "execution_count": null,
   "metadata": {},
   "outputs": [
    {
     "name": "stdout",
     "output_type": "stream",
     "text": [
      "0.477\n",
      "1.0\n"
     ]
    }
   ],
   "source": [
    "class Hat:\n",
    "\n",
    "    def __init__(self, **kwargs):\n",
    "\n",
    "        self.contents_init = []\n",
    "\n",
    "        if kwargs:\n",
    "            for k, v in kwargs.items():\n",
    "                for n in range(v):\n",
    "                    self.contents_init.append(k)\n",
    "\n",
    "    def draw(self, number):\n",
    "        self.contents = self.contents_init.copy()\n",
    "        self.chosen_list = []\n",
    "        while number > 0:\n",
    "            if len(self.contents) > 0:\n",
    "                chosen_ball = random.choice(self.contents)\n",
    "                self.chosen_list.append(chosen_ball)\n",
    "                self.contents.remove(chosen_ball)\n",
    "                number -= 1\n",
    "            else:\n",
    "                self.contents = self.contents_init.copy()\n",
    "\n",
    "        return self.chosen_list\n",
    "\n",
    "\n",
    "def experiment(hat, expected_balls, num_balls_drawn, num_experiments):\n",
    "\n",
    "    success_num = 0\n",
    "    for n in range(num_experiments):\n",
    "\n",
    "        draw_list = hat.draw(num_balls_drawn)\n",
    "        draw_dic = {}\n",
    "        for ball in draw_list:\n",
    "            if ball not in draw_dic:\n",
    "                draw_dic[ball] = 0\n",
    "            draw_dic[ball] += 1\n",
    "\n",
    "        condition_list = []\n",
    "        for k, v in draw_dic.items():\n",
    "            if k in expected_balls:\n",
    "                if v >= expected_balls[k]:\n",
    "                    condition_list.append(True)\n",
    "                else:\n",
    "                    condition_list.append(False)\n",
    "\n",
    "        if False not in condition_list:\n",
    "            success_num += 1\n",
    "\n",
    "    return success_num / num_experiments\n",
    "\n",
    "\n",
    "hat = Hat(blue=3,red=2,green=6)\n",
    "probability = experiment(hat=hat, expected_balls={\"blue\":2,\"green\":1}, num_balls_drawn=4, num_experiments=1000)\n",
    "print(probability)\n",
    "# expected = 0.272\n",
    "# self.assertAlmostEqual(actual, expected, delta = 0.01, msg = 'Expected experiment method to return a different probability.')\n",
    "\n",
    "hat = Hat(yellow=5,red=1,green=3,blue=9,test=1)\n",
    "probability = experiment(hat=hat, expected_balls={\"yellow\":2,\"blue\":3,\"test\":1}, num_balls_drawn=20, num_experiments=100)\n",
    "print(probability)\n",
    "# expected = 1.0\n",
    "# self.assertAlmostEqual(actual, expected, delta = 0.01, msg = 'Expected experiment method to return a different probability.')"
   ]
  },
  {
   "cell_type": "code",
   "execution_count": 49,
   "metadata": {},
   "outputs": [
    {
     "name": "stdout",
     "output_type": "stream",
     "text": [
      "yes\n",
      "no\n"
     ]
    }
   ],
   "source": [
    "chosen_list = []\n",
    "if len(chosen_list) == 0:\n",
    "    print('yes')\n",
    "else:\n",
    "    print('no')\n",
    "\n",
    "chosen_list.append('sdfdsf')\n",
    "if len(chosen_list) == 0:\n",
    "    print('yes')\n",
    "else:\n",
    "    print('no')"
   ]
  },
  {
   "cell_type": "code",
   "execution_count": 80,
   "metadata": {},
   "outputs": [
    {
     "name": "stdout",
     "output_type": "stream",
     "text": [
      "0.267\n"
     ]
    }
   ],
   "source": [
    "import copy\n",
    "import random\n",
    "# Consider using the modules imported above.\n",
    "\n",
    "\n",
    "class Hat:\n",
    "    # 可変長のキーワード付き引数を取るため、**kwargs を利用\n",
    "    def __init__(self, **kwargs):\n",
    "        self.contents = []\n",
    "        for key, value in kwargs.items():\n",
    "            self.contents += [key] * value\n",
    "\n",
    "    def draw(self, num):\n",
    "        contents = self.contents\n",
    "        if num > len(self.contents):\n",
    "            retval = self.contents\n",
    "            self.contents = []\n",
    "            return retval\n",
    "\n",
    "        # test_moduleではシードを固定しているので、いつも同じ値がサンプリングされる\n",
    "        retval = random.sample(self.contents, num)\n",
    "\n",
    "        # 配列の中で最初に一致した要素を削除していく\n",
    "        for target in retval:\n",
    "            contents.remove(target)\n",
    "        self.contents = contents\n",
    "\n",
    "        return retval\n",
    "\n",
    "\n",
    "def experiment(hat, expected_balls, num_balls_drawn, num_experiments):\n",
    "    actual = 0\n",
    "    keyword = {}\n",
    "    contents = hat.contents\n",
    "    for i in contents:\n",
    "        if i in keyword.keys():\n",
    "            val = keyword[i]\n",
    "            keyword[i] = val + 1\n",
    "        else:\n",
    "            keyword[i] = 1\n",
    "\n",
    "    for i in range(0, num_experiments):\n",
    "        # オブジェクト（可変長、map) を引数に渡すので、**を利用\n",
    "        # 取得したhatをそのままdrawすると、どんどん残りがなくなるので試行の度に生成します\n",
    "        new_hat = Hat(**keyword)\n",
    "        result = new_hat.draw(num_balls_drawn)\n",
    "        correct = True\n",
    "        for key, value in expected_balls.items():\n",
    "            if result.count(key) < value:\n",
    "                correct = False\n",
    "        if correct == True:\n",
    "            actual += 1\n",
    "\n",
    "    # 確率を産出（組み合わせで）\n",
    "    return actual / num_experiments\n",
    "\n",
    "\n",
    "hat = Hat(blue=3, red=2, green=6)\n",
    "probability = experiment(hat=hat, expected_balls={\n",
    "                         \"blue\": 2, \"green\": 1}, num_balls_drawn=4, num_experiments=1000)\n",
    "print(probability)\n"
   ]
  },
  {
   "cell_type": "code",
   "execution_count": 78,
   "metadata": {},
   "outputs": [
    {
     "name": "stdout",
     "output_type": "stream",
     "text": [
      "0.273\n"
     ]
    }
   ],
   "source": [
    "import copy\n",
    "import random\n",
    "\n",
    "\n",
    "class Hat:\n",
    "\n",
    "    def __init__(self, **kwargs):\n",
    "        contents = []\n",
    "        for key in kwargs:\n",
    "            for n in range(kwargs[key]):\n",
    "                contents.append(key)\n",
    "        self.contents = contents\n",
    "\n",
    "    # method to remove balls at random\n",
    "    def draw(self, number_to_draw):\n",
    "        balls_drawn = []\n",
    "        if number_to_draw >= len(self.contents):\n",
    "            return self.contents\n",
    "        else:\n",
    "            for n in range(number_to_draw):\n",
    "                i = random.randrange(len(self.contents))\n",
    "                balls_drawn.append(self.contents.pop(i))\n",
    "            self.contents = self.contents\n",
    "            return balls_drawn\n",
    "\n",
    "\n",
    "def experiment(hat, expected_balls, num_balls_drawn, num_experiments):\n",
    "    bad = 0\n",
    "\n",
    "    for n in range(num_experiments):\n",
    "        # hat object containing balls\n",
    "        hat_copy = copy.deepcopy(hat)\n",
    "        # the colours drawn out of the copied hat object\n",
    "        colours = hat_copy.draw(num_balls_drawn)\n",
    "        # if each ball drawn matches an expected ball, add it to a count\n",
    "        for key in expected_balls.keys():\n",
    "            count = 0\n",
    "            for x in range(len(colours)):\n",
    "                if colours[x] == key:\n",
    "                    count += 1\n",
    "            if count < expected_balls[key]:\n",
    "                bad += 1\n",
    "                break\n",
    "\n",
    "    return 1 - (bad / num_experiments)\n",
    "\n",
    "\n",
    "hat = Hat(blue=3, red=2, green=6)\n",
    "probability = experiment(hat=hat, expected_balls={\n",
    "                         \"blue\": 2, \"green\": 1}, num_balls_drawn=4, num_experiments=1000)\n",
    "print(probability)\n"
   ]
  },
  {
   "cell_type": "markdown",
   "metadata": {},
   "source": [
    "Voy a probar a cambiar la función. Tal vez es porque he hecho un for al diccionario de draw y tenía que iterar sobre expected para establecer los éxitos."
   ]
  },
  {
   "cell_type": "code",
   "execution_count": 88,
   "metadata": {},
   "outputs": [
    {
     "name": "stdout",
     "output_type": "stream",
     "text": [
      "0.28\n",
      "1.0\n"
     ]
    }
   ],
   "source": [
    "import random\n",
    "\n",
    "\n",
    "class Hat:\n",
    "\n",
    "    def __init__(self, **kwargs):\n",
    "        self.contents_init = []\n",
    "        for k, v in kwargs.items():\n",
    "            for n in range(v):\n",
    "                self.contents_init.append(k)\n",
    "        self.contents = self.contents_init.copy()\n",
    "\n",
    "    def draw(self, number):\n",
    "\n",
    "        if number < len(self.contents):\n",
    "            drawlist = self.contents.copy()\n",
    "            chosen_list = []\n",
    "            for n in range(number):\n",
    "                chosen_ball = random.choice(drawlist)\n",
    "                chosen_list.append(chosen_ball)\n",
    "                drawlist.remove(chosen_ball)\n",
    "            return chosen_list\n",
    "\n",
    "        return self.contents\n",
    "\n",
    "\n",
    "def experiment(hat, expected_balls, num_balls_drawn, num_experiments):\n",
    "\n",
    "    success_num = 0\n",
    "    for n in range(num_experiments):\n",
    "\n",
    "        draw_list = hat.draw(num_balls_drawn)\n",
    "        draw_dic = {}\n",
    "        for ball in draw_list:\n",
    "            if ball not in draw_dic:\n",
    "                draw_dic[ball] = 0\n",
    "            draw_dic[ball] += 1\n",
    "\n",
    "        condition_list = []\n",
    "        for k, v in expected_balls.items():\n",
    "            if k in draw_dic:\n",
    "                if v <= draw_dic[k]:\n",
    "                    condition_list.append(True)\n",
    "                else:\n",
    "                    condition_list.append(False)\n",
    "            else:\n",
    "                condition_list.append(False)\n",
    "\n",
    "        if False not in condition_list:\n",
    "            success_num += 1\n",
    "\n",
    "    return success_num / num_experiments\n",
    "\n",
    "\n",
    "# hat_final = Hat(black=6, red=4, green=3)\n",
    "# probability = experiment(hat=hat_final,\n",
    "#                          expected_balls={\"red\": 2, \"green\": 1},\n",
    "#                          num_balls_drawn=5,\n",
    "#                          num_experiments=2000)\n",
    "\n",
    "# random.seed(95)\n",
    "# hat = Hat(blue=4, red=2, green=6)\n",
    "# probability = experiment(\n",
    "#     hat=hat,\n",
    "#     expected_balls={\"blue\": 2,\n",
    "#                     \"red\": 1},\n",
    "#     num_balls_drawn=4,\n",
    "#     num_experiments=3000)\n",
    "# print(\"Probability:\", probability)\n",
    "\n",
    "# print(probability)\n",
    "\n",
    "hat = Hat(blue=3, red=2, green=6)\n",
    "probability = experiment(hat=hat, expected_balls={\n",
    "                         \"blue\": 2, \"green\": 1}, num_balls_drawn=4, num_experiments=1000)\n",
    "print(probability)\n",
    "# expected = 0.272\n",
    "# self.assertAlmostEqual(actual, expected, delta = 0.01, msg = 'Expected experiment method to return a different probability.')\n",
    "\n",
    "hat = Hat(yellow=5, red=1, green=3, blue=9, test=1)\n",
    "probability = experiment(hat=hat, expected_balls={\n",
    "                         \"yellow\": 2, \"blue\": 3, \"test\": 1}, num_balls_drawn=20, num_experiments=100)\n",
    "print(probability)\n",
    "# expected = 1.0\n",
    "# self.assertAlmostEqual(actual, expected, delta = 0.01, msg = 'Expected experiment method to return a different probability.')\n"
   ]
  },
  {
   "cell_type": "markdown",
   "metadata": {},
   "source": [
    "¡Parece que funciona!  \n",
    "¿Y qué tal más sencillo aún? Es posible que recrear un diccionario a partir del hat.draw(x) sea innecesario. Al fin y al cabo, podemos comparar con un hat.draw().count(key)."
   ]
  },
  {
   "cell_type": "code",
   "execution_count": 125,
   "metadata": {},
   "outputs": [
    {
     "name": "stdout",
     "output_type": "stream",
     "text": [
      "['blue', 'red']\n",
      "5\n",
      "0.284\n",
      "1.0\n"
     ]
    }
   ],
   "source": [
    "import random\n",
    "\n",
    "\n",
    "class Hat:\n",
    "\n",
    "    def __init__(self, **kwargs):\n",
    "        self.contents_init = []\n",
    "        for k, v in kwargs.items():\n",
    "            for n in range(v):\n",
    "                self.contents_init.append(k)\n",
    "\n",
    "    def draw(self, number):\n",
    "        \n",
    "        self.contents = self.contents_init.copy()\n",
    "        if number >= len(self.contents):\n",
    "            return self.contents\n",
    "        else:\n",
    "            chosen_list = []\n",
    "            for n in range (number):\n",
    "                chosen_ball = random.choice(self.contents)\n",
    "                chosen_list.append(chosen_ball)\n",
    "                self.contents.remove(chosen_ball)\n",
    "        return chosen_list\n",
    "\n",
    "\n",
    "def experiment(hat, expected_balls, num_balls_drawn, num_experiments):\n",
    "\n",
    "    success_num = 0\n",
    "    for e in range(num_experiments):\n",
    "\n",
    "        draw_list = hat.draw(num_balls_drawn)\n",
    "        condition_list = []\n",
    "        for k, v in expected_balls.items():\n",
    "            if k in draw_list:\n",
    "                if v <= draw_list.count(k):\n",
    "                    condition_list.append(True)\n",
    "                else:\n",
    "                    condition_list.append(False)\n",
    "            else:\n",
    "                condition_list.append(False)\n",
    "\n",
    "        if False not in condition_list:\n",
    "            success_num += 1\n",
    "\n",
    "    return success_num / num_experiments\n",
    "\n",
    "\n",
    "hat = Hat(red=5, blue=2)\n",
    "actual = hat.draw(2)\n",
    "print(actual)\n",
    "# expected = ['blue', 'red']\n",
    "\n",
    "actual = len(hat.contents)\n",
    "print(actual)\n",
    "# expected = 5\n",
    "\n",
    "hat = Hat(blue=3, red=2, green=6)\n",
    "probability = experiment(hat=hat, expected_balls={\n",
    "                         \"blue\": 2, \"green\": 1}, num_balls_drawn=4, num_experiments=1000)\n",
    "print(probability)\n",
    "\n",
    "hat = Hat(yellow=5, red=1, green=3, blue=9, test=1)\n",
    "probability = experiment(hat=hat, expected_balls={\n",
    "                         \"yellow\": 2, \"blue\": 3, \"test\": 1}, num_balls_drawn=20, num_experiments=100)\n",
    "print(probability)\n"
   ]
  }
 ],
 "metadata": {
  "kernelspec": {
   "display_name": "Python 3.10.2 64-bit",
   "language": "python",
   "name": "python3"
  },
  "language_info": {
   "codemirror_mode": {
    "name": "ipython",
    "version": 3
   },
   "file_extension": ".py",
   "mimetype": "text/x-python",
   "name": "python",
   "nbconvert_exporter": "python",
   "pygments_lexer": "ipython3",
   "version": "3.10.2"
  },
  "orig_nbformat": 4,
  "vscode": {
   "interpreter": {
    "hash": "39b789f43ab4ce5f8b369458ca4c0f6573cd759231c4a20c311c91660bd81436"
   }
  }
 },
 "nbformat": 4,
 "nbformat_minor": 2
}
