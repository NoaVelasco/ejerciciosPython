{
 "cells": [
  {
   "cell_type": "markdown",
   "metadata": {},
   "source": [
    "Reglas:  \n",
    "Además de problems, la función puede tomar un 2.º argumento booleano  \n",
    "si es True, realiza las operaciones y las muestra  \n",
    "\n",
    "Errores:  \n",
    "Más de 5 operaciones > Error: Too many problems.  \n",
    "Operador que no sea -/+ > Error: Operator must be '+' or '-'.  \n",
    "Operandos dígitos o > Error: Numbers must only contain digits.  \n",
    "Máx. 4 cifras > Error: Numbers cannot be more than four digits.  \n",
    "\n",
    "Números alineados a la derecha.  \n",
    "Cuatro espacios entre problemas.  \n",
    "guiones bajo cada problema.  \n",
    "el operador está a un espacio del operando más largo.  \n",
    "\n",
    "```\n",
    "  32         1      9999      523  \n",
    "+  8    - 3801    + 9999    -  49  \n",
    "----    ------    ------    -----  \n",
    "  40     -3800     19998      474  \n",
    "```"
   ]
  },
  {
   "cell_type": "markdown",
   "metadata": {},
   "source": [
    "Primer acercamiento"
   ]
  },
  {
   "cell_type": "code",
   "execution_count": 29,
   "metadata": {},
   "outputs": [],
   "source": [
    "def arithmetic_arranger(problems):\n",
    "    op_list = []\n",
    "    \n",
    "    if len(problems) > 5:\n",
    "        print(\"Error: Too many problems. \")\n",
    "    else:\n",
    "        for op in problems:\n",
    "            triple_true = 0\n",
    "            elem = op.split()\n",
    "            \n",
    "            if elem[0].isdigit() and elem[2].isdigit():\n",
    "                triple_true += 1\n",
    "            else: \n",
    "                print(\"Error: Numbers must only contain digits.\")\n",
    "                \n",
    "            \n",
    "            if len(elem[0]) and len(elem[2]) < 5:\n",
    "                triple_true += 1\n",
    "            else: \n",
    "                print(\"Error: Numbers cannot be more than four digits.\")\n",
    "                \n",
    "            if elem[1] == '-' or '+':\n",
    "                triple_true += 1\n",
    "            else: \n",
    "                print(\"Error: Operator must be '+' or '-'.\")\n",
    "            \n",
    "            if triple_true == 3:\n",
    "                op_list.append(elem)\n",
    "        \n",
    "    # separados = problems.split()\n",
    "\n",
    "    # return arranged_problems\n",
    "    return op_list\n",
    "\n",
    "# @TODO parar el proceso si se da un error."
   ]
  },
  {
   "cell_type": "markdown",
   "metadata": {},
   "source": [
    "Segundo acercamiento. Solucionados los errores según reglas."
   ]
  },
  {
   "cell_type": "code",
   "execution_count": 31,
   "metadata": {},
   "outputs": [
    {
     "name": "stdout",
     "output_type": "stream",
     "text": [
      "[['32', '+', '698'], ['3801', '-', '2'], ['45', '+', '43'], ['123', '+', '49']]\n",
      "Error: Too many problems.\n"
     ]
    }
   ],
   "source": [
    "def arithmetic_arranger(problems):\n",
    "    op_list = []\n",
    "    errors = []\n",
    "    err_prompt = {\n",
    "        'prob' : \"Error: Too many problems.\",\n",
    "        'dig' : \"Error: Numbers must only contain digits.\",\n",
    "        'num' : \"Error: Numbers cannot be more than four digits.\",\n",
    "        'oper' : \"Error: Operator must be '+' or '-'.\"\n",
    "    }\n",
    "    if len(problems) > 5:\n",
    "        errors.append(\"prob\")\n",
    "\n",
    "    else:\n",
    "        for op in problems:\n",
    "            elem = op.split()\n",
    "            x = elem[0].isdigit()\n",
    "            z = elem[2].isdigit()\n",
    "\n",
    "            if x is False or z is False:\n",
    "                errors.append(\"dig\")\n",
    "                break\n",
    "\n",
    "            # cuidado con esta sintaxis si tengo un error\n",
    "            if (len(elem[0]) or len(elem[2])) > 4:\n",
    "                errors.append(\"num\")\n",
    "                break\n",
    "\n",
    "            if elem[1] != '+' and elem[1] != '-':\n",
    "                errors.append(\"oper\")\n",
    "                break\n",
    "\n",
    "            if bool(errors) is False:\n",
    "                op_list.append(elem)\n",
    "\n",
    "    if bool(errors) is False:\n",
    "        return op_list\n",
    "\n",
    "    for err in errors:\n",
    "        return err_prompt[err]\n",
    "    \n",
    "    # try:\n",
    "    #     return err_prompt[errors[0]]\n",
    "    # except:\n",
    "    #     return op_list\n",
    "\n",
    "print(arithmetic_arranger([\"32 + 698\", \"3801 - 2\", \"45 + 43\", \"123 + 49\"]))\n",
    "print(arithmetic_arranger([\"32d + 698\", \"3801 / 2\", \"45 + 43\", \"12333 + 49\", \"dsf sd sdf\", \"dfdf d sdfsdf\"]))\n"
   ]
  },
  {
   "cell_type": "code",
   "execution_count": 63,
   "metadata": {},
   "outputs": [
    {
     "name": "stdout",
     "output_type": "stream",
     "text": [
      "Error: Numbers must only contain digits.\n",
      "None\n",
      "Error: Numbers must only contain digits.\n",
      "None\n"
     ]
    }
   ],
   "source": [
    "print(arithmetic_arranger([\"32 + 698\", \"3801 - 2\", \"45 + 43\", \"123 + 49\"]))\n",
    "print(arithmetic_arranger([\"32d + 698\", \"3801 - 2\", \"45 + 43\", \"123 + 49\"]))\n"
   ]
  },
  {
   "cell_type": "markdown",
   "metadata": {},
   "source": [
    "Dejo hecha una opción para el cómputo a partir de cadenas, que no sé si habrá otras formas más elegantes."
   ]
  },
  {
   "cell_type": "code",
   "execution_count": 36,
   "metadata": {},
   "outputs": [
    {
     "name": "stdout",
     "output_type": "stream",
     "text": [
      "30\n",
      "34\n"
     ]
    }
   ],
   "source": [
    "a = [\"32\", \"-\", \"2\"]\n",
    "b = [\"32\", \"+\", \"2\"]\n",
    "\n",
    "if a[1] == \"-\":\n",
    "    print(int(a[0]) - int(a[2]))\n",
    "if b[1] == \"+\":\n",
    "    print(int(b[0]) + int(b[2]))"
   ]
  },
  {
   "cell_type": "markdown",
   "metadata": {},
   "source": [
    "Ahora solo queda establecer la matriz de operaciones."
   ]
  },
  {
   "cell_type": "code",
   "execution_count": 36,
   "metadata": {},
   "outputs": [
    {
     "name": "stdout",
     "output_type": "stream",
     "text": [
      "   32      3801      45      123\n",
      "+ 698    -    2    + 43    +  49\n",
      "-----    ------    ----    -----\n"
     ]
    }
   ],
   "source": [
    "input = [['32', '+', '698'], ['3801', '-', '2'],\n",
    "         ['45', '+', '43'], ['123', '+', '49']]\n",
    "\n",
    "long_tot = []\n",
    "max_i = []\n",
    "spc_fix = '    '\n",
    "\n",
    "for i in input:\n",
    "    long_i = []\n",
    "    for sub in i:\n",
    "        long_i.append(len(sub))\n",
    "    long_i.append(max(long_i)+2)\n",
    "    long_tot.append(long_i)\n",
    "    max_i.append(max(long_i))\n",
    "\n",
    "line_output_1 = []\n",
    "line_output_2 = []\n",
    "line_output_3 = []\n",
    "    \n",
    "for x in range(len(input)):\n",
    "    if long_tot[x][0] > long_tot[x][2]:\n",
    "        line_output_1.append(f'  {input[x][0]}')\n",
    "        temp_spc = long_tot[x][3] - long_tot[x][2] - 1\n",
    "        line_output_2.append(input[x][1] + temp_spc * ' ' + input[x][2])\n",
    "        line_output_3.append(long_tot[x][3] * '-')\n",
    "        \n",
    "    else:\n",
    "        temp_spc = long_tot[x][3] - long_tot[x][0]\n",
    "        line_output_1.append(temp_spc * ' ' + input[x][0])\n",
    "        line_output_2.append(input[x][1] + ' ' + input[x][2])\n",
    "        line_output_3.append(long_tot[x][3] * '-')\n",
    "        \n",
    "\n",
    "    line_output_1.append(spc_fix)\n",
    "    line_output_2.append(spc_fix)\n",
    "    line_output_3.append(spc_fix)\n",
    "\n",
    "line_output_1[-1] = '\\n'\n",
    "line_output_2[-1] = '\\n'\n",
    "line_output_3.pop()\n",
    "\n",
    "output = ''.join(line_output_1 + line_output_2 + line_output_3)\n",
    "\n",
    "# long_tot\n",
    "# max_i\n",
    "# print(line_output_1)\n",
    "# print(line_output_2)\n",
    "# print(line_output_3)\n",
    "\n",
    "print(output)\n"
   ]
  },
  {
   "cell_type": "markdown",
   "metadata": {},
   "source": [
    "¡Funciona! Ahora vamos a intentar ponerlo todo junto."
   ]
  },
  {
   "cell_type": "code",
   "execution_count": 70,
   "metadata": {},
   "outputs": [
    {
     "name": "stdout",
     "output_type": "stream",
     "text": [
      "   32      3801      45      123\n",
      "+ 698    -    2    + 43    +  49\n",
      "-----    ------    ----    -----\n",
      "  730      3799      88      172\n",
      "Error: Numbers cannot be more than four digits.\n"
     ]
    }
   ],
   "source": [
    "def arithmetic_arranger(problems, *boolean):\n",
    "    op_list = []\n",
    "    errors = []\n",
    "    err_prompt = {\n",
    "        'prob': \"Error: Too many problems.\",\n",
    "        'dig': \"Error: Numbers must only contain digits.\",\n",
    "        'num': \"Error: Numbers cannot be more than four digits.\",\n",
    "        'oper': \"Error: Operator must be '+' or '-'.\"\n",
    "    }\n",
    "    if len(problems) > 5:\n",
    "        errors.append(\"prob\")\n",
    "\n",
    "    else:\n",
    "        for op in problems:\n",
    "            elem = op.split()\n",
    "            x = elem[0].isdigit()\n",
    "            z = elem[2].isdigit()\n",
    "\n",
    "            if x is False or z is False:\n",
    "                errors.append(\"dig\")\n",
    "                break\n",
    "\n",
    "            if (len(elem[0]) > 4 or len(elem[2])) > 4:\n",
    "                errors.append(\"num\")\n",
    "                break\n",
    "\n",
    "            if elem[1] != '+' and elem[1] != '-':\n",
    "                errors.append(\"oper\")\n",
    "                break\n",
    "\n",
    "            if bool(errors) is False:\n",
    "                op_list.append(elem)\n",
    "\n",
    "    for err in errors:\n",
    "        return err_prompt[err]\n",
    "\n",
    "    if bool(errors) is False:\n",
    "        long_tot = []\n",
    "        max_i = []\n",
    "        spc_fix = '    '\n",
    "\n",
    "        for i in op_list:\n",
    "            long_i = []\n",
    "            for sub in i:\n",
    "                long_i.append(len(sub))\n",
    "            long_i.append(max(long_i)+2)\n",
    "            long_tot.append(long_i)\n",
    "            max_i.append(max(long_i))\n",
    "\n",
    "        line_output_1 = []\n",
    "        line_output_2 = []\n",
    "        line_output_3 = []\n",
    "        line_output_4 = []\n",
    "\n",
    "        for x in range(len(op_list)):\n",
    "            if long_tot[x][0] > long_tot[x][2]:\n",
    "                line_output_1.append(f'  {op_list[x][0]}')\n",
    "                temp_spc = long_tot[x][3] - long_tot[x][2] - 1\n",
    "                line_output_2.append(op_list[x][1] + temp_spc * ' ' + op_list[x][2])\n",
    "                line_output_3.append(long_tot[x][3] * '-')\n",
    "\n",
    "            else:\n",
    "                temp_spc = long_tot[x][3] - long_tot[x][0]\n",
    "                line_output_1.append(temp_spc * ' ' + op_list[x][0])\n",
    "                line_output_2.append(op_list[x][1] + ' ' + op_list[x][2])\n",
    "                line_output_3.append(long_tot[x][3] * '-')\n",
    "\n",
    "            line_output_1.append(spc_fix)\n",
    "            line_output_2.append(spc_fix)\n",
    "            line_output_3.append(spc_fix)\n",
    "            \n",
    "            if True in boolean:\n",
    "                if op_list[x][1] == \"-\":\n",
    "                    operation = str(int(op_list[x][0]) - int(op_list[x][2]))\n",
    "                if op_list[x][1] == \"+\":\n",
    "                    operation = str(int(op_list[x][0]) + int(op_list[x][2]))\n",
    "                temp_spc = long_tot[x][3] - len(operation)\n",
    "                line_output_4.append(temp_spc * ' ' + operation)\n",
    "                line_output_4.append(spc_fix)\n",
    "\n",
    "        line_output_1[-1] = '\\n'\n",
    "        line_output_2[-1] = '\\n'\n",
    "        \n",
    "        if True in boolean:\n",
    "            line_output_3[-1] = '\\n'\n",
    "            line_output_4.pop()\n",
    "            output = ''.join(line_output_1 + line_output_2 + line_output_3 + line_output_4)\n",
    "            \n",
    "        else:\n",
    "            line_output_3.pop()\n",
    "            output = ''.join(line_output_1 + line_output_2 + line_output_3)\n",
    "        \n",
    "        return output\n",
    "        # return boolean\n",
    "\n",
    "\n",
    "print(arithmetic_arranger([\"32 + 698\", \"3801 - 2\", \"45 + 43\", \"123 + 49\"], True))\n",
    "print(arithmetic_arranger([\"32 + 698\", \"3801 + 2\",\n",
    "      \"45 + 43\", \"12333 + 49\"]))\n"
   ]
  },
  {
   "cell_type": "code",
   "execution_count": 55,
   "metadata": {},
   "outputs": [
    {
     "name": "stdout",
     "output_type": "stream",
     "text": [
      "yeah\n"
     ]
    }
   ],
   "source": [
    "tupla = (True,)\n",
    "\n",
    "if True in tupla:\n",
    "    print(\"yeah\")"
   ]
  }
 ],
 "metadata": {
  "kernelspec": {
   "display_name": "Python 3.10.2 64-bit",
   "language": "python",
   "name": "python3"
  },
  "language_info": {
   "codemirror_mode": {
    "name": "ipython",
    "version": 3
   },
   "file_extension": ".py",
   "mimetype": "text/x-python",
   "name": "python",
   "nbconvert_exporter": "python",
   "pygments_lexer": "ipython3",
   "version": "3.10.2"
  },
  "orig_nbformat": 4,
  "vscode": {
   "interpreter": {
    "hash": "39b789f43ab4ce5f8b369458ca4c0f6573cd759231c4a20c311c91660bd81436"
   }
  }
 },
 "nbformat": 4,
 "nbformat_minor": 2
}
