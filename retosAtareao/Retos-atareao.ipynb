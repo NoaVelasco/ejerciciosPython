{
 "cells": [
  {
   "cell_type": "markdown",
   "id": "28b97047",
   "metadata": {},
   "source": [
    "# Reto 01\n",
    "\n",
    "> Consiste en encontrar la carpeta de descargas del usuario (independientemente de sus personalizaciones, tiene que funcionar si la tiene en otro lado o es un usuario cualquiera) y listar solo los archivos de la carpeta.\n"
   ]
  },
  {
   "cell_type": "markdown",
   "id": "7f691dea",
   "metadata": {},
   "source": [
    "Sacado de https://j2logo.com/python/listar-directorio-en-python/\n",
    "\n",
    "Para listar o recorrer un directorio:"
   ]
  },
  {
   "cell_type": "code",
   "execution_count": 2,
   "id": "9c5ec8d5",
   "metadata": {
    "scrolled": true
   },
   "outputs": [
    {
     "data": {
      "text/plain": [
       "['backupsTabGroupsFirefox',\n",
       " 'borrar-cuando-termine-reto.txt',\n",
       " 'desktop.ini',\n",
       " 'oso-trospido.jpg',\n",
       " 'Packs tipografías descargadas',\n",
       " 'Telegram Desktop',\n",
       " '_editores texto y código',\n",
       " '_Libros',\n",
       " '_Portátil',\n",
       " '_Servicios Editoriales',\n",
       " '_Varios']"
      ]
     },
     "execution_count": 2,
     "metadata": {},
     "output_type": "execute_result"
    }
   ],
   "source": [
    "import os\n",
    "contenido = os.listdir('/Users/noave/Downloads')\n",
    "contenido"
   ]
  },
  {
   "cell_type": "markdown",
   "id": "cfa4620d",
   "metadata": {},
   "source": [
    "El primer problema es que me muestra también todas las carpetas. El segundo, que aún no sé cómo encontrar un directorio con un comodín. Al parecer, en Windows requiere acceder al registro, pero he leído que hay otro método. "
   ]
  },
  {
   "cell_type": "markdown",
   "id": "cc4fb007",
   "metadata": {},
   "source": [
    "Para mostrar los archivos de tipo jpg de una carpeta:"
   ]
  },
  {
   "cell_type": "code",
   "execution_count": 3,
   "id": "9fc0fdd0",
   "metadata": {},
   "outputs": [
    {
     "name": "stdout",
     "output_type": "stream",
     "text": [
      "['oso-trospido.jpg']\n"
     ]
    }
   ],
   "source": [
    "import os\n",
    "ejemplo_dir = '/Users/noave/Downloads'\n",
    "contenido = os.listdir(ejemplo_dir)\n",
    "imagenes = []\n",
    "for fichero in contenido:\n",
    "    if os.path.isfile(os.path.join(ejemplo_dir, fichero)) and fichero.endswith('.jpg'):\n",
    "        imagenes.append(fichero)\n",
    "print(imagenes)"
   ]
  },
  {
   "cell_type": "markdown",
   "id": "8961c2ba",
   "metadata": {},
   "source": [
    "Con scandir() puedo listar los ficheros de un directorio. Es la opción recomendada."
   ]
  },
  {
   "cell_type": "code",
   "execution_count": 4,
   "id": "ebd469a4",
   "metadata": {},
   "outputs": [
    {
     "name": "stdout",
     "output_type": "stream",
     "text": [
      "backupsTabGroupsFirefox\n",
      "borrar-cuando-termine-reto.txt\n",
      "desktop.ini\n",
      "oso-trospido.jpg\n",
      "Telegram Desktop\n",
      "_editores texto y código\n",
      "_Libros\n",
      "_Portátil\n",
      "_Servicios Editoriales\n",
      "_Varios\n"
     ]
    }
   ],
   "source": [
    "import os\n",
    "ejemplo_dir = '/Users/noave/Downloads'\n",
    "with os.scandir(ejemplo_dir) as ficheros:\n",
    "    for fichero in ficheros:\n",
    "        print(fichero.name)"
   ]
  },
  {
   "cell_type": "markdown",
   "id": "be4e243d",
   "metadata": {},
   "source": [
    "Y también está iterdir() del módulo pathlib, también recomendado y que permite filtrar con is_file() o is_dir()."
   ]
  },
  {
   "cell_type": "code",
   "execution_count": 5,
   "id": "5b65b1bc",
   "metadata": {},
   "outputs": [
    {
     "name": "stdout",
     "output_type": "stream",
     "text": [
      "backupsTabGroupsFirefox\n",
      "borrar-cuando-termine-reto.txt\n",
      "desktop.ini\n",
      "oso-trospido.jpg\n",
      "Telegram Desktop\n",
      "_editores texto y código\n",
      "_Libros\n",
      "_Portátil\n",
      "_Servicios Editoriales\n",
      "_Varios\n"
     ]
    }
   ],
   "source": [
    "import pathlib\n",
    "ejemplo_dir = '/Users/noave/Downloads'\n",
    "directorio = pathlib.Path(ejemplo_dir)\n",
    "for fichero in directorio.iterdir():\n",
    "    print(fichero.name)"
   ]
  },
  {
   "cell_type": "markdown",
   "id": "7671fa86",
   "metadata": {},
   "source": [
    "Para recorrer solo los ficheros de un directorio, dos métodos con lo que hemos visto. "
   ]
  },
  {
   "cell_type": "code",
   "execution_count": 7,
   "id": "91e1bdeb",
   "metadata": {},
   "outputs": [
    {
     "name": "stdout",
     "output_type": "stream",
     "text": [
      "['borrar-cuando-termine-reto.txt', 'desktop.ini', 'oso-trospido.jpg']\n"
     ]
    }
   ],
   "source": [
    "import os\n",
    "ejemplo_dir = '/Users/noave/Downloads'\n",
    "with os.scandir(ejemplo_dir) as ficheros:\n",
    "    ficheros = [fichero.name for fichero in ficheros if fichero.is_file()]\n",
    "print(ficheros)"
   ]
  },
  {
   "cell_type": "code",
   "execution_count": 14,
   "id": "a28ca54e",
   "metadata": {},
   "outputs": [
    {
     "name": "stdout",
     "output_type": "stream",
     "text": [
      "borrar-cuando-termine-reto.txt\n",
      "desktop.ini\n",
      "oso-trospido.jpg\n"
     ]
    }
   ],
   "source": [
    "import pathlib\n",
    "\n",
    "ejemplo_dir = '/Users/noave/Downloads/'\n",
    "\n",
    "directorio = pathlib.Path(ejemplo_dir)\n",
    "ficheros = [fichero.name for fichero in directorio.iterdir() if fichero.is_file()]\n",
    "for i in ficheros:\n",
    "    print(i)"
   ]
  },
  {
   "cell_type": "code",
   "execution_count": 10,
   "id": "330cbf51",
   "metadata": {},
   "outputs": [
    {
     "name": "stdout",
     "output_type": "stream",
     "text": [
      "['backupsTabGroupsFirefox', 'Telegram Desktop', '_editores texto y código', '_Libros', '_Portátil', '_Servicios Editoriales', '_Varios']\n"
     ]
    }
   ],
   "source": [
    "#Y si solo queremos las carpetas:\n",
    "\n",
    "import os\n",
    "ejemplo_dir = '/Users/noave/Downloads/'\n",
    "with os.scandir(ejemplo_dir) as ficheros:\n",
    "    subdirectorios = [fichero.name for fichero in ficheros if fichero.is_dir()]\n",
    "print(subdirectorios)"
   ]
  },
  {
   "cell_type": "markdown",
   "id": "08a65934",
   "metadata": {},
   "source": [
    "Pues ya tenemos un ganador. Ahora solo nos falta descubrir la manera de que Python encuentre la carpeta de descargas, esté donde esté. "
   ]
  },
  {
   "cell_type": "code",
   "execution_count": 18,
   "id": "e64e75a7",
   "metadata": {},
   "outputs": [
    {
     "name": "stdout",
     "output_type": "stream",
     "text": [
      "C:\\Users\\noave\\Python\n"
     ]
    }
   ],
   "source": [
    "DIRECTORIO_BASE_2 = os.getcwd()\n",
    "print(DIRECTORIO_BASE_2)\n"
   ]
  },
  {
   "cell_type": "markdown",
   "id": "24ffe8a7",
   "metadata": {},
   "source": [
    "https://stackoverflow.com/questions/35851281/python-finding-the-users-downloads-folder\n",
    "\n",
    "Alguien dio esta posible solución, pero como toca registro, no me atrevo a meterla tal cual:\n",
    "\n",
    "```import os\n",
    "\n",
    "def get_download_path():\n",
    "    \"\"\"Returns the default downloads path for linux or windows\"\"\"\n",
    "    if os.name == 'nt':\n",
    "        import winreg\n",
    "        sub_key = r'SOFTWARE\\Microsoft\\Windows\\CurrentVersion\\Explorer\\Shell Folders'\n",
    "        downloads_guid = '{374DE290-123F-4565-9164-39C4925E467B}'\n",
    "        with winreg.OpenKey(winreg.HKEY_CURRENT_USER, sub_key) as key:\n",
    "            location = winreg.QueryValueEx(key, downloads_guid)[0]\n",
    "        return location\n",
    "    else:\n",
    "        return os.path.join(os.path.expanduser('~'), 'downloads')\n",
    "```\n",
    "\n",
    "Este me inspira más confianza, aunque de novato no tiene nada:\n",
    "\n",
    "```\n",
    "import os\n",
    "\n",
    "if os.name == 'nt':\n",
    "    import ctypes\n",
    "    from ctypes import windll, wintypes\n",
    "    from uuid import UUID\n",
    "\n",
    "    #ctypes GUID copied from MSDN sample code\n",
    "    class GUID(ctypes.Structure):\n",
    "        _fields_ = [\n",
    "            (\"Data1\", wintypes.DWORD),\n",
    "            (\"Data2\", wintypes.WORD),\n",
    "            (\"Data3\", wintypes.WORD),\n",
    "            (\"Data4\", wintypes.BYTE * 8)\n",
    "        ] \n",
    "\n",
    "        def __init__(self, uuidstr):\n",
    "            uuid = UUID(uuidstr)\n",
    "            ctypes.Structure.__init__(self)\n",
    "            self.Data1, self.Data2, self.Data3, \\\n",
    "                self.Data4[0], self.Data4[1], rest = uuid.fields\n",
    "            for i in range(2, 8):\n",
    "                self.Data4[i] = rest>>(8-i-1)*8 & 0xff\n",
    "\n",
    "    SHGetKnownFolderPath = windll.shell32.SHGetKnownFolderPath\n",
    "    SHGetKnownFolderPath.argtypes = [\n",
    "        ctypes.POINTER(GUID), wintypes.DWORD,\n",
    "        wintypes.HANDLE, ctypes.POINTER(ctypes.c_wchar_p)\n",
    "    ]\n",
    "\n",
    "    def _get_known_folder_path(uuidstr):\n",
    "        pathptr = ctypes.c_wchar_p()\n",
    "        guid = GUID(uuidstr)\n",
    "        if SHGetKnownFolderPath(ctypes.byref(guid), 0, 0, ctypes.byref(pathptr)):\n",
    "            raise ctypes.WinError()\n",
    "        return pathptr.value\n",
    "\n",
    "    FOLDERID_Download = '{374DE290-123F-4565-9164-39C4925E467B}'\n",
    "\n",
    "    def get_download_folder():\n",
    "        return _get_known_folder_path(FOLDERID_Download)\n",
    "else:\n",
    "    def get_download_folder():\n",
    "        home = os.path.expanduser(\"~\")\n",
    "        return os.path.join(home, \"Downloads\")\n",
    "        \n",
    "print(get_download_folder())\n",
    "```\n",
    "        "
   ]
  },
  {
   "cell_type": "code",
   "execution_count": 23,
   "id": "c95f260e",
   "metadata": {},
   "outputs": [
    {
     "name": "stdout",
     "output_type": "stream",
     "text": [
      "C:\\Users\\noave\\Downloads\n"
     ]
    }
   ],
   "source": [
    "def get_download_folder():\n",
    "        home = os.path.expanduser(\"~\")\n",
    "        return os.path.join(home, \"Downloads\")\n",
    "        \n",
    "print(get_download_folder())"
   ]
  },
  {
   "cell_type": "markdown",
   "id": "2430ff16",
   "metadata": {},
   "source": [
    "Vale, me ha funcionado. Supongo que si moviese la carpeta a otra parte, dejaría de funcionar (en realidad es la ruta por defecto home+downloads). Pero ya es algo. \n",
    "\n",
    "Ahora solo me falta… Hacer que imprima los archivos de ese directorio. "
   ]
  },
  {
   "cell_type": "code",
   "execution_count": 25,
   "id": "9116c9ac",
   "metadata": {},
   "outputs": [
    {
     "name": "stdout",
     "output_type": "stream",
     "text": [
      "C:\\Users\\noave\\Downloads\n",
      "borrar-cuando-termine-reto.txt\n",
      "desktop.ini\n",
      "oso-trospido.jpg\n"
     ]
    }
   ],
   "source": [
    "import pathlib\n",
    "\n",
    "def get_download_folder():\n",
    "        home = os.path.expanduser(\"~\")\n",
    "        return os.path.join(home, \"Downloads\")\n",
    "    \n",
    "print(get_download_folder())        \n",
    "\n",
    "ejemplo_dir = get_download_folder()\n",
    "directorio = pathlib.Path(ejemplo_dir)\n",
    "ficheros = [fichero.name for fichero in directorio.iterdir() if fichero.is_file()]\n",
    "for i in ficheros:\n",
    "    print(i)"
   ]
  },
  {
   "cell_type": "markdown",
   "id": "3f45f3ff",
   "metadata": {},
   "source": [
    "Reto conseguido. ¿Funcionará con otros usuarios?"
   ]
  },
  {
   "cell_type": "code",
   "execution_count": 55,
   "id": "aa5f84b2",
   "metadata": {},
   "outputs": [
    {
     "name": "stdout",
     "output_type": "stream",
     "text": [
      "C:\\Users\\noave\\Downloads\n",
      "borrar-cuando-termine-reto.txt\n",
      "desktop.ini\n",
      "oso-trospido.jpg\n"
     ]
    }
   ],
   "source": [
    "import os\n",
    "\n",
    "def get_download_folder():\n",
    "        home = os.path.expanduser(\"~\")\n",
    "        return os.path.join(home, \"Downloads\")\n",
    "    \n",
    "print(get_download_folder()) \n",
    "\n",
    "ejemplo_dir = get_download_folder()\n",
    "with os.scandir(ejemplo_dir) as ficheros:\n",
    "    ficheros = [fichero.name for fichero in ficheros if fichero.is_file()]\n",
    "for i in ficheros:\n",
    "    print(i)"
   ]
  },
  {
   "cell_type": "markdown",
   "id": "c2d9de8e",
   "metadata": {},
   "source": [
    "---\n",
    "# Reto 2\n",
    "\n",
    "> En este caso, y partiendo de la solución anterior, ahora hay que trabajar con archivos. El objetivo es que listes todos los archivos JPEG que se encuentran en el directorio de descargas del usuario.\n",
    "\n",
    "> Tienes que tener en cuenta, que imágenes JPEG, son los .jpg o .jpeg o incluso JPEG por citarte algunas. Pero además en el listado se cumplirán las siguientes condiciones,\n",
    "> - Si en el nombre del archivo aparece un número, el nombre del achivo apararecerá en mayúsculas, mientras que si no tiene ningún número aparecerá en minúsculas.\n",
    "> - Además en ese listado, los que sean pares, tendrán una flecha delante, del tipo =>.\n",
    "\n",
    "> Como ves se trata de un reto sencillo, y que nos permitirá profundizar en bucles, módulos y otros temas similares.\n",
    "\n",
    "Este reto tiene una parte que ya está solucionada más arriba, en mis notas del reto 1. Es la parte de los archivos en JPG. Para extender las variaciones dentro de la extensión (jpeg, JPEG, jpg, etc.), tal vez pueda aplicar expresiones regulares. No sé si algo como jp*g funcionará, imagino que tendría que importar el módulo y ver cuál es la forma correcta. Y, de paso, tal vez tenga una forma de evitar el case sensitive sin recurrir a .lower().\n",
    "\n",
    "También habrá que hacer un bucle for para cada carácter dentro de cada archivo, un for i in str, para determinar si hay números. Aquí imagino que sí necesitaré expresiones regulares, ya que al ser str no puedo preguntar si hay int. Necesitaría filtrar con [0-9]. Si la respuesta es True: upper(str). \n",
    "\n",
    "Por último, hay varias formas de hacer algo con los elementos pares o impares. Se puede hacer con bucles while tanto con for. Por lo general, se determinan los pares cuando su index % 2 = 0. O bien podemos establecer un range(start, end, 2), pero no me acuerdo de si puedo usar el valor len(archivos) para determinar el end del range. \n",
    "\n",
    "Empecemos.\n",
    "\n",
    "Antes de andar jugueteando con mis directorios, voy a simular con una lista.\n"
   ]
  },
  {
   "cell_type": "code",
   "execution_count": 48,
   "id": "497099b2",
   "metadata": {},
   "outputs": [
    {
     "name": "stdout",
     "output_type": "stream",
     "text": [
      "<re.Match object; span=(6, 11), match='.JPEG'>\n",
      "prueba.JPEG \n",
      "---------------\n",
      "<re.Match object; span=(8, 12), match='.jpg'>\n",
      "imagen01.jpg\n",
      "<re.Match object; span=(12, 16), match='.JPG'>\n",
      "oso_trospido.JPG\n",
      "None\n",
      "<re.Match object; span=(11, 16), match='.JPEG'>\n",
      "Ashjkdaslkl.JPEG\n",
      "<re.Match object; span=(10, 15), match='.jpeg'>\n",
      "AKAKAKAKA9.jpeg\n",
      "<re.Match object; span=(11, 15), match='.jpg'>\n",
      "final_image.jpg\n"
     ]
    }
   ],
   "source": [
    "# Encontrar archivos cuya extensión coincida con .jpg y variantes:\n",
    "import re\n",
    "archivos = ['imagen01.jpg', 'oso_trospido.JPG', \"Karaoke.mp3\", 'Ashjkdaslkl.JPEG', 'AKAKAKAKA9.jpeg', 'final_image.jpg']\n",
    "patron = re.compile(r\"\\.jp[e]?g\", re.IGNORECASE)\n",
    "\n",
    "prueba = \"prueba.JPEG\"\n",
    "print(patron.search(prueba)) # No sé por qué, pero .match() me da siempre None.\n",
    "print(prueba, \"\\n---------------\")\n",
    "\n",
    "for i in archivos:\n",
    "    print(patron.search(i))\n",
    "    if patron.search(i):\n",
    "        print(i)\n",
    "\n"
   ]
  },
  {
   "cell_type": "code",
   "execution_count": 49,
   "id": "f74b6898",
   "metadata": {},
   "outputs": [
    {
     "name": "stdout",
     "output_type": "stream",
     "text": [
      "<re.Match object; span=(6, 7), match='5'>\n",
      "imagen5.jpg \n",
      "---------------\n",
      "IMAGEN01.JPG\n",
      "oso_trospido.JPG\n",
      "Ashjkdaslkl.JPEG\n",
      "AKAKAKAKA9.JPEG\n",
      "final_image.jpg\n"
     ]
    }
   ],
   "source": [
    "# Determinar si los archivos llevan números.\n",
    "# Si es True, ponerlo todo en mayúsculas.\n",
    "import re\n",
    "archivos = ['imagen01.jpg', 'oso_trospido.JPG',\n",
    "            'Ashjkdaslkl.JPEG', 'AKAKAKAKA9.jpeg', 'final_image.jpg']\n",
    "patron = re.compile(r\"[0-9]\", re.IGNORECASE)\n",
    "\n",
    "prueba = \"imagen5.jpg\"\n",
    "print(patron.search(prueba))\n",
    "print(prueba, \"\\n---------------\")\n",
    "\n",
    "for i in archivos:\n",
    "#    print(patron.search(i))\n",
    "    if patron.search(i):\n",
    "        print(i.upper())\n",
    "    else:\n",
    "        print(i)"
   ]
  },
  {
   "cell_type": "code",
   "execution_count": 54,
   "id": "649a101d",
   "metadata": {},
   "outputs": [
    {
     "name": "stdout",
     "output_type": "stream",
     "text": [
      "imagen01.jpg\n",
      "=>  oso_trospido.JPG\n",
      "Ashjkdaslkl.JPEG\n",
      "=>  AKAKAKAKA9.jpeg\n",
      "final_image.jpg\n"
     ]
    }
   ],
   "source": [
    "# Si es par, añadir una flecha.\n",
    "\n",
    "archivos = ['imagen01.jpg', 'oso_trospido.JPG',\n",
    "            'Ashjkdaslkl.JPEG', 'AKAKAKAKA9.jpeg', 'final_image.jpg']\n",
    "\n",
    "pos=0\n",
    "for i in archivos:\n",
    "    pos+=1\n",
    "    if pos%2==0:\n",
    "        print(\"=> \", i)\n",
    "    else:\n",
    "        print(i)        "
   ]
  },
  {
   "cell_type": "markdown",
   "id": "e5995502",
   "metadata": {},
   "source": [
    "Ya tendríamos prácticamente todo por separado. Vamos a ponerlo todo junto. "
   ]
  },
  {
   "cell_type": "code",
   "execution_count": 66,
   "id": "a33ae761",
   "metadata": {},
   "outputs": [
    {
     "name": "stdout",
     "output_type": "stream",
     "text": [
      "C:\\Users\\noave\\Downloads\n",
      "2021-06-10 AT 20.24.57.JPEG\n",
      "=> 808187.JPG\n",
      "images.jpg\n",
      "=> oso-trospido.jpg\n",
      "PEXELS-C-TECHNICAL-6636897.JPG\n",
      "=> punch-a-nazi.jpg\n",
      "sogadesedaymagia_tradingcard-wombo.jpg\n",
      "=> takashi-akira.jpg\n",
      "WHATSAPP IMAGE 2021-04-30 AT 21.14.49.JPEG\n"
     ]
    }
   ],
   "source": [
    "import os\n",
    "import re\n",
    "\n",
    "def get_download_folder():\n",
    "    home = os.path.expanduser(\"~\")\n",
    "    return os.path.join(home, \"Downloads\")\n",
    "\n",
    "print(get_download_folder())\n",
    "\n",
    "patronJPG = re.compile(r\"\\.jp[e]?g\", re.IGNORECASE)\n",
    "patronNum = re.compile(r\"[0-9]\", re.IGNORECASE)\n",
    "descargasDir = get_download_folder()\n",
    "\n",
    "contenido = os.listdir(descargasDir)\n",
    "imagenes = []\n",
    "for fichero in contenido:\n",
    "    if os.path.isfile(os.path.join(descargasDir, fichero)) and patronJPG.search(fichero):\n",
    "        imagenes.append(fichero)\n",
    "\n",
    "pos = 0\n",
    "\n",
    "for i in imagenes:\n",
    "    pos += 1\n",
    "    if pos % 2 == 0:\n",
    "        i = \"=> \" + i\n",
    "\n",
    "    if patronNum.search(i):\n",
    "        print(i.upper())\n",
    "    else:\n",
    "        print(i.lower())"
   ]
  },
  {
   "cell_type": "markdown",
   "id": "b492251b",
   "metadata": {},
   "source": [
    "¡Reto número 2 conseguido!"
   ]
  },
  {
   "cell_type": "markdown",
   "id": "a37e6b79",
   "metadata": {},
   "source": [
    "---\n",
    "\n",
    "`[Actualización 220307]`\n",
    "\n",
    "\n",
    "Al hacer Pull Request, Github me da el siguiente mensaje a través de [pep8speaks](https://github.com/pep8speaks):\n",
    "\n",
    "> Hello @NoaVelasco! Thanks for opening this PR. We checked the lines you've touched for PEP 8 issues, and found:\n",
    "\n",
    "    - In the file reto-01/NoaVelasco/reto01.py:\n",
    "\n",
    "    Line 3:1: E302 expected 2 blank lines, found 1\n",
    "    Line 4:9: E117 over-indented\n",
    "    Line 6:1: W293 blank line contains whitespace\n",
    "    Line 7:1: E305 expected 2 blank lines after class or function definition, found 1\n",
    "    Line 7:29: W291 trailing whitespace\n",
    "    Line 13:13: W292 no newline at end of file\n",
    "\n",
    "    - In the file reto-02/NoaVelasco/reto02.py:\n",
    "\n",
    "    Line 19:80: E501 line too long (89 > 79 characters)\n",
    "\n",
    "Así que he hecho algunos cambios para dejar el código lo mejor posible."
   ]
  },
  {
   "cell_type": "markdown",
   "id": "c3f1465e",
   "metadata": {},
   "source": [
    "## Otras opciones\n",
    "Atareao tiene cosillas interesantes en su código. \n",
    "Lo primero es la librería mimetypes, con la que podemos comparar archivos y ver si son de formato JPG en sus variantes. Él tiene esta parte de código (aquí lo he adaptado un poco):"
   ]
  },
  {
   "cell_type": "code",
   "execution_count": 1,
   "id": "f4817855",
   "metadata": {},
   "outputs": [
    {
     "name": "stdout",
     "output_type": "stream",
     "text": [
      "oso.jpg\n"
     ]
    }
   ],
   "source": [
    "import mimetypes\n",
    "\n",
    "mimetypes.init()\n",
    "\n",
    "listadearchivos=[\"oso.jpg\", \"documento.doc\"]\n",
    "\n",
    "for afile in listadearchivos:\n",
    "    \n",
    "    if mimetypes.guess_type(afile)[0] == \"image/jpeg\":\n",
    "        \n",
    "        print(afile)"
   ]
  },
  {
   "cell_type": "markdown",
   "id": "fb5f3cbe",
   "metadata": {},
   "source": [
    "# Reto 03\n",
    "\n",
    "Ahora que mas o menos tenemos controlado la opción de listar y gestionar todos los archivos que se encuentran en nuestro directorio de Descargas, ha llegado el momento de rizar el rizo. En lugar de utilizar el directorio de Descargas, vas a permitir que el usuario de tu aplicación pueda definir el directorio quiera.\n",
    "\n",
    "Para hacer esto necesitas un archivo de configuración donde guardar la información. En este caso, y como primer paso, solo vas a guardar un directorio. Para hacer esto, en este tercer reto vas a utilizar el formato TOML [Tom’s Obvious Minimal Language](https://github.com/toml-lang/toml).\n",
    "\n",
    "Así, el archivo de configuración tendrá el siguiente contenido\n",
    "\n",
    "`directorio = \"/home/lorenzo/Descargas\"`\n",
    "\n",
    "Así, el objetivo de este reto es crear el archivo de configuración en el caso de que no exista el mismo, y asignar como directorio el directorio por defecto el directorio de descargas, del primero de los retos.\n",
    "\n",
    "El archivo de configuración se tiene que encontrar en `/home/lorenzo/.config/diogenes/`, y su nombre será `diogenes.conf`.\n",
    "\n",
    "En el caso de que exista el archivo de configuración tiene que leer el contenido del mismo y listar los imágenes jpeg que se encuentran en él. En el caso de que no exista el directorio de las imágenes lo creará. Si no encuentra ninguna imagen, como es lógico no las listará claro."
   ]
  },
  {
   "cell_type": "markdown",
   "id": "994c46b7",
   "metadata": {},
   "source": [
    "Si no está creado, crear el archivo \n",
    "`/home/noave/.config/diogenes/diogenes.conf`\n",
    "\n",
    "con el contenido\n",
    "```\n",
    "\\```\n",
    "directorio = \"/home/noave/Descargas\"\n",
    "\\```\n",
    "```"
   ]
  },
  {
   "cell_type": "code",
   "execution_count": null,
   "id": "d19ae0c9",
   "metadata": {},
   "outputs": [],
   "source": [
    "from os import path\n",
    "\n",
    "## Cuidado, porque al importar os me da error\n",
    "## y se sobrepone al OPEN por defecto.\n",
    "\n",
    "rutaDiogenes = path.join(path.expanduser(\n",
    "    \"~\"), '.config\\diogenes\\diogenes.conf')\n",
    "\n",
    "if path.isfile(rutaDiogenes):\n",
    "    f = open(rutaDiogenes, \"r\")\n",
    "    print(f.read())\n",
    "else:\n",
    "    f = open(rutaDiogenes, \"w\")    \n",
    "    f.write('directorio = \"/home/noave/Descargas\"')\n",
    "    f.close()\n"
   ]
  },
  {
   "cell_type": "code",
   "execution_count": null,
   "id": "1ca41bdc",
   "metadata": {},
   "outputs": [],
   "source": [
    "## En Jupyter ya aparece cargado OS, pero así\n",
    "## no funcionará nunca porque dará siempre error:\n",
    "import os \n",
    "\n",
    "ruta2 = \"/TRABAJO/_Programación/\"\n",
    "\n",
    "print(listdir(ruta2))\n",
    "f = open(\"/TRABAJO/_Programación/prueba2.txt\", \"w\")\n",
    "\n",
    "f.write('prueba')\n",
    "f.close()\n"
   ]
  },
  {
   "cell_type": "markdown",
   "id": "781b5999",
   "metadata": {},
   "source": [
    "Si me aseguro de que no se carga la librería os, el código ya funciona y me abre y lee el archivo de configuración. Si no existe, me lo crea.\n",
    "\n",
    "La siguiente parte del reto consiste en que al leer la información del archivo de configuración sea capaz de tomar de ahí la dirección de descargas y listará todas las imágenes JPG que estén en dicho directorio. \n",
    "\n",
    "Para ello voy a usar el módulo mimetypes y tendré que hacer un listdir. "
   ]
  },
  {
   "cell_type": "code",
   "execution_count": 64,
   "id": "f77b47f4",
   "metadata": {},
   "outputs": [
    {
     "name": "stdout",
     "output_type": "stream",
     "text": [
      "<class 're.Match'>\n",
      "<re.Match object; span=(13, 36), match='\"/home/noave/Descargas\"'>\n",
      "/home/noave/Descargas\n"
     ]
    },
    {
     "ename": "FileNotFoundError",
     "evalue": "[WinError 3] El sistema no puede encontrar la ruta especificada: '/home/noave/Descargas'",
     "output_type": "error",
     "traceback": [
      "\u001b[1;31m---------------------------------------------------------------------------\u001b[0m",
      "\u001b[1;31mFileNotFoundError\u001b[0m                         Traceback (most recent call last)",
      "\u001b[1;32mc:\\Users\\noave\\Python\\RetosEjerExtr\\retosAtareao\\Retos-atareao.ipynb Cell 38'\u001b[0m in \u001b[0;36m<cell line: 15>\u001b[1;34m()\u001b[0m\n\u001b[0;32m     <a href='vscode-notebook-cell:/c%3A/Users/noave/Python/RetosEjerExtr/retosAtareao/Retos-atareao.ipynb#ch0000041?line=11'>12</a>\u001b[0m \u001b[39mprint\u001b[39m(dirJPG)\n\u001b[0;32m     <a href='vscode-notebook-cell:/c%3A/Users/noave/Python/RetosEjerExtr/retosAtareao/Retos-atareao.ipynb#ch0000041?line=13'>14</a>\u001b[0m \u001b[39mprint\u001b[39m(reemplazo2)\n\u001b[1;32m---> <a href='vscode-notebook-cell:/c%3A/Users/noave/Python/RetosEjerExtr/retosAtareao/Retos-atareao.ipynb#ch0000041?line=14'>15</a>\u001b[0m dirDesc\u001b[39m=\u001b[39mlistdir(reemplazo2)\n\u001b[0;32m     <a href='vscode-notebook-cell:/c%3A/Users/noave/Python/RetosEjerExtr/retosAtareao/Retos-atareao.ipynb#ch0000041?line=15'>16</a>\u001b[0m \u001b[39mprint\u001b[39m(dirDesc)\n",
      "\u001b[1;31mFileNotFoundError\u001b[0m: [WinError 3] El sistema no puede encontrar la ruta especificada: '/home/noave/Descargas'"
     ]
    }
   ],
   "source": [
    "import re\n",
    "\n",
    "patronDir = re.compile(r'\\\"(\\S+)\\\"')\n",
    "paraBuscar=('''directorio = \"/Users/noave/Downloads\"''')\n",
    "\n",
    "reemplazo1 = re.sub(r\"\"\"directorio\"\"\", \"\", paraBuscar)\n",
    "reemplazo2 = re.sub(r\"\"\"[ =\"]\"\"\", \"\", reemplazo1)\n",
    "\n",
    "dirJPG=patronDir.search(paraBuscar)\n",
    "\n",
    "print(type(dirJPG))\n",
    "print(dirJPG)\n",
    "\n",
    "print(reemplazo2)\n",
    "dirDesc=listdir(reemplazo2)\n",
    "print(dirDesc)"
   ]
  },
  {
   "cell_type": "code",
   "execution_count": 62,
   "id": "bf0cf3ef",
   "metadata": {},
   "outputs": [
    {
     "name": "stdout",
     "output_type": "stream",
     "text": [
      "['BBDD', 'Captura de pantalla 2022-02-17 130152.png', 'Certificado-Python-Codeliber.jpeg', 'Power_Shell', 'Python.lnk', '_Recursos']\n"
     ]
    },
    {
     "ename": "TypeError",
     "evalue": "'str' object cannot be interpreted as an integer",
     "output_type": "error",
     "traceback": [
      "\u001b[1;31m---------------------------------------------------------------------------\u001b[0m",
      "\u001b[1;31mTypeError\u001b[0m                                 Traceback (most recent call last)",
      "\u001b[1;32mc:\\Users\\noave\\Python\\RetosEjerExtr\\retosAtareao\\Retos-atareao.ipynb Cell 39'\u001b[0m in \u001b[0;36m<cell line: 5>\u001b[1;34m()\u001b[0m\n\u001b[0;32m      <a href='vscode-notebook-cell:/c%3A/Users/noave/Python/RetosEjerExtr/retosAtareao/Retos-atareao.ipynb#ch0000042?line=0'>1</a>\u001b[0m ruta2 \u001b[39m=\u001b[39m \u001b[39m\"\u001b[39m\u001b[39m/TRABAJO/_Programación/\u001b[39m\u001b[39m\"\u001b[39m\n\u001b[0;32m      <a href='vscode-notebook-cell:/c%3A/Users/noave/Python/RetosEjerExtr/retosAtareao/Retos-atareao.ipynb#ch0000042?line=2'>3</a>\u001b[0m \u001b[39mprint\u001b[39m(listdir(ruta2))\n\u001b[1;32m----> <a href='vscode-notebook-cell:/c%3A/Users/noave/Python/RetosEjerExtr/retosAtareao/Retos-atareao.ipynb#ch0000042?line=4'>5</a>\u001b[0m \u001b[39mwith\u001b[39;00m \u001b[39mopen\u001b[39m(\u001b[39m\"\u001b[39m\u001b[39m/TRABAJO/_Programación/prueba2.txt\u001b[39m\u001b[39m\"\u001b[39m, \u001b[39m\"\u001b[39m\u001b[39mw\u001b[39m\u001b[39m\"\u001b[39m) \u001b[39mas\u001b[39;00m f:\n\u001b[0;32m      <a href='vscode-notebook-cell:/c%3A/Users/noave/Python/RetosEjerExtr/retosAtareao/Retos-atareao.ipynb#ch0000042?line=6'>7</a>\u001b[0m     f\u001b[39m.\u001b[39mwrite(\u001b[39m'\u001b[39m\u001b[39mprueba\u001b[39m\u001b[39m'\u001b[39m)\n\u001b[0;32m      <a href='vscode-notebook-cell:/c%3A/Users/noave/Python/RetosEjerExtr/retosAtareao/Retos-atareao.ipynb#ch0000042?line=7'>8</a>\u001b[0m     f\u001b[39m.\u001b[39mclose()\n",
      "\u001b[1;31mTypeError\u001b[0m: 'str' object cannot be interpreted as an integer"
     ]
    }
   ],
   "source": [
    "ruta2 = \"/TRABAJO/_Programación/\"\n",
    "\n",
    "print(listdir(ruta2))\n",
    "\n",
    "with open(\"/TRABAJO/_Programación/prueba2.txt\", \"w\") as f:\n",
    "\n",
    "    f.write('prueba')\n",
    "    f.close()\n"
   ]
  },
  {
   "cell_type": "markdown",
   "id": "c34710ce",
   "metadata": {},
   "source": [
    "Reto 3; falla si el config tiene más líneas "
   ]
  },
  {
   "cell_type": "code",
   "execution_count": null,
   "id": "fffb8368",
   "metadata": {},
   "outputs": [],
   "source": [
    "# Python 3.10.2 UTF-8\n",
    "# Copyright (c) 2022, Noa Velasco\n",
    "\n",
    "# Para el proyecto \"reto-python\"\n",
    "# de Lorenzo Carbonell <a.k.a. atareao>\n",
    "\n",
    "import mimetypes\n",
    "from os import listdir, path\n",
    "import re\n",
    "\n",
    "\n",
    "def main():\n",
    "\n",
    "    rutaDiogenes = path.join(path.expanduser(\n",
    "        \"~\"), '.config\\diogenes\\diogenes.conf')\n",
    "\n",
    "    if path.isfile(rutaDiogenes):\n",
    "        with open(rutaDiogenes, \"r\") as f:\n",
    "            print(f.read())\n",
    "\n",
    "    else:\n",
    "        with open(rutaDiogenes, \"w\") as f:\n",
    "            f.write('directorio = \"/Users/noave/Downloads\"')\n",
    "\n",
    "    with open(rutaDiogenes, \"r\") as f:\n",
    "        dwnldDir = f.readline()\n",
    "\n",
    "    reemplazo1 = re.sub(r\"\"\"[ =\"]\"\"\", \"\", dwnldDir)\n",
    "    reemplazo2 = re.sub(r\"\"\"directorio\"\"\", \"\", reemplazo1)\n",
    "\n",
    "    listArchivos = listdir(reemplazo2)\n",
    "    for fichero in listArchivos:\n",
    "        if mimetypes.guess_type(fichero)[0] == \"image/jpeg\":\n",
    "            print(fichero)\n",
    "\n",
    "\n",
    "if __name__ == \"__main__\":\n",
    "    main()\n"
   ]
  },
  {
   "cell_type": "code",
   "execution_count": 3,
   "id": "6c651d8d",
   "metadata": {},
   "outputs": [
    {
     "name": "stdout",
     "output_type": "stream",
     "text": [
      "C:\\Users\\noave\\.config\\diogenes\\diogenes.conf\n"
     ]
    }
   ],
   "source": [
    "from os import path\n",
    "\n",
    "rutaDiogenes = path.join(path.expanduser(\n",
    "    \"~\"), '.config\\\\diogenes\\\\diogenes.conf')\n",
    "\n",
    "print(rutaDiogenes)\n"
   ]
  },
  {
   "cell_type": "markdown",
   "id": "f26658aa",
   "metadata": {},
   "source": [
    "### Reto 3 guarreado\n",
    "He visto que otros participantes sí han sabido implementar lo del TOML, pero de verdad que yo ya tengo bastante con que funcione regulinchi. "
   ]
  },
  {
   "cell_type": "code",
   "execution_count": null,
   "id": "2839ace4",
   "metadata": {},
   "outputs": [],
   "source": [
    "# Python 3.10.2 UTF-8\n",
    "# Copyright (c) 2022, Noa Velasco\n",
    "\n",
    "# Para el proyecto \"reto-python\" de Lorenzo Carbonell <a.k.a. atareao>\n",
    "\n",
    "import mimetypes  # Para los JPG\n",
    "from os import listdir, path  # Para manejar rutas\n",
    "import re  # Para buscar o reemplazar\n",
    "\n",
    "# No tengo la menor idea de qué es lo de TOML y no sé\n",
    "# si hay que implementar algo o cómo hacerlo.\n",
    "\n",
    "\n",
    "def main():\n",
    "\n",
    "    rutaDiogenes = path.join(path.expanduser(\n",
    "        \"~\"), '.config\\diogenes\\diogenes.conf')\n",
    "\n",
    "    # ¿Existe el archivo config? Si no, se crea:\n",
    "\n",
    "    if path.isfile(rutaDiogenes) == False:\n",
    "        with open(rutaDiogenes, \"w\") as f:\n",
    "            f.write('directorio = \"/Users/noave/Downloads\"')\n",
    "\n",
    "    # Se lee el archivo:\n",
    "\n",
    "    with open(rutaDiogenes, \"r\") as f:\n",
    "        dwnldDir = f.readline()\n",
    "\n",
    "    # No he sido capaz de obtener el resultado de un re.compile/re.search\n",
    "    # como string para usarlo como directorio. He tenido que hacer reemplazos,\n",
    "    # lo que es poco eficiente y elegante, pero aún no sé manejar el módulo re.\n",
    "\n",
    "    reemplazo1 = re.sub(r\"\"\"[ =\"]\"\"\", \"\", dwnldDir)\n",
    "    reemplazo2 = re.sub(r\"\"\"\\n\"\"\", \"\", reemplazo1)\n",
    "    reemplazo3 = re.sub(r\"\"\"directorio\"\"\", \"\", reemplazo2)\n",
    "\n",
    "    print(\n",
    "        f\"Imágenes JPG en el directorio '{reemplazo3}': \\n-----------------------------\")\n",
    "\n",
    "    # Si los archivos del directorio son JPG, mostrarlos uno a uno:\n",
    "\n",
    "    listArchivos = listdir(reemplazo3)\n",
    "    for fichero in listArchivos:\n",
    "        if mimetypes.guess_type(fichero)[0] == \"image/jpeg\":\n",
    "            print(fichero)\n",
    "\n",
    "\n",
    "if __name__ == \"__main__\":\n",
    "    main()\n"
   ]
  },
  {
   "cell_type": "markdown",
   "id": "a19aa646",
   "metadata": {},
   "source": [
    "---\n",
    "# Reto 05"
   ]
  },
  {
   "cell_type": "code",
   "execution_count": null,
   "id": "8f0392c1",
   "metadata": {},
   "outputs": [],
   "source": [
    "\n",
    "# Python 3.10.2 UTF-8\n",
    "# Para el \"reto-python\" de Lorenzo Carbonell <a.k.a. atareao>\n",
    "\n",
    "from pathlib import Path\n",
    "import os.path\n",
    "from configurator import Configurator\n",
    "from utils import list_images\n",
    "\n",
    "\n",
    "def step1(path, tomlconfig):\n",
    "    Configurator(path, tomlconfig)\n",
    "    conf = Configurator(path, tomlconfig).read()\n",
    "    print(conf)\n",
    "    return conf\n",
    "\n",
    "\n",
    "def step2(dictio):\n",
    "    for dir in dictio['directorios'].values():\n",
    "        print('=====', dir['in'], '=====')\n",
    "        list_images(Path(dir['in']))\n",
    "\n",
    "\n",
    "def main(app, tomlconf):\n",
    "    path = os.path.join(os.path.expanduser(\"~\"),\n",
    "                        '.config', app)\n",
    "    step1(path, tomlconf)\n",
    "    step2(step1())\n",
    "\n",
    "\n",
    "if __name__ == '__main__':\n",
    "    APP = \"diogenes\"\n",
    "    config = f\"{APP}.conf\"\n",
    "    main(APP, config)\n"
   ]
  }
 ],
 "metadata": {
  "kernelspec": {
   "display_name": "Python 3 (ipykernel)",
   "language": "python",
   "name": "python3"
  },
  "language_info": {
   "codemirror_mode": {
    "name": "ipython",
    "version": 3
   },
   "file_extension": ".py",
   "mimetype": "text/x-python",
   "name": "python",
   "nbconvert_exporter": "python",
   "pygments_lexer": "ipython3",
   "version": "3.10.2"
  }
 },
 "nbformat": 4,
 "nbformat_minor": 5
}
