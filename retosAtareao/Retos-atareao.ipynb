{
 "cells": [
  {
   "cell_type": "markdown",
   "id": "28b97047",
   "metadata": {},
   "source": [
    "# Reto 01\n",
    "\n",
    "> Consiste en encontrar la carpeta de descargas del usuario (independientemente de sus personalizaciones, tiene que funcionar si la tiene en otro lado o es un usuario cualquiera) y listar solo los archivos de la carpeta.\n"
   ]
  },
  {
   "cell_type": "markdown",
   "id": "7f691dea",
   "metadata": {},
   "source": [
    "Sacado de https://j2logo.com/python/listar-directorio-en-python/\n",
    "\n",
    "Para listar o recorrer un directorio:"
   ]
  },
  {
   "cell_type": "code",
   "execution_count": 2,
   "id": "9c5ec8d5",
   "metadata": {
    "scrolled": true
   },
   "outputs": [
    {
     "data": {
      "text/plain": [
       "['backupsTabGroupsFirefox',\n",
       " 'borrar-cuando-termine-reto.txt',\n",
       " 'desktop.ini',\n",
       " 'oso-trospido.jpg',\n",
       " 'Packs tipografías descargadas',\n",
       " 'Telegram Desktop',\n",
       " '_editores texto y código',\n",
       " '_Libros',\n",
       " '_Portátil',\n",
       " '_Servicios Editoriales',\n",
       " '_Varios']"
      ]
     },
     "execution_count": 2,
     "metadata": {},
     "output_type": "execute_result"
    }
   ],
   "source": [
    "import os\n",
    "contenido = os.listdir('/Users/noave/Downloads')\n",
    "contenido"
   ]
  },
  {
   "cell_type": "markdown",
   "id": "cfa4620d",
   "metadata": {},
   "source": [
    "El primer problema es que me muestra también todas las carpetas. El segundo, que aún no sé cómo encontrar un directorio con un comodín. Al parecer, en Windows requiere acceder al registro, pero he leído que hay otro método. "
   ]
  },
  {
   "cell_type": "markdown",
   "id": "cc4fb007",
   "metadata": {},
   "source": [
    "Para mostrar los archivos de tipo jpg de una carpeta:"
   ]
  },
  {
   "cell_type": "code",
   "execution_count": 3,
   "id": "9fc0fdd0",
   "metadata": {},
   "outputs": [
    {
     "name": "stdout",
     "output_type": "stream",
     "text": [
      "['oso-trospido.jpg']\n"
     ]
    }
   ],
   "source": [
    "import os\n",
    "ejemplo_dir = '/Users/noave/Downloads'\n",
    "contenido = os.listdir(ejemplo_dir)\n",
    "imagenes = []\n",
    "for fichero in contenido:\n",
    "    if os.path.isfile(os.path.join(ejemplo_dir, fichero)) and fichero.endswith('.jpg'):\n",
    "        imagenes.append(fichero)\n",
    "print(imagenes)"
   ]
  },
  {
   "cell_type": "markdown",
   "id": "8961c2ba",
   "metadata": {},
   "source": [
    "Con scandir() puedo listar los ficheros de un directorio. Es la opción recomendada."
   ]
  },
  {
   "cell_type": "code",
   "execution_count": 4,
   "id": "ebd469a4",
   "metadata": {},
   "outputs": [
    {
     "name": "stdout",
     "output_type": "stream",
     "text": [
      "backupsTabGroupsFirefox\n",
      "borrar-cuando-termine-reto.txt\n",
      "desktop.ini\n",
      "oso-trospido.jpg\n",
      "Telegram Desktop\n",
      "_editores texto y código\n",
      "_Libros\n",
      "_Portátil\n",
      "_Servicios Editoriales\n",
      "_Varios\n"
     ]
    }
   ],
   "source": [
    "import os\n",
    "ejemplo_dir = '/Users/noave/Downloads'\n",
    "with os.scandir(ejemplo_dir) as ficheros:\n",
    "    for fichero in ficheros:\n",
    "        print(fichero.name)"
   ]
  },
  {
   "cell_type": "markdown",
   "id": "be4e243d",
   "metadata": {},
   "source": [
    "Y también está iterdir() del módulo pathlib, también recomendado y que permite filtrar con is_file() o is_dir()."
   ]
  },
  {
   "cell_type": "code",
   "execution_count": 5,
   "id": "5b65b1bc",
   "metadata": {},
   "outputs": [
    {
     "name": "stdout",
     "output_type": "stream",
     "text": [
      "backupsTabGroupsFirefox\n",
      "borrar-cuando-termine-reto.txt\n",
      "desktop.ini\n",
      "oso-trospido.jpg\n",
      "Telegram Desktop\n",
      "_editores texto y código\n",
      "_Libros\n",
      "_Portátil\n",
      "_Servicios Editoriales\n",
      "_Varios\n"
     ]
    }
   ],
   "source": [
    "import pathlib\n",
    "ejemplo_dir = '/Users/noave/Downloads'\n",
    "directorio = pathlib.Path(ejemplo_dir)\n",
    "for fichero in directorio.iterdir():\n",
    "    print(fichero.name)"
   ]
  },
  {
   "cell_type": "markdown",
   "id": "7671fa86",
   "metadata": {},
   "source": [
    "Para recorrer solo los ficheros de un directorio, dos métodos con lo que hemos visto. "
   ]
  },
  {
   "cell_type": "code",
   "execution_count": 7,
   "id": "91e1bdeb",
   "metadata": {},
   "outputs": [
    {
     "name": "stdout",
     "output_type": "stream",
     "text": [
      "['borrar-cuando-termine-reto.txt', 'desktop.ini', 'oso-trospido.jpg']\n"
     ]
    }
   ],
   "source": [
    "import os\n",
    "ejemplo_dir = '/Users/noave/Downloads'\n",
    "with os.scandir(ejemplo_dir) as ficheros:\n",
    "    ficheros = [fichero.name for fichero in ficheros if fichero.is_file()]\n",
    "print(ficheros)"
   ]
  },
  {
   "cell_type": "code",
   "execution_count": 14,
   "id": "a28ca54e",
   "metadata": {},
   "outputs": [
    {
     "name": "stdout",
     "output_type": "stream",
     "text": [
      "borrar-cuando-termine-reto.txt\n",
      "desktop.ini\n",
      "oso-trospido.jpg\n"
     ]
    }
   ],
   "source": [
    "import pathlib\n",
    "\n",
    "ejemplo_dir = '/Users/noave/Downloads/'\n",
    "\n",
    "directorio = pathlib.Path(ejemplo_dir)\n",
    "ficheros = [fichero.name for fichero in directorio.iterdir() if fichero.is_file()]\n",
    "for i in ficheros:\n",
    "    print(i)"
   ]
  },
  {
   "cell_type": "code",
   "execution_count": 10,
   "id": "330cbf51",
   "metadata": {},
   "outputs": [
    {
     "name": "stdout",
     "output_type": "stream",
     "text": [
      "['backupsTabGroupsFirefox', 'Telegram Desktop', '_editores texto y código', '_Libros', '_Portátil', '_Servicios Editoriales', '_Varios']\n"
     ]
    }
   ],
   "source": [
    "#Y si solo queremos las carpetas:\n",
    "\n",
    "import os\n",
    "ejemplo_dir = '/Users/noave/Downloads/'\n",
    "with os.scandir(ejemplo_dir) as ficheros:\n",
    "    subdirectorios = [fichero.name for fichero in ficheros if fichero.is_dir()]\n",
    "print(subdirectorios)"
   ]
  },
  {
   "cell_type": "markdown",
   "id": "08a65934",
   "metadata": {},
   "source": [
    "Pues ya tenemos un ganador. Ahora solo nos falta descubrir la manera de que Python encuentre la carpeta de descargas, esté donde esté. "
   ]
  },
  {
   "cell_type": "code",
   "execution_count": 18,
   "id": "e64e75a7",
   "metadata": {},
   "outputs": [
    {
     "name": "stdout",
     "output_type": "stream",
     "text": [
      "C:\\Users\\noave\\Python\n"
     ]
    }
   ],
   "source": [
    "DIRECTORIO_BASE_2 = os.getcwd()\n",
    "print(DIRECTORIO_BASE_2)\n"
   ]
  },
  {
   "cell_type": "markdown",
   "id": "e1cc3f03",
   "metadata": {},
   "source": [
    "Se me ha ocurrido que a lo mejor puedo aprovechar la información del archivo desktop.ini. A lo mejor tiene info común independientemente de la ruta y el nombre de usuario. Esto es lo que ponía:"
   ]
  },
  {
   "cell_type": "code",
   "execution_count": 19,
   "id": "1ed46093",
   "metadata": {},
   "outputs": [
    {
     "ename": "SyntaxError",
     "evalue": "invalid syntax (Temp/ipykernel_3664/3758580414.py, line 1)",
     "output_type": "error",
     "traceback": [
      "\u001b[1;36m  File \u001b[1;32m\"C:\\Users\\noave\\AppData\\Local\\Temp/ipykernel_3664/3758580414.py\"\u001b[1;36m, line \u001b[1;32m1\u001b[0m\n\u001b[1;33m    [.ShellClassInfo]\u001b[0m\n\u001b[1;37m     ^\u001b[0m\n\u001b[1;31mSyntaxError\u001b[0m\u001b[1;31m:\u001b[0m invalid syntax\n"
     ]
    }
   ],
   "source": [
    "[.ShellClassInfo]\n",
    "LocalizedResourceName=@%SystemRoot%\\system32\\shell32.dll,-21798\n",
    "IconResource=%SystemRoot%\\system32\\imageres.dll,-184"
   ]
  },
  {
   "cell_type": "markdown",
   "id": "24ffe8a7",
   "metadata": {},
   "source": [
    "https://stackoverflow.com/questions/35851281/python-finding-the-users-downloads-folder\n",
    "Alguien dio esta posible solución, pero como toca registro, no me atrevo a meterla tal cual:\n",
    "\n",
    "\"\"\"import os\n",
    "\n",
    "def get_download_path():\n",
    "    \"\"\"Returns the default downloads path for linux or windows\"\"\"\n",
    "    if os.name == 'nt':\n",
    "        import winreg\n",
    "        sub_key = r'SOFTWARE\\Microsoft\\Windows\\CurrentVersion\\Explorer\\Shell Folders'\n",
    "        downloads_guid = '{374DE290-123F-4565-9164-39C4925E467B}'\n",
    "        with winreg.OpenKey(winreg.HKEY_CURRENT_USER, sub_key) as key:\n",
    "            location = winreg.QueryValueEx(key, downloads_guid)[0]\n",
    "        return location\n",
    "    else:\n",
    "        return os.path.join(os.path.expanduser('~'), 'downloads')\"\"\"\n",
    "\n",
    "Este me inspira más confianza, aunque de novatos mis cojones:\n",
    "\n",
    "\"\"\"import os\n",
    "\n",
    "if os.name == 'nt':\n",
    "    import ctypes\n",
    "    from ctypes import windll, wintypes\n",
    "    from uuid import UUID\n",
    "\n",
    "    #ctypes GUID copied from MSDN sample code\n",
    "    class GUID(ctypes.Structure):\n",
    "        _fields_ = [\n",
    "            (\"Data1\", wintypes.DWORD),\n",
    "            (\"Data2\", wintypes.WORD),\n",
    "            (\"Data3\", wintypes.WORD),\n",
    "            (\"Data4\", wintypes.BYTE * 8)\n",
    "        ] \n",
    "\n",
    "        def __init__(self, uuidstr):\n",
    "            uuid = UUID(uuidstr)\n",
    "            ctypes.Structure.__init__(self)\n",
    "            self.Data1, self.Data2, self.Data3, \\\n",
    "                self.Data4[0], self.Data4[1], rest = uuid.fields\n",
    "            for i in range(2, 8):\n",
    "                self.Data4[i] = rest>>(8-i-1)*8 & 0xff\n",
    "\n",
    "    SHGetKnownFolderPath = windll.shell32.SHGetKnownFolderPath\n",
    "    SHGetKnownFolderPath.argtypes = [\n",
    "        ctypes.POINTER(GUID), wintypes.DWORD,\n",
    "        wintypes.HANDLE, ctypes.POINTER(ctypes.c_wchar_p)\n",
    "    ]\n",
    "\n",
    "    def _get_known_folder_path(uuidstr):\n",
    "        pathptr = ctypes.c_wchar_p()\n",
    "        guid = GUID(uuidstr)\n",
    "        if SHGetKnownFolderPath(ctypes.byref(guid), 0, 0, ctypes.byref(pathptr)):\n",
    "            raise ctypes.WinError()\n",
    "        return pathptr.value\n",
    "\n",
    "    FOLDERID_Download = '{374DE290-123F-4565-9164-39C4925E467B}'\n",
    "\n",
    "    def get_download_folder():\n",
    "        return _get_known_folder_path(FOLDERID_Download)\n",
    "else:\n",
    "    def get_download_folder():\n",
    "        home = os.path.expanduser(\"~\")\n",
    "        return os.path.join(home, \"Downloads\")\n",
    "        \n",
    "print(get_download_folder())\"\"\"\n",
    "        "
   ]
  },
  {
   "cell_type": "code",
   "execution_count": 23,
   "id": "c95f260e",
   "metadata": {},
   "outputs": [
    {
     "name": "stdout",
     "output_type": "stream",
     "text": [
      "C:\\Users\\noave\\Downloads\n"
     ]
    }
   ],
   "source": [
    "def get_download_folder():\n",
    "        home = os.path.expanduser(\"~\")\n",
    "        return os.path.join(home, \"Downloads\")\n",
    "        \n",
    "print(get_download_folder())"
   ]
  },
  {
   "cell_type": "markdown",
   "id": "2430ff16",
   "metadata": {},
   "source": [
    "Vale, me ha funcionado. Supongo que si moviese la carpeta a otra parte, dejaría de funcionar (en realidad es la ruta por defecto home+downloads). Pero ya es algo. \n",
    "\n",
    "Ahora solo me falta… Hacer que imprima los archivos de ese directorio. "
   ]
  },
  {
   "cell_type": "code",
   "execution_count": 25,
   "id": "9116c9ac",
   "metadata": {},
   "outputs": [
    {
     "name": "stdout",
     "output_type": "stream",
     "text": [
      "C:\\Users\\noave\\Downloads\n",
      "borrar-cuando-termine-reto.txt\n",
      "desktop.ini\n",
      "oso-trospido.jpg\n"
     ]
    }
   ],
   "source": [
    "def get_download_folder():\n",
    "        home = os.path.expanduser(\"~\")\n",
    "        return os.path.join(home, \"Downloads\")\n",
    "    \n",
    "print(get_download_folder())        \n",
    "\n",
    "import pathlib\n",
    "\n",
    "ejemplo_dir = get_download_folder()\n",
    "\n",
    "directorio = pathlib.Path(ejemplo_dir)\n",
    "ficheros = [fichero.name for fichero in directorio.iterdir() if fichero.is_file()]\n",
    "for i in ficheros:\n",
    "    print(i)"
   ]
  },
  {
   "cell_type": "markdown",
   "id": "3f45f3ff",
   "metadata": {},
   "source": [
    "Reto conseguido. ¿Funcionará con otros usuarios?"
   ]
  },
  {
   "cell_type": "code",
   "execution_count": 26,
   "id": "aa5f84b2",
   "metadata": {},
   "outputs": [
    {
     "name": "stdout",
     "output_type": "stream",
     "text": [
      "C:\\Users\\noave\\Downloads\n",
      "borrar-cuando-termine-reto.txt\n",
      "desktop.ini\n",
      "oso-trospido.jpg\n"
     ]
    }
   ],
   "source": [
    "import os\n",
    "\n",
    "def get_download_folder():\n",
    "        home = os.path.expanduser(\"~\")\n",
    "        return os.path.join(home, \"Downloads\")\n",
    "    \n",
    "print(get_download_folder()) \n",
    "\n",
    "ejemplo_dir = '/Users/noave/Downloads'\n",
    "with os.scandir(ejemplo_dir) as ficheros:\n",
    "    ficheros = [fichero.name for fichero in ficheros if fichero.is_file()]\n",
    "for i in ficheros:\n",
    "    print(i)"
   ]
  }
 ],
 "metadata": {
  "kernelspec": {
   "display_name": "Python 3 (ipykernel)",
   "language": "python",
   "name": "python3"
  },
  "language_info": {
   "codemirror_mode": {
    "name": "ipython",
    "version": 3
   },
   "file_extension": ".py",
   "mimetype": "text/x-python",
   "name": "python",
   "nbconvert_exporter": "python",
   "pygments_lexer": "ipython3",
   "version": "3.9.7"
  }
 },
 "nbformat": 4,
 "nbformat_minor": 5
}
